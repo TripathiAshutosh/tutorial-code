{
  "cells": [
    {
      "cell_type": "markdown",
      "metadata": {
        "id": "view-in-github",
        "colab_type": "text"
      },
      "source": [
        "<a href=\"https://colab.research.google.com/github/TripathiAshutosh/tutorial-code/blob/master/Data_Preprocessing.ipynb\" target=\"_parent\"><img src=\"https://colab.research.google.com/assets/colab-badge.svg\" alt=\"Open In Colab\"/></a>"
      ]
    },
    {
      "cell_type": "code",
      "execution_count": 1,
      "metadata": {
        "id": "uzuSwYG_NN0S"
      },
      "outputs": [],
      "source": [
        "import pandas as pd\n",
        "import numpy as np"
      ]
    },
    {
      "cell_type": "code",
      "source": [
        "pwd"
      ],
      "metadata": {
        "colab": {
          "base_uri": "https://localhost:8080/",
          "height": 35
        },
        "id": "F_mykxqgNwGc",
        "outputId": "b1955cde-cea4-448b-fe8b-b99228bb6db9"
      },
      "execution_count": 9,
      "outputs": [
        {
          "output_type": "execute_result",
          "data": {
            "text/plain": [
              "'/content'"
            ],
            "application/vnd.google.colaboratory.intrinsic+json": {
              "type": "string"
            }
          },
          "metadata": {},
          "execution_count": 9
        }
      ]
    },
    {
      "cell_type": "code",
      "execution_count": 2,
      "metadata": {
        "id": "khtO6adaNN0U"
      },
      "outputs": [],
      "source": [
        "german_credit_1 = pd.read_csv(\"./German-Credit_1.csv\")"
      ]
    },
    {
      "cell_type": "code",
      "execution_count": 3,
      "metadata": {
        "id": "48ycXpWkNN0W"
      },
      "outputs": [],
      "source": [
        "german_credit_2 = pd.read_csv(\"./German-Credit_2.csv\")"
      ]
    },
    {
      "cell_type": "code",
      "execution_count": 4,
      "metadata": {
        "id": "1WBpW0BpNN0W"
      },
      "outputs": [],
      "source": [
        "df3 = german_credit_1.merge(german_credit_2,on=['OBS'])"
      ]
    },
    {
      "cell_type": "code",
      "execution_count": 5,
      "metadata": {
        "id": "QndlbCd_NN0W"
      },
      "outputs": [],
      "source": [
        "num_attr = [\"DURATION\",\"AMOUNT\",\"INSTALL_RATE\",\"AGE\",\"NUM_CREDITS\",\"NUM_DEPENDENTS\"]"
      ]
    },
    {
      "cell_type": "code",
      "execution_count": 6,
      "metadata": {
        "id": "7Ild7kAuNN0X"
      },
      "outputs": [],
      "source": [
        "cat_attr = [i for i in df3.columns.values if i not in num_attr]"
      ]
    },
    {
      "cell_type": "code",
      "execution_count": 7,
      "metadata": {
        "id": "3YaZtlrkNN0Y"
      },
      "outputs": [],
      "source": [
        "def convert_to_string(dataset,col_names_to_convert):\n",
        "    for i in col_names_to_convert:\n",
        "        dataset[i] = dataset[i].astype(str)\n",
        "    return(dataset)"
      ]
    },
    {
      "cell_type": "code",
      "execution_count": 8,
      "metadata": {
        "colab": {
          "base_uri": "https://localhost:8080/"
        },
        "id": "YSfFvP6MNN0Y",
        "outputId": "7939d000-3326-462d-f3ff-a8a4b64e4e72"
      },
      "outputs": [
        {
          "output_type": "execute_result",
          "data": {
            "text/plain": [
              "OBS                   int64\n",
              "DURATION            float64\n",
              "NEW_CAR             float64\n",
              "USED_CAR            float64\n",
              "FURNITURE           float64\n",
              "RADIO_TV            float64\n",
              "EDUCATION           float64\n",
              "RETRAINING          float64\n",
              "AMOUNT              float64\n",
              "INSTALL_RATE        float64\n",
              "CO_APPLICANT        float64\n",
              "GUARANTOR           float64\n",
              "REAL_ESTATE         float64\n",
              "PROP_UNKN_NONE      float64\n",
              "AGE                 float64\n",
              "OTHER_INSTALL       float64\n",
              "RENT                float64\n",
              "OWN_RES             float64\n",
              "NUM_CREDITS         float64\n",
              "NUM_DEPENDENTS      float64\n",
              "TELEPHONE           float64\n",
              "FOREIGN             float64\n",
              "RESPONSE            float64\n",
              "CHK_ACCT              int64\n",
              "HISTORY               int64\n",
              "SAV_ACCT              int64\n",
              "EMPLOYMENT            int64\n",
              "PRESENT_RESIDENT      int64\n",
              "JOB                   int64\n",
              "dtype: object"
            ]
          },
          "metadata": {},
          "execution_count": 8
        }
      ],
      "source": [
        "df3.dtypes"
      ]
    },
    {
      "cell_type": "code",
      "execution_count": 10,
      "metadata": {
        "id": "THDM0f27NN0Z"
      },
      "outputs": [],
      "source": [
        "df3 = convert_to_string(df3,col_names_to_convert=cat_attr)"
      ]
    },
    {
      "cell_type": "markdown",
      "metadata": {
        "id": "NqGHndtWNN0a"
      },
      "source": [
        "## Handling Missing Values"
      ]
    },
    {
      "cell_type": "code",
      "execution_count": 11,
      "metadata": {
        "colab": {
          "base_uri": "https://localhost:8080/",
          "height": 1000
        },
        "id": "SHtPyF2SNN0b",
        "outputId": "6f286bd4-cde6-464b-d3df-7b62955fe44e"
      },
      "outputs": [
        {
          "output_type": "execute_result",
          "data": {
            "text/plain": [
              "       OBS  DURATION  NEW_CAR  USED_CAR  FURNITURE  RADIO_TV  EDUCATION  \\\n",
              "0    False     False    False     False      False     False      False   \n",
              "1    False     False    False     False      False     False      False   \n",
              "2    False     False    False     False      False     False      False   \n",
              "3    False     False    False     False      False     False      False   \n",
              "4    False     False    False     False      False     False      False   \n",
              "..     ...       ...      ...       ...        ...       ...        ...   \n",
              "995  False     False    False     False      False     False      False   \n",
              "996  False     False    False     False      False     False      False   \n",
              "997  False     False    False     False      False     False      False   \n",
              "998  False     False    False     False      False     False      False   \n",
              "999  False     False    False     False      False     False      False   \n",
              "\n",
              "     RETRAINING  AMOUNT  INSTALL_RATE  ...  NUM_DEPENDENTS  TELEPHONE  \\\n",
              "0         False   False         False  ...           False      False   \n",
              "1         False   False         False  ...           False      False   \n",
              "2         False   False         False  ...           False      False   \n",
              "3         False   False         False  ...           False      False   \n",
              "4         False   False         False  ...           False      False   \n",
              "..          ...     ...           ...  ...             ...        ...   \n",
              "995       False    True          True  ...            True      False   \n",
              "996       False   False         False  ...           False      False   \n",
              "997       False   False         False  ...           False      False   \n",
              "998       False   False         False  ...           False      False   \n",
              "999       False    True         False  ...           False      False   \n",
              "\n",
              "     FOREIGN  RESPONSE  CHK_ACCT  HISTORY  SAV_ACCT  EMPLOYMENT  \\\n",
              "0      False     False     False    False     False       False   \n",
              "1      False     False     False    False     False       False   \n",
              "2      False     False     False    False     False       False   \n",
              "3      False     False     False    False     False       False   \n",
              "4      False     False     False    False     False       False   \n",
              "..       ...       ...       ...      ...       ...         ...   \n",
              "995    False     False     False    False     False       False   \n",
              "996    False     False     False    False     False       False   \n",
              "997    False     False     False    False     False       False   \n",
              "998    False     False     False    False     False       False   \n",
              "999    False     False     False    False     False       False   \n",
              "\n",
              "     PRESENT_RESIDENT    JOB  \n",
              "0               False  False  \n",
              "1               False  False  \n",
              "2               False  False  \n",
              "3               False  False  \n",
              "4               False  False  \n",
              "..                ...    ...  \n",
              "995             False  False  \n",
              "996             False  False  \n",
              "997             False  False  \n",
              "998             False  False  \n",
              "999             False  False  \n",
              "\n",
              "[1000 rows x 29 columns]"
            ],
            "text/html": [
              "\n",
              "\n",
              "  <div id=\"df-3e0fcc8a-ee08-4765-a43f-45971b06bf63\">\n",
              "    <div class=\"colab-df-container\">\n",
              "      <div>\n",
              "<style scoped>\n",
              "    .dataframe tbody tr th:only-of-type {\n",
              "        vertical-align: middle;\n",
              "    }\n",
              "\n",
              "    .dataframe tbody tr th {\n",
              "        vertical-align: top;\n",
              "    }\n",
              "\n",
              "    .dataframe thead th {\n",
              "        text-align: right;\n",
              "    }\n",
              "</style>\n",
              "<table border=\"1\" class=\"dataframe\">\n",
              "  <thead>\n",
              "    <tr style=\"text-align: right;\">\n",
              "      <th></th>\n",
              "      <th>OBS</th>\n",
              "      <th>DURATION</th>\n",
              "      <th>NEW_CAR</th>\n",
              "      <th>USED_CAR</th>\n",
              "      <th>FURNITURE</th>\n",
              "      <th>RADIO_TV</th>\n",
              "      <th>EDUCATION</th>\n",
              "      <th>RETRAINING</th>\n",
              "      <th>AMOUNT</th>\n",
              "      <th>INSTALL_RATE</th>\n",
              "      <th>...</th>\n",
              "      <th>NUM_DEPENDENTS</th>\n",
              "      <th>TELEPHONE</th>\n",
              "      <th>FOREIGN</th>\n",
              "      <th>RESPONSE</th>\n",
              "      <th>CHK_ACCT</th>\n",
              "      <th>HISTORY</th>\n",
              "      <th>SAV_ACCT</th>\n",
              "      <th>EMPLOYMENT</th>\n",
              "      <th>PRESENT_RESIDENT</th>\n",
              "      <th>JOB</th>\n",
              "    </tr>\n",
              "  </thead>\n",
              "  <tbody>\n",
              "    <tr>\n",
              "      <th>0</th>\n",
              "      <td>False</td>\n",
              "      <td>False</td>\n",
              "      <td>False</td>\n",
              "      <td>False</td>\n",
              "      <td>False</td>\n",
              "      <td>False</td>\n",
              "      <td>False</td>\n",
              "      <td>False</td>\n",
              "      <td>False</td>\n",
              "      <td>False</td>\n",
              "      <td>...</td>\n",
              "      <td>False</td>\n",
              "      <td>False</td>\n",
              "      <td>False</td>\n",
              "      <td>False</td>\n",
              "      <td>False</td>\n",
              "      <td>False</td>\n",
              "      <td>False</td>\n",
              "      <td>False</td>\n",
              "      <td>False</td>\n",
              "      <td>False</td>\n",
              "    </tr>\n",
              "    <tr>\n",
              "      <th>1</th>\n",
              "      <td>False</td>\n",
              "      <td>False</td>\n",
              "      <td>False</td>\n",
              "      <td>False</td>\n",
              "      <td>False</td>\n",
              "      <td>False</td>\n",
              "      <td>False</td>\n",
              "      <td>False</td>\n",
              "      <td>False</td>\n",
              "      <td>False</td>\n",
              "      <td>...</td>\n",
              "      <td>False</td>\n",
              "      <td>False</td>\n",
              "      <td>False</td>\n",
              "      <td>False</td>\n",
              "      <td>False</td>\n",
              "      <td>False</td>\n",
              "      <td>False</td>\n",
              "      <td>False</td>\n",
              "      <td>False</td>\n",
              "      <td>False</td>\n",
              "    </tr>\n",
              "    <tr>\n",
              "      <th>2</th>\n",
              "      <td>False</td>\n",
              "      <td>False</td>\n",
              "      <td>False</td>\n",
              "      <td>False</td>\n",
              "      <td>False</td>\n",
              "      <td>False</td>\n",
              "      <td>False</td>\n",
              "      <td>False</td>\n",
              "      <td>False</td>\n",
              "      <td>False</td>\n",
              "      <td>...</td>\n",
              "      <td>False</td>\n",
              "      <td>False</td>\n",
              "      <td>False</td>\n",
              "      <td>False</td>\n",
              "      <td>False</td>\n",
              "      <td>False</td>\n",
              "      <td>False</td>\n",
              "      <td>False</td>\n",
              "      <td>False</td>\n",
              "      <td>False</td>\n",
              "    </tr>\n",
              "    <tr>\n",
              "      <th>3</th>\n",
              "      <td>False</td>\n",
              "      <td>False</td>\n",
              "      <td>False</td>\n",
              "      <td>False</td>\n",
              "      <td>False</td>\n",
              "      <td>False</td>\n",
              "      <td>False</td>\n",
              "      <td>False</td>\n",
              "      <td>False</td>\n",
              "      <td>False</td>\n",
              "      <td>...</td>\n",
              "      <td>False</td>\n",
              "      <td>False</td>\n",
              "      <td>False</td>\n",
              "      <td>False</td>\n",
              "      <td>False</td>\n",
              "      <td>False</td>\n",
              "      <td>False</td>\n",
              "      <td>False</td>\n",
              "      <td>False</td>\n",
              "      <td>False</td>\n",
              "    </tr>\n",
              "    <tr>\n",
              "      <th>4</th>\n",
              "      <td>False</td>\n",
              "      <td>False</td>\n",
              "      <td>False</td>\n",
              "      <td>False</td>\n",
              "      <td>False</td>\n",
              "      <td>False</td>\n",
              "      <td>False</td>\n",
              "      <td>False</td>\n",
              "      <td>False</td>\n",
              "      <td>False</td>\n",
              "      <td>...</td>\n",
              "      <td>False</td>\n",
              "      <td>False</td>\n",
              "      <td>False</td>\n",
              "      <td>False</td>\n",
              "      <td>False</td>\n",
              "      <td>False</td>\n",
              "      <td>False</td>\n",
              "      <td>False</td>\n",
              "      <td>False</td>\n",
              "      <td>False</td>\n",
              "    </tr>\n",
              "    <tr>\n",
              "      <th>...</th>\n",
              "      <td>...</td>\n",
              "      <td>...</td>\n",
              "      <td>...</td>\n",
              "      <td>...</td>\n",
              "      <td>...</td>\n",
              "      <td>...</td>\n",
              "      <td>...</td>\n",
              "      <td>...</td>\n",
              "      <td>...</td>\n",
              "      <td>...</td>\n",
              "      <td>...</td>\n",
              "      <td>...</td>\n",
              "      <td>...</td>\n",
              "      <td>...</td>\n",
              "      <td>...</td>\n",
              "      <td>...</td>\n",
              "      <td>...</td>\n",
              "      <td>...</td>\n",
              "      <td>...</td>\n",
              "      <td>...</td>\n",
              "      <td>...</td>\n",
              "    </tr>\n",
              "    <tr>\n",
              "      <th>995</th>\n",
              "      <td>False</td>\n",
              "      <td>False</td>\n",
              "      <td>False</td>\n",
              "      <td>False</td>\n",
              "      <td>False</td>\n",
              "      <td>False</td>\n",
              "      <td>False</td>\n",
              "      <td>False</td>\n",
              "      <td>True</td>\n",
              "      <td>True</td>\n",
              "      <td>...</td>\n",
              "      <td>True</td>\n",
              "      <td>False</td>\n",
              "      <td>False</td>\n",
              "      <td>False</td>\n",
              "      <td>False</td>\n",
              "      <td>False</td>\n",
              "      <td>False</td>\n",
              "      <td>False</td>\n",
              "      <td>False</td>\n",
              "      <td>False</td>\n",
              "    </tr>\n",
              "    <tr>\n",
              "      <th>996</th>\n",
              "      <td>False</td>\n",
              "      <td>False</td>\n",
              "      <td>False</td>\n",
              "      <td>False</td>\n",
              "      <td>False</td>\n",
              "      <td>False</td>\n",
              "      <td>False</td>\n",
              "      <td>False</td>\n",
              "      <td>False</td>\n",
              "      <td>False</td>\n",
              "      <td>...</td>\n",
              "      <td>False</td>\n",
              "      <td>False</td>\n",
              "      <td>False</td>\n",
              "      <td>False</td>\n",
              "      <td>False</td>\n",
              "      <td>False</td>\n",
              "      <td>False</td>\n",
              "      <td>False</td>\n",
              "      <td>False</td>\n",
              "      <td>False</td>\n",
              "    </tr>\n",
              "    <tr>\n",
              "      <th>997</th>\n",
              "      <td>False</td>\n",
              "      <td>False</td>\n",
              "      <td>False</td>\n",
              "      <td>False</td>\n",
              "      <td>False</td>\n",
              "      <td>False</td>\n",
              "      <td>False</td>\n",
              "      <td>False</td>\n",
              "      <td>False</td>\n",
              "      <td>False</td>\n",
              "      <td>...</td>\n",
              "      <td>False</td>\n",
              "      <td>False</td>\n",
              "      <td>False</td>\n",
              "      <td>False</td>\n",
              "      <td>False</td>\n",
              "      <td>False</td>\n",
              "      <td>False</td>\n",
              "      <td>False</td>\n",
              "      <td>False</td>\n",
              "      <td>False</td>\n",
              "    </tr>\n",
              "    <tr>\n",
              "      <th>998</th>\n",
              "      <td>False</td>\n",
              "      <td>False</td>\n",
              "      <td>False</td>\n",
              "      <td>False</td>\n",
              "      <td>False</td>\n",
              "      <td>False</td>\n",
              "      <td>False</td>\n",
              "      <td>False</td>\n",
              "      <td>False</td>\n",
              "      <td>False</td>\n",
              "      <td>...</td>\n",
              "      <td>False</td>\n",
              "      <td>False</td>\n",
              "      <td>False</td>\n",
              "      <td>False</td>\n",
              "      <td>False</td>\n",
              "      <td>False</td>\n",
              "      <td>False</td>\n",
              "      <td>False</td>\n",
              "      <td>False</td>\n",
              "      <td>False</td>\n",
              "    </tr>\n",
              "    <tr>\n",
              "      <th>999</th>\n",
              "      <td>False</td>\n",
              "      <td>False</td>\n",
              "      <td>False</td>\n",
              "      <td>False</td>\n",
              "      <td>False</td>\n",
              "      <td>False</td>\n",
              "      <td>False</td>\n",
              "      <td>False</td>\n",
              "      <td>True</td>\n",
              "      <td>False</td>\n",
              "      <td>...</td>\n",
              "      <td>False</td>\n",
              "      <td>False</td>\n",
              "      <td>False</td>\n",
              "      <td>False</td>\n",
              "      <td>False</td>\n",
              "      <td>False</td>\n",
              "      <td>False</td>\n",
              "      <td>False</td>\n",
              "      <td>False</td>\n",
              "      <td>False</td>\n",
              "    </tr>\n",
              "  </tbody>\n",
              "</table>\n",
              "<p>1000 rows × 29 columns</p>\n",
              "</div>\n",
              "      <button class=\"colab-df-convert\" onclick=\"convertToInteractive('df-3e0fcc8a-ee08-4765-a43f-45971b06bf63')\"\n",
              "              title=\"Convert this dataframe to an interactive table.\"\n",
              "              style=\"display:none;\">\n",
              "\n",
              "  <svg xmlns=\"http://www.w3.org/2000/svg\" height=\"24px\"viewBox=\"0 0 24 24\"\n",
              "       width=\"24px\">\n",
              "    <path d=\"M0 0h24v24H0V0z\" fill=\"none\"/>\n",
              "    <path d=\"M18.56 5.44l.94 2.06.94-2.06 2.06-.94-2.06-.94-.94-2.06-.94 2.06-2.06.94zm-11 1L8.5 8.5l.94-2.06 2.06-.94-2.06-.94L8.5 2.5l-.94 2.06-2.06.94zm10 10l.94 2.06.94-2.06 2.06-.94-2.06-.94-.94-2.06-.94 2.06-2.06.94z\"/><path d=\"M17.41 7.96l-1.37-1.37c-.4-.4-.92-.59-1.43-.59-.52 0-1.04.2-1.43.59L10.3 9.45l-7.72 7.72c-.78.78-.78 2.05 0 2.83L4 21.41c.39.39.9.59 1.41.59.51 0 1.02-.2 1.41-.59l7.78-7.78 2.81-2.81c.8-.78.8-2.07 0-2.86zM5.41 20L4 18.59l7.72-7.72 1.47 1.35L5.41 20z\"/>\n",
              "  </svg>\n",
              "      </button>\n",
              "\n",
              "\n",
              "\n",
              "    <div id=\"df-ffb665bf-266b-45ca-97ac-eec0c2c8cab6\">\n",
              "      <button class=\"colab-df-quickchart\" onclick=\"quickchart('df-ffb665bf-266b-45ca-97ac-eec0c2c8cab6')\"\n",
              "              title=\"Suggest charts.\"\n",
              "              style=\"display:none;\">\n",
              "\n",
              "<svg xmlns=\"http://www.w3.org/2000/svg\" height=\"24px\"viewBox=\"0 0 24 24\"\n",
              "     width=\"24px\">\n",
              "    <g>\n",
              "        <path d=\"M19 3H5c-1.1 0-2 .9-2 2v14c0 1.1.9 2 2 2h14c1.1 0 2-.9 2-2V5c0-1.1-.9-2-2-2zM9 17H7v-7h2v7zm4 0h-2V7h2v10zm4 0h-2v-4h2v4z\"/>\n",
              "    </g>\n",
              "</svg>\n",
              "      </button>\n",
              "    </div>\n",
              "\n",
              "<style>\n",
              "  .colab-df-quickchart {\n",
              "    background-color: #E8F0FE;\n",
              "    border: none;\n",
              "    border-radius: 50%;\n",
              "    cursor: pointer;\n",
              "    display: none;\n",
              "    fill: #1967D2;\n",
              "    height: 32px;\n",
              "    padding: 0 0 0 0;\n",
              "    width: 32px;\n",
              "  }\n",
              "\n",
              "  .colab-df-quickchart:hover {\n",
              "    background-color: #E2EBFA;\n",
              "    box-shadow: 0px 1px 2px rgba(60, 64, 67, 0.3), 0px 1px 3px 1px rgba(60, 64, 67, 0.15);\n",
              "    fill: #174EA6;\n",
              "  }\n",
              "\n",
              "  [theme=dark] .colab-df-quickchart {\n",
              "    background-color: #3B4455;\n",
              "    fill: #D2E3FC;\n",
              "  }\n",
              "\n",
              "  [theme=dark] .colab-df-quickchart:hover {\n",
              "    background-color: #434B5C;\n",
              "    box-shadow: 0px 1px 3px 1px rgba(0, 0, 0, 0.15);\n",
              "    filter: drop-shadow(0px 1px 2px rgba(0, 0, 0, 0.3));\n",
              "    fill: #FFFFFF;\n",
              "  }\n",
              "</style>\n",
              "\n",
              "    <script>\n",
              "      async function quickchart(key) {\n",
              "        const containerElement = document.querySelector('#' + key);\n",
              "        const charts = await google.colab.kernel.invokeFunction(\n",
              "            'suggestCharts', [key], {});\n",
              "      }\n",
              "    </script>\n",
              "\n",
              "      <script>\n",
              "\n",
              "function displayQuickchartButton(domScope) {\n",
              "  let quickchartButtonEl =\n",
              "    domScope.querySelector('#df-ffb665bf-266b-45ca-97ac-eec0c2c8cab6 button.colab-df-quickchart');\n",
              "  quickchartButtonEl.style.display =\n",
              "    google.colab.kernel.accessAllowed ? 'block' : 'none';\n",
              "}\n",
              "\n",
              "        displayQuickchartButton(document);\n",
              "      </script>\n",
              "      <style>\n",
              "    .colab-df-container {\n",
              "      display:flex;\n",
              "      flex-wrap:wrap;\n",
              "      gap: 12px;\n",
              "    }\n",
              "\n",
              "    .colab-df-convert {\n",
              "      background-color: #E8F0FE;\n",
              "      border: none;\n",
              "      border-radius: 50%;\n",
              "      cursor: pointer;\n",
              "      display: none;\n",
              "      fill: #1967D2;\n",
              "      height: 32px;\n",
              "      padding: 0 0 0 0;\n",
              "      width: 32px;\n",
              "    }\n",
              "\n",
              "    .colab-df-convert:hover {\n",
              "      background-color: #E2EBFA;\n",
              "      box-shadow: 0px 1px 2px rgba(60, 64, 67, 0.3), 0px 1px 3px 1px rgba(60, 64, 67, 0.15);\n",
              "      fill: #174EA6;\n",
              "    }\n",
              "\n",
              "    [theme=dark] .colab-df-convert {\n",
              "      background-color: #3B4455;\n",
              "      fill: #D2E3FC;\n",
              "    }\n",
              "\n",
              "    [theme=dark] .colab-df-convert:hover {\n",
              "      background-color: #434B5C;\n",
              "      box-shadow: 0px 1px 3px 1px rgba(0, 0, 0, 0.15);\n",
              "      filter: drop-shadow(0px 1px 2px rgba(0, 0, 0, 0.3));\n",
              "      fill: #FFFFFF;\n",
              "    }\n",
              "  </style>\n",
              "\n",
              "      <script>\n",
              "        const buttonEl =\n",
              "          document.querySelector('#df-3e0fcc8a-ee08-4765-a43f-45971b06bf63 button.colab-df-convert');\n",
              "        buttonEl.style.display =\n",
              "          google.colab.kernel.accessAllowed ? 'block' : 'none';\n",
              "\n",
              "        async function convertToInteractive(key) {\n",
              "          const element = document.querySelector('#df-3e0fcc8a-ee08-4765-a43f-45971b06bf63');\n",
              "          const dataTable =\n",
              "            await google.colab.kernel.invokeFunction('convertToInteractive',\n",
              "                                                     [key], {});\n",
              "          if (!dataTable) return;\n",
              "\n",
              "          const docLinkHtml = 'Like what you see? Visit the ' +\n",
              "            '<a target=\"_blank\" href=https://colab.research.google.com/notebooks/data_table.ipynb>data table notebook</a>'\n",
              "            + ' to learn more about interactive tables.';\n",
              "          element.innerHTML = '';\n",
              "          dataTable['output_type'] = 'display_data';\n",
              "          await google.colab.output.renderOutput(dataTable, element);\n",
              "          const docLink = document.createElement('div');\n",
              "          docLink.innerHTML = docLinkHtml;\n",
              "          element.appendChild(docLink);\n",
              "        }\n",
              "      </script>\n",
              "    </div>\n",
              "  </div>\n"
            ]
          },
          "metadata": {},
          "execution_count": 11
        },
        {
          "output_type": "display_data",
          "data": {
            "text/plain": [
              "<google.colab._quickchart_helpers.SectionTitle at 0x78122e41ca90>"
            ],
            "text/html": [
              "<h4 class=\"colab-quickchart-section-title\">Categorical distributions</h4>\n",
              "<style>\n",
              "  .colab-quickchart-section-title {\n",
              "      clear: both;\n",
              "  }\n",
              "</style>"
            ]
          },
          "metadata": {}
        },
        {
          "output_type": "display_data",
          "data": {
            "text/plain": [
              "import numpy as np\n",
              "from google.colab import autoviz\n",
              "df_8018807916584790127 = autoviz.get_df('df_8018807916584790127')\n",
              "\n",
              "def categorical_histogram(df, colname, figsize=(2, 1.2), mpl_palette_name='Dark2'):\n",
              "  from matplotlib import pyplot as plt\n",
              "  import seaborn as sns\n",
              "  _, ax = plt.subplots(figsize=figsize)\n",
              "  bars = df[colname].value_counts()\n",
              "  plt.barh(bars.index, bars.values, color=sns.palettes.mpl_palette(mpl_palette_name))\n",
              "  plt.title(colname)\n",
              "  ax.spines[['top', 'right',]].set_visible(False)\n",
              "  return autoviz.MplChart.from_current_mpl_state()\n",
              "\n",
              "chart = categorical_histogram(df_8018807916584790127, *['DURATION'], **{})\n",
              "chart"
            ],
            "text/html": [
              "      <div class=\"colab-quickchart-chart-with-code\" id=\"chart-cb749ad7-ccab-4a4d-b6c4-417469ea8247\">\n",
              "        <img src=\"data:image/png;base64,iVBORw0KGgoAAAANSUhEUgAAANEAAACWCAYAAABAZ207AAAAOXRFWHRTb2Z0d2FyZQBNYXRwbG90\n",
              "bGliIHZlcnNpb24zLjcuMSwgaHR0cHM6Ly9tYXRwbG90bGliLm9yZy/bCgiHAAAACXBIWXMAAA9h\n",
              "AAAPYQGoP6dpAAAMJklEQVR4nO3dbUxTZxsH8H95qwgtGAurA2kf3iRRniFOUZkvm5ksy0KWuGXM\n",
              "OYRpKdkHNlk2shgiLFuGWebDFnXF6Vicjk1gC2yLmm2JG2Yf3KbGhGSxEFwhqbwsAupMhXI/H4zN\n",
              "+rTytL1be4D/Lzkfes7d06tX+Kelaa+jEkIIEFHAIsJdANFMxxARSWKIiCQxRESSGCIiSQwRkSSG\n",
              "iEgSQ0QkiSEiksQQEUliiIJg48aNiImJgUajQUJCAhYvXoynn34a3333nWtNWVkZtm3b5nHfuro6\n",
              "PPLII67bRqMR8+bNQ3x8PBITE7FixQp89dVXHvebmppCeno65s+fj2vXrgEAjh8/jvj4eNcWERHh\n",
              "Old8fDyWLl3qeozDhw+7ne/EiRNYs2aNa+3atWvR2trqUatKpcJrr73mtv/w4cMwGo3+NW0WYYiC\n",
              "5I033sD169cxNjaG33//HZs3b0ZJSQl2797t97n279+PGzduYGRkBFu3bsVzzz2Hnp4etzUnT56E\n",
              "zWaDWq1Gc3MzAOCFF17AjRs3XNuDDz4Ii8Xiut3d3e318d555x3s3LkTlZWVsNvtsNvtqKysxI4d\n",
              "O7B37163tQsXLsT+/ftx+fJlv5/XbMUQhUBycjJefvllNDY2oqGhwSMAvoqKioLZbMbk5CQuXrzo\n",
              "duzgwYN44okn8NJLL8FisSDQ7xHbbDbU1dVh37592L59OzQaDTQaDUpLS/H++++jtrYW/f39rvU5\n",
              "OTl49tlnUV1dHdDjzUYMUQht3boVAPDjjz8GdH+Hw4EDBw4AuPPHe1dfXx9OnToFk8kEk8kEq9WK\n",
              "77//PqDHOHXqFKampvDiiy96HCstLYXT6cTp06fd9u/duxdnzpzx2D9XMUQhFBsbC51Oh7/++suv\n",
              "+1VVVSExMRGxsbF46623cPToUSxbtsx1vKmpCXq9Hk899RRycnKwbt06fPTRRwHVODw8DJ1OB7Va\n",
              "7XFMrVZDp9NhaGjIbX9KSgpqamqwa9cuTE5OBvS4swlDFEK3bt3C8PAwFi5ciOjoaExMTHismZiY\n",
              "QHR0tNu+Dz/8EKOjoxgaGsLGjRvxww8/uI45HA588sknKC8vR2RkJADAZDLhm2++wcDAgN81JiUl\n",
              "YWRkBA6Hw+OYw+HAyMgIkpOTPY69/vrr+Pvvv12vlHMZQxRCLS0tUKlUeOyxx5Ceng6r1eqxxmq1\n",
              "IiMjw+v9dTodPv30U3R0dKCjowMA0NraiuHhYRw4cAB6vR56vR7V1dVwOp1oamryu8aioiKoVCoc\n",
              "P37c49ixY8cQERGBzZs3exybN28e3nvvPdTX12NkZMTvx51VBEnbsGGD2L17t+v20NCQsFgsQqPR\n",
              "iJqaGiGEEL29vWL+/PmisbFR3Lx5UzgcDtHe3i5iYmJEV1eX674Gg0F8/PHHbuffs2ePyMnJEZOT\n",
              "k2LNmjXiySefFHa73W2rrq4Wer1e3L5923W/lJQU0dzc7FHv/z5GXV2d0Gq14ujRo2J8fFyMj4+L\n",
              "zz77TGi1WvH222+71VFYWOh2rvXr1wudTicMBkNAvZsNGKIg2LBhg4iOjhZxcXFCo9GIlJQUUVxc\n",
              "LDo6OtzW/fLLL2LTpk1Cp9OJBQsWiIKCAo813kI0OjoqFixYIBobGwUAcfbsWY8a7Ha7UKvV4osv\n",
              "vnDt8zVEQgjx+eefi4KCAhEXFyfi4uJEQUGB27mE8B6iCxcuiIiIiDkdIpUQnLFAJIP/ExFJYoiI\n",
              "JDFERJIYIiJJDBGRJIaISBJDRCRJkSH64IMPwl0Ckc8UGaI///wz3CUQ+UyRISKaSRgiIkmKDNG1\n",
              "0/8JdwlEPlNkiIhmEoaISBJDRCSJISKSxBARSWKIiCQxRESSGCIiSQwRkSSGiEgSQ0QkiSEiksQQ\n",
              "EUliiIgk+RWiqqoqGI1GqFQqjyu3/dORI0eQlZWFjIwMmEwmr5cUIZot/ArRM888g7Nnz8JgMNxz\n",
              "TV9fH2pra9HV1YWenh4MDg7i0KFD0oUSKZVfIVq/fj1SU1OnXdPW1obi4mLo9XqoVCpUVlaipaVF\n",
              "qkgiJYsK9gltNpvbK5XRaITNZrvneofD4XGVNudUsKsiCp2wf7Dw7rvvIiEhwW27NMcvvEYzS9BD\n",
              "lJaW5jby6sqVK0hLS7vn+jfffBNjY2Nu2791wa6KKHSCHqItW7ags7MTV69ehRACFosFJSUl91yv\n",
              "Vquh1Wrdtsiwvz4S+c6vP1ez2YzU1FQMDAygqKgImZmZAICdO3eis7MTAJCeno76+noUFhYiMzMT\n",
              "SUlJMJvNwa+cSCEUebnJ8qUqNHcrriwir/jGiUgSQ0QkiSEiksQQEUliiIgkMUREkhgiIkkMEZEk\n",
              "hohIEkNEJIkhIpLEEBFJYoiIJCkyRAuKdoW7BCKfKTJERDOJ3yGyWq1Yu3YtsrOzsXLlSnR3d3us\n",
              "OXPmDGJjY5GXl+fabt26FZSCiZTG72k/ZrMZFRUVKCsrQ1tbG8rKyvDrr796rFuyZMm0Ax6JZgu/\n",
              "XomGhobw22+/Ydu2bQDuzFPo7+9HT09PwAU4HA6Mj4+7bU6nM+DzEd1vfoWov78fixYtQlTUnRcw\n",
              "lUqFtLQ0r3Plent7kZ+fj5UrV+LgwYP3PKe3kVnnzp3z82kQhU9IPljIz8/HwMAAzp8/j6+//hoW\n",
              "iwUnTpzwutbbyKxVq1aFoiyikPArRIsXL4bdbsfk5CQAQAgBm83mMVdOq9UiISEBAJCamornn38e\n",
              "XV1dXs/pdWRWZGQgz4UoLPwKUXJyMvLz83Hs2DEAQHt7O1JTU12js+6y2+2YmrozC/j69ev49ttv\n",
              "sXz58iCVTKQsfr+da2pqQlNTE7Kzs9HQ0IDm5mYA7rPn2tvbkZubi4ceegirV6/G448/jvLy8uBW\n",
              "TqQQipw7F1+0Eoklm8JdBs0SA+UNIT0/v7FAJIkhIpLEEBFJYoiIJDFERJIYIiJJDBGRJIaISBJD\n",
              "RCSJISKSxBARSWKIiCQxRESSGCIiSSEZmQUAR44cQVZWFjIyMmAymTAxMSFdLJES+R2iuyOzLl++\n",
              "jJqaGpSVlXms6evrQ21tLbq6utDT04PBwUEcOnQoGPUSKU5IRma1tbWhuLgYer0eKpUKlZWVaGlp\n",
              "8XpObyOz4FTc7wSJ7ikkI7NsNhsMBoPrttFo9DpWC/A+Mut2n93f50EUNmH/YMHbyKyYfy0Kd1lE\n",
              "PvNrjPA/R2ZFRUXdc2RWWloaent7XbevXLniseYutVoNtVrtvjNS5U9ZRGEVkpFZW7ZsQWdnJ65e\n",
              "vQohBCwWC0pKSoJXNZGChGRkVnp6Ourr61FYWIjMzEwkJSXBbDYHt3IiheDILJr1ODKLSOEYIiJJ\n",
              "DBGRJIaISBJDRCSJISKSxBARSWKIiCQxRESSGCIiSQwRkSSGiEgSQ0Qkya8f5d0vFUvXYV+Iv3lL\n",
              "FCx8JSKSxBARSWKIiCQp7n8ih8OBkydPwul0IjIyMtzlKJbT6cS5c+ewatUq9mka/69PBoMBr7zy\n",
              "itRjKO7n4ePj40hISMDY2Bi0Wm24y1Es9sk396NPfDtHJIkhIpLEEBFJUlyI1Go19uzZ4zkVldyw\n",
              "T765H31S3AcLRDON4l6JiGYahohIEkNEJElxIfL1mrBzgdFoxJIlS5CXl4e8vDx8+eWXAKbv0Wzv\n",
              "X1VVFYxGI1QqFS5evOjaH2hPgtIvoTCPPvqoaG5uFkII0draKh5++OHwFhRGBoNBXLhwwWP/dD2a\n",
              "7f376aefRH9/v0dvAu1JMPqlqBANDg4KjUYjJiYmhBBCTE1NiQceeEBYrdYwVxYe3kI0XY/mUv/+\n",
              "2ZtAexKsfinq7Zyv14SdS0pLS5Gbm4sdO3ZgeHh42h7N1f4F2pNg9UtRISJ3P//8My5duoTz589D\n",
              "p9Nh+/bt4S6JvFDUTyF8vSbsXHH3eUdHR+PVV19Fdnb2tD3SarVzsn+B9iRY/VLUK5Gv14SdC27e\n",
              "vInR0VHX7ZaWFixfvnzaHs3V/gXak6D1Kxj/5AXTH3/8IVavXi2ysrLEihUrxKVLl8JdUlj09vaK\n",
              "vLw8kZubK5YtWyaKi4tFX1+fEGL6Hs32/lVUVIiUlBQRGRkpkpOTRUZGhhAi8J4Eo1/87hyRJEW9\n",
              "nSOaiRgiIkkMEZEkhohIEkNEJIkhIpLEEBFJYoiIJDFERJIYIiJJDBGRpP8Cni4A3RTKsxwAAAAA\n",
              "SUVORK5CYII=\n",
              "\">\n",
              "        \n",
              "      </div>\n",
              "      <script></script>\n",
              "      <script type=\"text/javascript\">\n",
              "        (() => {\n",
              "          const chartElement = document.getElementById(\"chart-cb749ad7-ccab-4a4d-b6c4-417469ea8247\");\n",
              "          async function getCodeForChartHandler(event) {\n",
              "            const chartCodeResponse =  await google.colab.kernel.invokeFunction(\n",
              "                'getCodeForChart', [\"chart-cb749ad7-ccab-4a4d-b6c4-417469ea8247\"], {});\n",
              "            const responseJson = chartCodeResponse.data['application/json'];\n",
              "            await google.colab.notebook.addCell(responseJson.code, 'code');\n",
              "          }\n",
              "          chartElement.onclick = getCodeForChartHandler;\n",
              "        })();\n",
              "      </script>\n",
              "      <style>\n",
              "        .colab-quickchart-chart-with-code  {\n",
              "            display: block;\n",
              "            float: left;\n",
              "            border: 1px solid transparent;\n",
              "        }\n",
              "\n",
              "        .colab-quickchart-chart-with-code:hover {\n",
              "            cursor: pointer;\n",
              "            border: 1px solid #aaa;\n",
              "        }\n",
              "      </style>"
            ]
          },
          "metadata": {}
        },
        {
          "output_type": "display_data",
          "data": {
            "text/plain": [
              "import numpy as np\n",
              "from google.colab import autoviz\n",
              "df_8018807916584790127 = autoviz.get_df('df_8018807916584790127')\n",
              "\n",
              "def categorical_histogram(df, colname, figsize=(2, 1.2), mpl_palette_name='Dark2'):\n",
              "  from matplotlib import pyplot as plt\n",
              "  import seaborn as sns\n",
              "  _, ax = plt.subplots(figsize=figsize)\n",
              "  bars = df[colname].value_counts()\n",
              "  plt.barh(bars.index, bars.values, color=sns.palettes.mpl_palette(mpl_palette_name))\n",
              "  plt.title(colname)\n",
              "  ax.spines[['top', 'right',]].set_visible(False)\n",
              "  return autoviz.MplChart.from_current_mpl_state()\n",
              "\n",
              "chart = categorical_histogram(df_8018807916584790127, *['AMOUNT'], **{})\n",
              "chart"
            ],
            "text/html": [
              "      <div class=\"colab-quickchart-chart-with-code\" id=\"chart-91a7ce38-63f6-45a8-805e-fd61a708682d\">\n",
              "        <img src=\"data:image/png;base64,iVBORw0KGgoAAAANSUhEUgAAANIAAACWCAYAAACrUNY4AAAAOXRFWHRTb2Z0d2FyZQBNYXRwbG90\n",
              "bGliIHZlcnNpb24zLjcuMSwgaHR0cHM6Ly9tYXRwbG90bGliLm9yZy/bCgiHAAAACXBIWXMAAA9h\n",
              "AAAPYQGoP6dpAAALZElEQVR4nO3db0xT9xoH8O9ZQYYKvTBgECrt+GfYhitMjIy4QGRxkYRoXBYW\n",
              "ndZstvhisuubyTJH5M14sdy7xQSwGeCcjqnoEkKy3bgYHcYlYpySLdksBAUMomYOnNuQld99QejW\n",
              "tBBantqDfD9JX/Tw4/CcJ3xz2pP2OZpSSoGI5uSxcBdA9ChgkIgEMEhEAhgkIgEMEpEABolIAINE\n",
              "JIBBIhLAIBEJYJCIBDBIIdbS0gJN07Bnzx6v7TabDZqmobq62mv7xMQE0tPToWkavvnmG892pRQa\n",
              "GhpgtVqxZMkSGI1GlJaW4vTp016/X1xcjPfee8+nDpvNhi1btniea5qGmJgYDA0Nea0zmUw4ePAg\n",
              "Ojs7sXTpUs/DYDBg0aJFXtvobwxSiNXX1+OJJ55Ac3MzxsbGvH729NNPo7m5GePj455tX3/9NRYv\n",
              "XuyzH7vdjtraWtTW1uLOnTvo6+vD+vXrUVZWhs8//zyo2h5//HGfgE9Zs2YNfvvtN8+jsLAQ7777\n",
              "rtc2+huDFEJdXV24ePEiDh8+jJGRERw/ftzr53l5eTCbzTh58qRnW0NDAxwOh9e68+fP45NPPsFn\n",
              "n32G8vJyREdHIz4+Hrt378bu3bvx1ltv4ffffw+4vvfffx9ffPEFurq6gjtA8mCQQqi+vh5WqxUv\n",
              "v/wyNm7ciPr6ep81O3fuRGNjIwDg+vXrOHv2LLZu3eq1pqOjA6mpqSgtLfX5fZvNhl9++QXnz58P\n",
              "uL6cnBzs3LkTVVVV4JcA5oZBCpG7d+/i6NGjsNvtACZfmn333Xe4cuWK17qKigpcuXIFP//8M5xO\n",
              "J1599VUYjUavNbdv30Zqaqrfv2MymQAAt27dCqrOmpoauFwuHDlyJKjfp0kMUohMXWTYvHkzAKCk\n",
              "pASZmZk+Z6Xo6Gi8/vrr2L9/P5qamlBZWemzr8TERNy4ccPv3xkcHAQAJCUlAQAiIyO93nNNGR8f\n",
              "R2RkpM/2uLg41NbWYs+ePbh//35gB0keDFIIKKXQ2NiIBw8eIDs7G8nJyUhJScHg4CCOHDmC0dFR\n",
              "r/WVlZVoaGjAsmXLsHLlSp/9lZWV4caNGz5X6ADg0KFDiIuLQ2FhIQAgPT0dLpfLZ53L5UJGRobf\n",
              "eu12O+Lj41FXVxfM4RKAiHAX8Cg6deoUXC4XTp8+jZycHM/2e/fuIS8vD59++qnX+pycHJw5cwYp\n",
              "KSl+91dUVOS5fO10OrF27Vr8+eefOHToED788EM4nU4sWbIEwOR7puLiYhw7dgwbNmyA2+1Gc3Mz\n",
              "fvjhh2mv7hkMBnz00UcoKytDRAT/JYKiSNyGDRtUaWmp359VVVWpnJwctW3bNrV58+Zp9wFAnTp1\n",
              "yvN8YmJC7d+/X61YsUItXrxYxcTEqJKSEq81Uzo6OlRhYaGKj49XCQkJqri4WJ07d27G/Sul1MaN\n",
              "GxUA1dLS4rPPoqIiVVNTM8NRL2yaUrxcQzRXfI9EJIBBIhLAIBEJYJCIBDBIRAIYJCIBDBKRAF0G\n",
              "6eOPPw53CUQB0WWQrl+/Hu4SiAKiyyARzTcMEpEAXQbp7v/+i6s2Q7jLIJo1XQaJaL5hkIgEMEhE\n",
              "AhgkIgEMEpEABolIAINEJIBBIhLAIBEJYJCIBDBIRAIYJCIBDBKRAAaJSEBAQdq1axcsFgs0TcPl\n",
              "y5enXdfU1ISsrCxkZGRgx44dfm8zQvQoCShIr7zyCs6dOwez2Tztmr6+PuzduxednZ3o6enB8PAw\n",
              "nE7nnAsl0rOAgvTiiy967hA3nba2NpSXlyM5ORmapqGyshKtra1zKpJI78RvhtPf3+91xrJYLOjv\n",
              "7592/djYmM/dvt0T0lURhVbYLzZ88MEHMBqNXo/uO+Guiigw4kFKS0vzGqd17do1pKWlTbu+uroa\n",
              "IyMjXo8VCdJVEYWWeJA2bdqE9vZ23Lx503Mv1YqKimnXR0VFITY21uthCPt5kigwAf3LOhwOmEwm\n",
              "DA4OYt26dcjMzAQAvPnmm2hvbwcweTPgffv2oaioCJmZmUhMTITD4ZCvnEhHdHnry+3PaKgueAzZ\n",
              "B93hLoVoVvgiikgAg0QkgEEiEsAgEQlgkIgEMEhEAhgkIgEMEpEABolIAINEJIBBIhLAIBEJYJCI\n",
              "BOgySHHr/s1PftO8ossgEc03AQfJ5XLhhRdeQHZ2NgoKCvDjjz/6rDlz5gyio6NhtVo9jz/++EOk\n",
              "YCI9CniKkMPhgN1uh81mQ1tbG2w2G7q6unzWLV++fMYhkkSPkoDOSLdu3cLFixexZcsWAJPzGQYG\n",
              "BtDT0xN0AWNjYxgdHfV6uN18f0TzS0BBGhgYQEpKCiIiJk9kmqYhLS3N79y63t5e5Ofno6CgAPX1\n",
              "9dPu0984rgsXLgR4GEThFZKLDfn5+RgcHMSlS5fw5ZdforGxEceOHfO71t84rlWrVoWiLKKQCShI\n",
              "y5Ytw9DQEP766y8AgFIK/f39PnPrYmNjYTQaAQAmkwmvvfYaOjs7/e7T7zgugyGYYyEKm4CClJSU\n",
              "hPz8fBw+fBgAcOLECZhMJs9YrilDQ0OYmJicO3zv3j10dHQgLy9PqGQi/Qn4pd2BAwdw4MABZGdn\n",
              "o66uDi0tLQC8Z9udOHECubm5eO6557B69Wq89NJL2L59u2zlRDqiy7l2S9cV4F8Va8NdBj0iBrfX\n",
              "hfxv8JMNRAIYJCIBDBKRAAaJSACDRCSAQSISwCARCWCQiAQwSEQCGCQiAQwSkQAGiUgAg0QkgEEi\n",
              "EhCScVwA0NTUhKysLGRkZGDHjh0YHx+fc7FEehVwkKbGcV29ehXvvPMObDabz5q+vj7s3bsXnZ2d\n",
              "6OnpwfDwMJxOp0S9RLoUknFcbW1tKC8vR3JyMjRNQ2VlJVpbW/3u0984Lrh1911DohmFZBxXf38/\n",
              "zGaz57nFYvE7sgvwP47rQd9QoMdBFFZhv9jgbxzXoqdSwl0WUUACGln8z3FcERER047jSktLQ29v\n",
              "r+f5tWvXfNZMiYqKQlRUlPdGgxZIWURhF5JxXJs2bUJ7eztu3rwJpRQaGxtRUVEhVzWRzoRkHFd6\n",
              "ejr27duHoqIiZGZmIjExEQ6HQ7ZyIh3hOC565HEcF9E8wSARCWCQiAQwSEQCGCQiAQwSkQAGiUgA\n",
              "g0QkgEEiEsAgEQlgkIgEMEhEAhgkIgEBfbHvYbE/swb/eQif2CWSwjMSkQAGiUgAg0QkQHfvkcbG\n",
              "xvDVV1/B7XbDYDCEuxxdc7vduHDhAlatWsVezWCmPpnNZlRVVc35b+juq+ajo6MwGo0YGRlBbGxs\n",
              "uMvRNfZqdh5Gn/jSjkgAg0QkgEEiEqC7IEVFRaGmpsZ3+ir5YK9m52H0SXcXG4jmI92dkYjmIwaJ\n",
              "SACDRCRAd0Ga7T1qFwKLxYLly5fDarXCarXi6NGjAGbu0ULp365du2CxWKBpGi5fvuzZHmxv5tw3\n",
              "pTMlJSWqpaVFKaXU8ePH1cqVK8NbUBiZzWb1/fff+2yfqUcLpX9nz55VAwMDPj0Ktjdz7ZuugjQ8\n",
              "PKxiYmLU+Pi4UkqpiYkJ9eSTTyqXyxXmysLDX5Bm6tFC7N8/exRsbyT6pquXdrO9R+1CsnXrVuTm\n",
              "5uKNN97A7du3Z+zRQu9fsL2R6JuugkTevv32W3R3d+PSpUtISEjAtm3bwl0STUNXX6OY7T1qF4qp\n",
              "446MjMTbb7+N7OzsGXsUGxu7oPsXbG8k+qarM9Js71G7ENy/fx+//vqr53lrayvy8vJm7NFC71+w\n",
              "vRHpm9SbPik//fSTWr16tcrKylLPP/+86u7uDndJYdHb26usVqvKzc1Vzz77rCovL1d9fX1KqZl7\n",
              "tFD6Z7fbVWpqqjIYDCopKUllZGQopYLvzVz7xs/aEQnQ1Us7ovmKQSISwCARCWCQiAQwSEQCGCQi\n",
              "AQwSkQAGiUgAg0QkgEEiEsAgEQn4P7jJJgdzsZ74AAAAAElFTkSuQmCC\n",
              "\">\n",
              "        \n",
              "      </div>\n",
              "      <script></script>\n",
              "      <script type=\"text/javascript\">\n",
              "        (() => {\n",
              "          const chartElement = document.getElementById(\"chart-91a7ce38-63f6-45a8-805e-fd61a708682d\");\n",
              "          async function getCodeForChartHandler(event) {\n",
              "            const chartCodeResponse =  await google.colab.kernel.invokeFunction(\n",
              "                'getCodeForChart', [\"chart-91a7ce38-63f6-45a8-805e-fd61a708682d\"], {});\n",
              "            const responseJson = chartCodeResponse.data['application/json'];\n",
              "            await google.colab.notebook.addCell(responseJson.code, 'code');\n",
              "          }\n",
              "          chartElement.onclick = getCodeForChartHandler;\n",
              "        })();\n",
              "      </script>\n",
              "      <style>\n",
              "        .colab-quickchart-chart-with-code  {\n",
              "            display: block;\n",
              "            float: left;\n",
              "            border: 1px solid transparent;\n",
              "        }\n",
              "\n",
              "        .colab-quickchart-chart-with-code:hover {\n",
              "            cursor: pointer;\n",
              "            border: 1px solid #aaa;\n",
              "        }\n",
              "      </style>"
            ]
          },
          "metadata": {}
        },
        {
          "output_type": "display_data",
          "data": {
            "text/plain": [
              "import numpy as np\n",
              "from google.colab import autoviz\n",
              "df_8018807916584790127 = autoviz.get_df('df_8018807916584790127')\n",
              "\n",
              "def categorical_histogram(df, colname, figsize=(2, 1.2), mpl_palette_name='Dark2'):\n",
              "  from matplotlib import pyplot as plt\n",
              "  import seaborn as sns\n",
              "  _, ax = plt.subplots(figsize=figsize)\n",
              "  bars = df[colname].value_counts()\n",
              "  plt.barh(bars.index, bars.values, color=sns.palettes.mpl_palette(mpl_palette_name))\n",
              "  plt.title(colname)\n",
              "  ax.spines[['top', 'right',]].set_visible(False)\n",
              "  return autoviz.MplChart.from_current_mpl_state()\n",
              "\n",
              "chart = categorical_histogram(df_8018807916584790127, *['INSTALL_RATE'], **{})\n",
              "chart"
            ],
            "text/html": [
              "      <div class=\"colab-quickchart-chart-with-code\" id=\"chart-508b356e-133b-426a-9b68-b8e4026d9ba6\">\n",
              "        <img src=\"data:image/png;base64,iVBORw0KGgoAAAANSUhEUgAAANIAAACWCAYAAACrUNY4AAAAOXRFWHRTb2Z0d2FyZQBNYXRwbG90\n",
              "bGliIHZlcnNpb24zLjcuMSwgaHR0cHM6Ly9tYXRwbG90bGliLm9yZy/bCgiHAAAACXBIWXMAAA9h\n",
              "AAAPYQGoP6dpAAAMZ0lEQVR4nO3dXUwc5R4G8GfOQhfCAsVS3Cose7p8pKEgpR9iK6I5VFJTuZCS\n",
              "1oQgRFnWVLGNsdjESrmCJobGRPmoEmKt4McSEqwxx3jRFky1NSsQSdGCIDS2SE0pXYJ0gTkXDRv2\n",
              "7II79IUd4Pklc7Ezb2b+8w9PZnbZfUeSZVkGEd2Xf/m6AKKVgEEiEoBBIhKAQSISgEEiEoBBIhKA\n",
              "QSISgEEiEoBBIhKAQSISgEEiEoBB8uDJJ5/EW2+9BQAwGo3QaDRob293GfP444/j+PHjztcdHR3Y\n",
              "u3cvIiIiEBwcjOjoaDz33HO4e/cuLBYLdDoddDodgoKCIEkSgoKCnOssFotzP+np6ZAkCVeuXHGr\n",
              "S5IkfPvttx5rzs/PR25uruJzPX78ODQaDXQ6nbPuw4cPY2Jiwm1saWkpJElCTU2Nc93MOeh0OqxZ\n",
              "s8a5r5mltbXV5Rizl1deeUVxvWrFIHnhgQcewKFDh+bcPjY2hoyMDGzbtg2//fYbRkdH0dbWht27\n",
              "d0OWZdTU1MBut8Nut6OjowMA0NXV5Vw384fZ1dWFCxcuYN26daiurl6KUwMAPPbYY7Db7bhz5w6+\n",
              "/PJLNDQ0oKKiwmXM5OQkPvjgA7faZs7BbrfjyJEjSEtLc1mXlpbmcozZy3vvvbdk57jYGCQvvP76\n",
              "6+jo6IDVavW4vbu7Gzdv3kRxcTF0Oh0kSUJUVBRefvllaLVar49TVVWFhIQElJaW4vTp0xgbGxN1\n",
              "Cl5LSkpCWloaLl++7LK+ubkZw8PDaGhoQGdnJ9ra2pa8NjVjkLwQHh6O0tJSvPHGG/j777/dtsfH\n",
              "x2PDhg3Yv38/Ghoa8Msvvyg+ht1ux8cff4zCwkLk5uZiYmICn3zyiYjyvSbLMmw2G86fP49Nmza5\n",
              "bKuqqsLevXvx9NNP49FHH0VVVdWS1qZ2DJKXDh48iICAALzzzjtu23Q6HX744QckJibixIkT2Lx5\n",
              "M/R6PcrLy+Htz73OnDkDh8OBvLw8hIWFIScnZ8lu777//nusXbsWgYGB2Lp1KzIyMlze/125cgXn\n",
              "zp2D2WwGAJjNZjQ1NWF4eFjxMWYv9fX1ok/FZxgkL/n7+6OyshIVFRX4448/3LZHRUWhsrISHR0d\n",
              "GBkZQXl5Od5++2189NFHXu2/uroa2dnZCAsLAwAUFhaivb0dFy9eFHoenqSmpmJkZAR2ux21tbVo\n",
              "bW3FrVu3XGozGAzIzMwEAOzfvx8BAQH48MMPFR9j9lJQUCD8XHyFQVJgz549SE9PR0lJybzjgoKC\n",
              "UFBQgKSkJNhstn/cb1tbGzo7O9HS0gK9Xg+9Xo+cnBwAWNJbKD8/P5jNZqSnp+PVV18FcO+DlNOn\n",
              "T2NoaAgPPfQQ9Ho9TCYTxsfHUVtbi+np6SWrT838fF3AclNZWYmkpCQEBwcjIyMDwL0PG6xWK3Jy\n",
              "cmAymSDLMpqbm/Hzzz/j6NGj/7jPqqoqJCYm4ptvvnFZ/+mnn+LNN9/EyZMnER4eDgBwOBxu79MC\n",
              "AgIAANPT027b/P39odFoFJ1jWVkZNm3ahO+++w5dXV0YHx+HzWbDunXrnGP6+/uxc+dOfPXVV3j2\n",
              "2WcV7X8l4hVJofj4eBw8eBB//fWXc11wcDC6u7uxZ88erF27FhEREThx4gTef/997Nu3b979DQ8P\n",
              "o6mpCSUlJc6r0cxisVgQFhaGuro65/hnnnkGgYGBLsvk5CQAoLGx0W3bQt6HxMTEIC8vD0eOHEF1\n",
              "dTXy8vKQkJDgUltqaiqysrK8vmJevHjR7f9IKymAEic/Ibp/vCIRCcAgrXCzv570/8vZs2d9Xd6K\n",
              "wVs7IgF4RSISgEEiEoBBIhJAlUF69913fV0CkSKqDNLvv//u6xKIFFFlkIiWGwaJSABVBunWf0/6\n",
              "ugQiRVQZJKLlhkEiEoBBIhKAQSISgEEiEoBBIhKAQSISgEEiEoBBIhKAQSISgEEiEoBBIhKAQSIS\n",
              "gEEiEkBRkIqLi2E0GiFJktujIGerq6tDbGwsTCYTCgsL4XA47rdOIlVTFKR9+/ahra0N0dHRc47p\n",
              "6+vDsWPH0Nraip6eHgwNDeHUqVP3XSiRmikK0hNPPIHIyMh5x1itVmRlZUGv10OSJFgsFjQ2Nt5X\n",
              "kURqJ/yxLgMDAy5XLKPRiIGBgTnHT0xMuD1Be4qP3KFlxucfNpSXlyM0NNRl6bzp66qIlBEeJIPB\n",
              "4DKdVn9/PwwGw5zjjx49itu3b7ssSeGiqyJaXMKDlJ2djZaWFty4cQOyLKOmpgYHDhyYc7xWq0VI\n",
              "SIjLovH5dZJIGUV/skVFRYiMjMS1a9eQmZmJmJgYAMBLL72ElpYWAMDGjRtRVlaGXbt2ISYmBuvX\n",
              "r0dRUZH4yolURJWPdSlIkFDfpbqyiObEmygiARgkIgEYJCIBGCQiARgkIgEYJCIBGCQiARgkIgEY\n",
              "JCIBGCQiARgkIgEYJCIBGCQiAVQZpLDMw74ugUgRVQaJaLlRHKSrV69i586diIuLw/bt29HV1eU2\n",
              "5ty5cwgMDERycrJzGR8fF1IwkRopnkWoqKgIZrMZ+fn5sFqtyM/Px+XLl93GxcfHzzuJJNFKouiK\n",
              "9Oeff+LHH39Ebm4ugHvzMwwODqKnp2fBBUxMTGB0dNRlmZqaWvD+iHxBUZAGBwexYcMG+Pndu5BJ\n",
              "kgSDweBx3rre3l6kpKRg+/btqKqqmnOfnqbjunTpksLTIPKtRfmwISUlBdeuXYPNZkNzczNqamrw\n",
              "+eefexzraTquHTt2LEZZRItGUZCioqJw/fp1TE5OAgBkWcbAwIDbvHUhISEIDQ0FAERGRuL5559H\n",
              "a2urx316nI5Lo1nIuRD5jKIgRUREICUlBWfOnAEANDU1ITIy0jkt14zr169jevrevMN37tzB2bNn\n",
              "sWXLFkElE6mP4lu72tpa1NbWIi4uDhUVFaivrwfgOrddU1MTEhMT8cgjjyA1NRW7d+9GQUGB2MqJ\n",
              "VESV89rpMrdj7YH/+LoMWiGuFVQs+jH4zQYiARgkIgEYJCIBGCQiARgkIgEYJCIBGCQiARgkIgEY\n",
              "JCIBGCQiARgkIgEYJCIBGCQiARgkIgEWZTouAKirq0NsbCxMJhMKCwvhcDjuu1gitVIcpJnpuH79\n",
              "9VeUlJQgPz/fbUxfXx+OHTuG1tZW9PT0YGhoCKdOnRJRL5EqLcp0XFarFVlZWdDr9ZAkCRaLBY2N\n",
              "jR736Wk6Lkyp7reGRPNalOm4BgYGEB0d7XxtNBo9TtkFeJ6O627fdaXnQeRTPv+wwdN0XGv+vcHX\n",
              "ZREpomjK4tnTcfn5+c05HZfBYEBvb6/zdX9/v9uYGVqtFlqt1nWlRlJSFpHPLcp0XNnZ2WhpacGN\n",
              "GzcgyzJqampw4MABcVUTqcyiTMe1ceNGlJWVYdeuXYiJicH69etRVFQktnIiFeF0XLTicTouomWC\n",
              "QSISgEEiEoBBIhKAQSISgEEiEoBBIhKAQSISgEEiEoBBIhKAQSISgEEiEoBBIhJA0Q/7loo5IQ2V\n",
              "S/CNXSJReEUiEoBBIhKAQSISQHXvkSYmJvD1119jamoKGo3G1+Wo2tTUFC5duoQdO3awV/OYr0/R\n",
              "0dF47bXX7vsYqvup+ejoKEJDQ3H79m2EhIT4uhxVY6+8sxR94q0dkQAMEpEADBKRAKoLklarRWlp\n",
              "qfvsq+SGvfLOUvRJdR82EC1HqrsiES1HDBKRAAwSkQCqC5K3z6hdDYxGI+Lj45GcnIzk5GR89tln\n",
              "AObv0WroX3FxMYxGIyRJQnt7u3P9QvsipGeyyjz11FNyfX29LMuy/MUXX8jbtm3zbUE+FB0dLf/0\n",
              "009u6+fr0Wro3/nz5+XBwUG3/iy0LyJ6pqogDQ0NycHBwbLD4ZBlWZanp6flBx98UL569aqPK/MN\n",
              "T0Gar0errX+z+7PQvojqmapu7bx9Ru1qkpeXh8TERLz44osYHh6et0eruX8L7YuonqkqSOTqwoUL\n",
              "6OzshM1mQ3h4OF544QVfl0RzUNXPKLx9Ru1qMXPe/v7+OHToEOLi4ubtUUhIyKrt30L7Iqpnqroi\n",
              "efuM2tVgbGwMIyMjzteNjY3YsmXLvD1azf1baF+E9UzEmz6Ruru75dTUVDk2NlbeunWr3NnZ6euS\n",
              "fKK3t1dOTk6WExMT5c2bN8tZWVlyX1+fLMvz92g19M9sNssPP/ywrNFo5IiICNlkMsmyvPC+iOgZ\n",
              "v2tHJICqbu2IlisGiUgABolIAAaJSAAGiUgABolIAAaJSAAGiUgABolIAAaJSAAGiUiA/wEiHb/L\n",
              "3rMSbwAAAABJRU5ErkJggg==\n",
              "\">\n",
              "        \n",
              "      </div>\n",
              "      <script></script>\n",
              "      <script type=\"text/javascript\">\n",
              "        (() => {\n",
              "          const chartElement = document.getElementById(\"chart-508b356e-133b-426a-9b68-b8e4026d9ba6\");\n",
              "          async function getCodeForChartHandler(event) {\n",
              "            const chartCodeResponse =  await google.colab.kernel.invokeFunction(\n",
              "                'getCodeForChart', [\"chart-508b356e-133b-426a-9b68-b8e4026d9ba6\"], {});\n",
              "            const responseJson = chartCodeResponse.data['application/json'];\n",
              "            await google.colab.notebook.addCell(responseJson.code, 'code');\n",
              "          }\n",
              "          chartElement.onclick = getCodeForChartHandler;\n",
              "        })();\n",
              "      </script>\n",
              "      <style>\n",
              "        .colab-quickchart-chart-with-code  {\n",
              "            display: block;\n",
              "            float: left;\n",
              "            border: 1px solid transparent;\n",
              "        }\n",
              "\n",
              "        .colab-quickchart-chart-with-code:hover {\n",
              "            cursor: pointer;\n",
              "            border: 1px solid #aaa;\n",
              "        }\n",
              "      </style>"
            ]
          },
          "metadata": {}
        },
        {
          "output_type": "display_data",
          "data": {
            "text/plain": [
              "import numpy as np\n",
              "from google.colab import autoviz\n",
              "df_8018807916584790127 = autoviz.get_df('df_8018807916584790127')\n",
              "\n",
              "def categorical_histogram(df, colname, figsize=(2, 1.2), mpl_palette_name='Dark2'):\n",
              "  from matplotlib import pyplot as plt\n",
              "  import seaborn as sns\n",
              "  _, ax = plt.subplots(figsize=figsize)\n",
              "  bars = df[colname].value_counts()\n",
              "  plt.barh(bars.index, bars.values, color=sns.palettes.mpl_palette(mpl_palette_name))\n",
              "  plt.title(colname)\n",
              "  ax.spines[['top', 'right',]].set_visible(False)\n",
              "  return autoviz.MplChart.from_current_mpl_state()\n",
              "\n",
              "chart = categorical_histogram(df_8018807916584790127, *['AGE'], **{})\n",
              "chart"
            ],
            "text/html": [
              "      <div class=\"colab-quickchart-chart-with-code\" id=\"chart-da332a37-781b-4865-9bd3-3f3ca5c1d5fe\">\n",
              "        <img src=\"data:image/png;base64,iVBORw0KGgoAAAANSUhEUgAAANIAAACWCAYAAACrUNY4AAAAOXRFWHRTb2Z0d2FyZQBNYXRwbG90\n",
              "bGliIHZlcnNpb24zLjcuMSwgaHR0cHM6Ly9tYXRwbG90bGliLm9yZy/bCgiHAAAACXBIWXMAAA9h\n",
              "AAAPYQGoP6dpAAAJy0lEQVR4nO3dX0hUfRoH8O+8U1lgjktqijbO+mckXt1Gy7BkA9mioDDCLoyi\n",
              "lHTGi6j2qroQ66ouYhchJgvKjRKxlMgKeQmi0iiszIT+kIqmA2ouZGrIZPrbi9ahWf+so4+eo/P9\n",
              "wLmY48/jcx78cmaGmecYlFIKRDQrv2ldANFiwCARCWCQiAQwSEQCGCQiAQwSkQAGiUgAg0QkgEEi\n",
              "EsAgEQlgkHSutLQUBoMBJ0+eHPezuro67N69G2FhYQgMDITZbMauXbtw584dz5rTp0/DaDQiMDDQ\n",
              "azty5Mh8nsaixyDpnNPpxKpVq3D16lW43W7P/hs3bmDbtm1ISUlBQ0MDBgYG8P79ezgcDlRVVXkd\n",
              "Y9OmTRgcHPTaLly4MN+nsrgp0q36+noFQNXU1Khly5ap69evK6WUGhwcVMHBwaqoqOj/HqOoqEil\n",
              "p6fPcaXEK5KOOZ1O2Gw27NixA3v27IHT6QQAPH36FH19fThw4IDGFdIYBkmnvnz5goqKCtjtdgCA\n",
              "3W7Hs2fP8ObNG/T29gIAIiMjPevv37+P4OBgmEwmLF++HJ8+ffL87Pnz5wgODvbaSktL5/eEFjkG\n",
              "SafG3mTYv38/ACAjIwNxcXFwOp0IDQ0FALhcLs/6nTt3oq+vD69evYLb7Yb65WtmaWlp6Ovr89py\n",
              "c3Pn94QWOQZJh5RSKCkpwffv32G1WhEeHo6IiAi4XC6UlZUhLS0NJpMJZWVlWpdK/7VE6wJovAcP\n",
              "HqC5uRkPHz7E2rVrPfsHBgaQnJyMa9euobi4GAUFBTAajcjNzUVkZCTcbjfq6uo0rNx/MUg6dPHi\n",
              "RWzduhUZGRle+8PDw5GXl4eLFy/i3bt3sFgsOH/+PIqLizE0NISQkBAkJibizp07iI6O9vzes2fP\n",
              "EBgY6HWsjIwM3L17d17Oxx8YlOLMBqLZ4mskIgEMEpEABolIAINEJIBBIhLAIBEJYJCIBOgySMXF\n",
              "xVqXQOQTXQbp108uEy0EugwS0ULDIBEJ0GWQvvzxT3zMMWpdBtG06TJIRAsNg0QkgEEiEsAgEQlg\n",
              "kIgEMEhEAhgkIgEMEpEABolIAINEJIBBIhLAIBEJYJCIBDBIRAJ8CtLRo0dhsVhgMBjQ2Ng46bor\n",
              "V64gPj4esbGxyM/Px/Dw8GzrJNI1n4K0d+9e1NXVeQ1o/19tbW0oLCxEbW0tWlpa0NPTg8uXL8+6\n",
              "UCI98ylIW7ZsQVRU1JRrKisrkZmZifDwcBgMBhQUFKC8vHxWRRLpnfhtXTo6OryuWBaLBR0dHZOu\n",
              "d7vdXnfrBoCRUemqiOaW5m82nD17FiaTyWtr+rfWVRH5RjxIZrPZa5xWe3s7zGbzpOtPnTqFr1+/\n",
              "em1/CZGuimhuiQcpKysL1dXV6O7u9twLNTs7e9L1AQEBCAoK8tqMml8niXzj07+sw+FAVFQUXC4X\n",
              "tm/fjri4OABAXl4eqqurAQAxMTE4c+YM0tPTERcXh9DQUDgcDvnKiXREl7e+zP3dgFOpv8H6rxGt\n",
              "SyGaFj6JIhLAIBEJYJCIBDBIRAIYJCIBDBKRAAaJSACDRCSAQSISwCARCWCQiAQwSEQCGCQiAboM\n",
              "0p+2/52f/KYFRZdBIlpofA5Sc3MzNm/eDKvVitTUVLx9+3bcmkePHmHFihWw2WyebWhoSKRgIj3y\n",
              "eYqQw+GA3W5HTk4OKisrkZOTgxcvXoxbl5CQMOUQSaLFxKcr0ufPn/Hy5UscOHAAwM/5DJ2dnWhp\n",
              "aZlxAW63G/39/V7byAhfH9HC4lOQOjs7ERERgSVLfl7IDAYDzGbzhHPrWltbkZKSgtTUVDidzkmP\n",
              "OdE4rvr6eh9Pg0hbc/JmQ0pKClwuFxoaGnD79m2UlJTg5s2bE66daBzXxo0b56IsojnjU5DWrFmD\n",
              "rq4u/PjxAwCglEJHR8e4uXVBQUEwmUwAgKioKOzbtw+1tbUTHnPCcVxG40zOhUgzPgUpLCwMKSkp\n",
              "uHHjBgCgqqoKUVFRnrFcY7q6ujA6+nPu8MDAAO7du4fk5GShkon0x+endpcuXcKlS5dgtVpx7tw5\n",
              "lJaWAvCebVdVVYWkpCSsW7cOaWlp2LZtG3Jzc2UrJ9IRXc61C9yeiuDsv2ldBi0Srtxzc/43+MkG\n",
              "IgEMEpEABolIAINEJIBBIhLAIBEJYJCIBDBIRAIYJCIBDBKRAAaJSACDRCSAQSISwCARCZiTcVwA\n",
              "cOXKFcTHxyM2Nhb5+fkYHh6edbFEeuVzkMbGcX38+BEnTpxATk7OuDVtbW0oLCxEbW0tWlpa0NPT\n",
              "g8uXL0vUS6RLczKOq7KyEpmZmQgPD4fBYEBBQQHKy8snPOZE47gworvvGhJNaU7GcXV0dCA6Otrz\n",
              "2GKxTDiyC5h4HNf3ti5fz4NIU5q/2TDROK5lf47Quiwin/g0svjXcVxLliyZdByX2WxGa2ur53F7\n",
              "e/u4NWMCAgIQEBDgvdNo8KUsIs3NyTiurKwsVFdXo7u7G0oplJSUIDs7W65qIp2Zk3FcMTExOHPm\n",
              "DNLT0xEXF4fQ0FA4HA7Zyol0hOO4aNHjOC6iBYJBIhLAIBEJYJCIBDBIRAIYJCIBDBKRAAaJSACD\n",
              "RCSAQSISwCARCWCQiAQwSEQCfPpi33yx//5X/GMePrFLJIVXJCIBDBKRAAaJSIDuXiO53W7U1NRg\n",
              "ZGQERqNR63J0bWRkBPX19di4cSN7NYWp+hQdHY1jx47N+m/o7qvm/f39MJlM+Pr1K4KCgrQuR9fY\n",
              "q+mZjz7xqR2RAAaJSACDRCRAd0EKCAhAUVHR+OmrNA57NT3z0SfdvdlAtBDp7opEtBAxSEQCGCQi\n",
              "AboL0nTvUesPLBYLEhISYLPZYLPZUFFRAWDqHvlL/44ePQqLxQKDwYDGxkbP/pn2ZtZ9UzqTkZGh\n",
              "SktLlVJK3bp1S23YsEHbgjQUHR2tXr9+PW7/VD3yl/49fvxYdXZ2juvRTHsz277pKkg9PT1q5cqV\n",
              "anh4WCml1OjoqFq9erVqbm7WuDJtTBSkqXrkj/37tUcz7Y1E33T11G6696j1JwcPHkRSUhIOHz6M\n",
              "3t7eKXvk7/2baW8k+qarIJG3J0+eoKmpCQ0NDQgJCcGhQ4e0LokmoauvUUz3HrX+Yuy8ly5diuPH\n",
              "j8NqtU7Zo6CgIL/u30x7I9E3XV2RpnuPWn/w7ds39PX1eR6Xl5cjOTl5yh75e/9m2huRvkm96JPy\n",
              "4cMHlZaWpuLj49X69etVU1OT1iVporW1VdlsNpWUlKQSExNVZmamamtrU0pN3SN/6Z/dbleRkZHK\n",
              "aDSqsLAwFRsbq5SaeW9m2zd+1o5IgK6e2hEtVAwSkQAGiUgAg0QkgEEiEsAgEQlgkIgEMEhEAhgk\n",
              "IgEMEpEABolIwH8AeLbZDqzJREoAAAAASUVORK5CYII=\n",
              "\">\n",
              "        \n",
              "      </div>\n",
              "      <script></script>\n",
              "      <script type=\"text/javascript\">\n",
              "        (() => {\n",
              "          const chartElement = document.getElementById(\"chart-da332a37-781b-4865-9bd3-3f3ca5c1d5fe\");\n",
              "          async function getCodeForChartHandler(event) {\n",
              "            const chartCodeResponse =  await google.colab.kernel.invokeFunction(\n",
              "                'getCodeForChart', [\"chart-da332a37-781b-4865-9bd3-3f3ca5c1d5fe\"], {});\n",
              "            const responseJson = chartCodeResponse.data['application/json'];\n",
              "            await google.colab.notebook.addCell(responseJson.code, 'code');\n",
              "          }\n",
              "          chartElement.onclick = getCodeForChartHandler;\n",
              "        })();\n",
              "      </script>\n",
              "      <style>\n",
              "        .colab-quickchart-chart-with-code  {\n",
              "            display: block;\n",
              "            float: left;\n",
              "            border: 1px solid transparent;\n",
              "        }\n",
              "\n",
              "        .colab-quickchart-chart-with-code:hover {\n",
              "            cursor: pointer;\n",
              "            border: 1px solid #aaa;\n",
              "        }\n",
              "      </style>"
            ]
          },
          "metadata": {}
        },
        {
          "output_type": "display_data",
          "data": {
            "text/plain": [
              "<google.colab._quickchart_helpers.SectionTitle at 0x78122e41cb80>"
            ],
            "text/html": [
              "<h4 class=\"colab-quickchart-section-title\">2-d categorical distributions</h4>\n",
              "<style>\n",
              "  .colab-quickchart-section-title {\n",
              "      clear: both;\n",
              "  }\n",
              "</style>"
            ]
          },
          "metadata": {}
        },
        {
          "output_type": "display_data",
          "data": {
            "text/plain": [
              "import numpy as np\n",
              "from google.colab import autoviz\n",
              "df_8018807916584790127 = autoviz.get_df('df_8018807916584790127')\n",
              "\n",
              "def heatmap(df, x_colname, y_colname, figsize=(2, 2), mpl_palette_name='viridis'):\n",
              "  from matplotlib import pyplot as plt\n",
              "  import seaborn as sns\n",
              "  import pandas as pd\n",
              "  plt.subplots(figsize=figsize)\n",
              "  df_2dhist = pd.DataFrame({\n",
              "      x_label: grp[y_colname].value_counts()\n",
              "      for x_label, grp in df.groupby(x_colname)\n",
              "  })\n",
              "  sns.heatmap(df_2dhist, cmap=mpl_palette_name)\n",
              "  plt.xlabel(x_colname)\n",
              "  plt.ylabel(y_colname)\n",
              "  return autoviz.MplChart.from_current_mpl_state()\n",
              "\n",
              "chart = heatmap(df_8018807916584790127, *['DURATION', 'AMOUNT'], **{})\n",
              "chart"
            ],
            "text/html": [
              "      <div class=\"colab-quickchart-chart-with-code\" id=\"chart-39e05e91-2c3a-47f2-86c5-2db9b237fc4e\">\n",
              "        <img src=\"data:image/png;base64,iVBORw0KGgoAAAANSUhEUgAAAN0AAADNCAYAAAA8EnWBAAAAOXRFWHRTb2Z0d2FyZQBNYXRwbG90\n",
              "bGliIHZlcnNpb24zLjcuMSwgaHR0cHM6Ly9tYXRwbG90bGliLm9yZy/bCgiHAAAACXBIWXMAAA9h\n",
              "AAAPYQGoP6dpAAAYzklEQVR4nO3da1AUV9oH8H/D4ACbgIGgoggDiBiCMoIKuamRVSPuKlGzSgAl\n",
              "iqj7IdHgG9RVlxjjZV8ramIRNRIQ8UIU3fW2YEjEuOUlKBI0CQSQAS+wIhAvQWAu/X6w7BfC0NPI\n",
              "dEMzz6+qq5g+PXOeoXg4p093n8OwLMuCECIZq64OgBBLQ0lHiMQo6QiRGCUdIRKjpCNEYpR0hEiM\n",
              "ko4QiVHSESIxSjpCJKbo6gCEMFQP7uoQusTE/gFdHUKX+NpwkLdcVz2It1zRr9Sc4ZidLJKOkJb0\n",
              "rIG3vLv/UXf3+AhpQwc9b7lSojieFiUdkR2tiZauu6OkI7Kjh7wfjKGkI7JDLR0hEpN3ylHSERlq\n",
              "lvlz15R0RHa0YLo6hE6hpCOyY5B3Q0dJR+SnWeZ3L1LSEdnRspR0hEhKTy0dIdKilo4QiWlZef/Z\n",
              "yjt6YpH0dMmAEGlpWeuuDqFTKOmI7DRT95IQaRlo9JIQaTVT95IQadHoJSES07M0ekmIpKilI0Ri\n",
              "dMmAEInJ/d5LeUdPLJKWtebdOuLkyZMIDAyEWq2Gv78/du/eDQC4c+cO3njjDfj4+MDf3x/fffcd\n",
              "9x6+MiGopSOyY67uJcuyiIqKQm5uLoYNGwaNRoMhQ4Zg2rRpWLZsGUJCQpCVlYW8vDy8+eabKC8v\n",
              "h42NDW+ZEJK0dJcvX8aePXsAAPX19aiqqpKiWtJDGVgr3q0jGIbBr7/+CgC4f/8+nJ2doVQq8dVX\n",
              "X2HhwoUAgJEjR6J///44c+YMAPCWCSF6S5eUlIQdO3bg4cOHiI6ORl1dHWJjY3H69GmxqyY9lKmW\n",
              "rqmpCU1NTa32KZVKKJWt535mGAYZGRmYNm0a/vCHP6C+vh6HDx/GgwcPoNVq0a9fP+5YlUqFyspK\n",
              "1NbWtlsmlOgt3c6dO3HhwgU4ODgAALy9vVFTUyN2taQHM3VOt379ejg6Orba1q9f3+ZzdDod1q5d\n",
              "i8OHD6OiogLffPMNoqOjodPpRI1f9JZOqVTCzs6udaUKOpUkT09vogu5cvlyvP/++632/b6VA4CC\n",
              "ggLcvn0bo0ePBvC4q+jm5obCwkIoFApUV1dzLZpGo4G7uzucnZ3bLRNK9JbOxcUFv/zyCxjm8V0E\n",
              "qampHQqQkN8z1dIplUo4ODi02owl3cCBA1FVVYWff/4ZAFBaWoqysjL4+vrirbfewvbt2wEAeXl5\n",
              "uHXrFsaMGQMAvGVCiN7kbNmyBRERESgqKsLAgQPh4OCA48ePi10t6cF0Zhq97Nu3L3bu3Im//OUv\n",
              "sLKygsFgwLZt2+Du7o6NGzciOjoaPj4+6NWrF9LT07nRSb4yIRiWFX+6XIPBgOLiYrAsC19fX1hb\n",
              "d+yXRotCWhZTi0IuKZjFW75ZfcCc4Zid6N3LvLw8NDY24oUXXsC1a9eQkJCA27dvi10t6cF0Bmve\n",
              "rbsTPeliY2OhVCpRUlKCv/3tb7CxscE777wjdrWkB9OyVrxbdyd6hNbW1rC2tsa///1vLFq0COvX\n",
              "r8edO3fErpb0YOa8ON4VRB9IaWpqwn//+18cO3YMGzduBADo9e0vX2vswqZNkwFKZff/ZRJpyKE1\n",
              "4yN69EuWLIGvry8cHR0RGBiIsrIyPPfcc+0eb+zC5obP6sUOk8iI3M/pJBm9bMlgMECn06FXr15G\n",
              "y422dPWBFtnS0eilcZEX5/OW7w3+wpzhmJ1o3cujR4/ylk+ZMsXofmP3yBkaLC/hSPvk0JrxES3p\n",
              "Nm/e3G4ZwzDtJh0hpuhkfk4nWtLRUwRELAaamMg0rVaL8vJyNDY2cvuGDRsmRdWkB9IZqKXjdfz4\n",
              "ccyfPx/19fXcM0seHh4oLy8Xu2rSQ8m9eyl69KtWrcKFCxfwwgsvoLa2FmlpaZgxY4bY1ZIezMAy\n",
              "vFt3J3rSWVlZwcPDg3swMCoqCt9++63Y1ZIeTGew4t26O9G7l08eeXBzc8ORI0egUqlQX08Xu8nT\n",
              "08sgsfiIlnRxcXHYuXMn3nvvPRw5cgRr167FrFmz8Ouvv2Lr1q1iVUssgIEWhTTu0qVLAICIiAgE\n",
              "BgYiPz8fJSUlYlVHLAi1dAJIfKcZ6eEo6drx6NEjXL16FSzLorGxkfv5CbpOR56WHEYo+YiadC1v\n",
              "9Wr5M8MwuH79ulhVkx6Olspqh0ajEeujiYWTe/dSUPQdmTKaELGxLP/W3QlKuiVLlogdByGCGQxW\n",
              "vFt3J6h7SaOPpDvRGyzgnK6mpgaffvppu+Xvvvuu2QIixBTWjAMpTU1NiI+PR3Z2NmxtbREQEID0\n",
              "9HSUlJRgzpw5uHv3LhwdHZGamooXX3wRAHjLhBCUdI8ePcKVK1eMlj2ZLp0QqZjzksGyZcvAMAw3\n",
              "9X91dTUAYMGCBYiLi0NMTAwOHTqEmJgY5OXlmSwTQtAcKcOHD2836aRAMzxbFlNzpAw+9BFv+dU/\n",
              "fyBoqazffvsNrq6uuHnzJreqFPB4pdVBgwahrq4OCoUCLMvC1dUV//nPf+Dg4NBu2aBBgwR9v+5/\n",
              "1knI77Asw7sJXSqrrKwMTk5OWLduHUaMGIHXXnsN33zzDW7cuAFXV1dudSmGYeDu7o7KykreMqEE\n",
              "dS+frDpJSHdgMDGQslzgUlk6nQ4VFRXw8/PDhg0bcOXKFYwfPx4nTpwwa7y/Jyjp7OzskJaW1m75\n",
              "7NmzzRYQIaawJpLOWFfSGHd3d1hZWSEyMhLA49MoT09PVFRUoKqqCjqdjutCVlZWwt3dHQ4ODu2W\n",
              "CSUo6Y4dO9ZmH8MwuHTpEioqKijpiLTMdAXr+eefR2hoKLKzsxEWFoby8nKUl5fjlVdeQWBgINLT\n",
              "0xETE4PMzEy4ublx52x8ZUIISrqDB1uf2BYXF2P58uUAgN27dwuujBBzMNXSdcT27dsxb948JCQk\n",
              "wMrKCjt27MCAAQOwY8cOxMTEYN26dXBwcEBKSgr3Hr4yITp072V1dTVWr16NEydOICEhAQcOHGh3\n",
              "pmZCxGLOpPPy8jI6XaSvry/Onz9v9D18ZUIIGr188OABVqxYAbVaDVdXVxQVFeHdd9+lhCNdhDGx\n",
              "dW+CWjpPT084OjpizZo16NevX5v/DDRbM5GUoasD6BxBSefv7w+GYbB///42ZTRFOpGaObuXXUFQ\n",
              "0uXm5oocBiEdIPP77wUlXWFhYavXDMOgT58+6Nu3ryhBEcKHsYSWburUqW323b17F97e3jh48CB8\n",
              "fHzMHhgh7bKEpGtv3YG0tDS89957OHnypFmDIoSXzLuXnbrhefbs2dyjEIRIxmBi6+Y6PTGRXq83\n",
              "RxyECGYR53T3799vs6+2thY7duxAQIBlPvNFupDMu5eCkq53795gGKbVXCl9+vTBxIkTsWXLFrFi\n",
              "I8QoxhKSzmDo2o7yGwMDu7T+rvK14UBXh9A9WUL38ony8nLk5+cDAIKCgqBSqcSIiRB+ltDSabVa\n",
              "zJs3D5mZmdw1uZKSEkyfPh3JycncGnSESIGRwQglH0GXDBITE9HQ0IAbN26goKAABQUFqKysREND\n",
              "A1avXi12jIS0whj4t+5OUNIdPHgQ6enpcHJy4vY5OzsjLS0Nhw4dEi04QoxiGf6tmxPUvbSxsYGt\n",
              "rW2b/fb29vRMHZGcHFozPoJaOmtra6NTjGk0GlhZ0Sx+RGKsia2bE5Qx77//PiZNmoTs7Gzcu3cP\n",
              "9+7dQ1ZWFiZPnkyLixDJyf2cTlD3MiYmBs3NzYiNjcXt27cBAAMGDMCKFSswd+5cUQMk5PfkkFh8\n",
              "BF+ni4uLQ1xcHGpqagAALi4uogVFSE/2VA+xAkBVVRX3M60fTqRkES2dWq2Gm5sbN6NtS7R+OJGc\n",
              "CEmXkpKCuXPn4siRIwgPD8edO3cwe/ZslJWVQalUIikpCaNHjwYA3jIhBA2kREdHQ6lUYubMmTh1\n",
              "6hQ3E255eTklHJEcw/JvHaXRaPDFF18gJCSE27ds2TKEhISgpKQEKSkpePvtt6HVak2WCSEo6Xbv\n",
              "3o38/Hx4eXlhzpw5GD16NFJTU9HQ0NDBr0dI55lz9NJgMCA2NhafffZZq/UPvvrqK27hnJEjR6J/\n",
              "//44c+aMyTIhBA+kPPvss5g/fz7mz5+PU6dOISoqCnfu3MEHH3wguDJCzMJEYjU1NQlanw4APvnk\n",
              "E7zyyisICgri9tXW1kKr1aJfv37cPpVKhcrKSt4yoQRf2dbpdMjMzERYWBji4+OxdOlSvPPOO4Ir\n",
              "IsRcTHUvha5Pd+3aNWRmZmLlypWSxi+opVuyZAmOHTuG0NBQrF69ulXflxDJmWjphK5Pd/bsWWg0\n",
              "Gu7JmerqasTFxeHDDz+EQqFAdXU116JpNBq4u7vD2dm53TKhBC1/bGVlBR8fH9jb27daY5xlWTAM\n",
              "wz1jJ5YJNrNE/fzu6pSWHmI1xv9/NvOWX/vfp7tLauzYsVi8eDHCw8MRExMDlUqFxMRE5OXlITw8\n",
              "HBqNBjY2NrxlQghq6YytagI8fs7u4cOHwr8VIWYgxXQNGzduRHR0NHx8fNCrVy+kp6dzScVXJoSg\n",
              "lu73iouLkZycjLS0NLi5ueHSpUsd/YgOoZaOtDT0ff6W7uon3ft+YMGjlw0NDcjIyEBycjKuX7+O\n",
              "R48e4fz58xgyZIiY8RHShtwnJhI0ejl//nwMHDgQR48eRUJCAiorK9G7d29KONIlzH1xXGqCWroD\n",
              "Bw5gxIgRWLBgASZOnAiGYVoNqBAiKZnfeymopauqqkJUVBTWrFkDDw8PrFy5skO3vRBiTnJ/nk5Q\n",
              "0j3zzDOYN28ezp07h6ysLDQ2NqK5uRkvv/wykpKSxI6RkFbk3r3s8FwLfn5+2LRpE27duoX4+Hic\n",
              "OHFCjLgIaZdFtHTGKBQKTJ8+nZKOSE/mq/aIOquQVqtFWVmZmFUQC2Rx3UuhcnNz4eHhgddffx0A\n",
              "kJeXh6ioKLGqIxaEMbC8W3cnWtItW7YMZ8+ehbOzM4DHzx1duXJFrOqIBZH7OV2nF4Vsj16vh7e3\n",
              "d6t9NDEtMYvu35jxEi3pbG1t8fDhQ+4i+tWrV2FnZydWdcSCyKE14yNa0q1atQoTJkzArVu3EBUV\n",
              "hZycHOzbt0+s6ogFoaRrx4QJE+Dj44OsrCywLIsPP/ywTXeTkKchhxFKPqIlHQB4enpi0aJFYlZB\n",
              "LJAcRij5iJZ0np6eRm+Kpin7SGcx+q6OoHNES7rjx49zPzc2NmLPnj3c5QNCOkXeDZ14Sffiiy+2\n",
              "eh0UFISXX34Zq1at4n2fsenTDKweVoy12WMk8iT37qVki8vV1taiurra5HHGpk8rN/wsQYRELuji\n",
              "eDuGDx/OndPp9XpUVFQImpjW2PRp05zmiRIjkScavWzHli1b/r8ShQJeXl5wdXU1+T5jM/FS15K0\n",
              "JPfupShJp9frsWvXLuzZs0eMjycWTg5dSD6inNNZW1vjl19+EeOjCQEMLP8mUGNjI8LDwzF48GAE\n",
              "BARg/PjxKC0tBfB4Oaw33ngDPj4+8Pf3x3fffce9j69MCNEGUl5//XXExcXh3LlzKCws5DZCOsuc\n",
              "AylxcXEoLi7GDz/8gKlTpyI2NhaAuEtlmb17GRERgf379yMjIwMA8PXXX3NltIAkMQdzndPZ2toi\n",
              "LCyMex0SEoJNmzYBeLwc1pNWr+VyWH/84x95y4Qwe9IVFRUBAMrLy8390YQ8ZiLnOrJUVktbt27F\n",
              "1KlTu89SWULRfJhEbIye5d2ELpXV0rp161BaWmryOHMwe0tXWFgIJyenNvufrPBTV1dn7iqJhTHV\n",
              "vRS6VNYTmzZtwuHDh5GTkwN7e3vY29uLulSW2ZPO19cXJ0+eNPfHEvL/TKx5I6Qr+cQnn3yC/fv3\n",
              "IycnB7179+b2v/XWW9i+fTu3HNatW7cwZswYk2VCmD3plEolPDw8zP2xhHDMNZBy8+ZNxMfHw8vL\n",
              "i5tAS6lU4uLFi6IulWX2pHuKlbcI6RBGb56/MTc3t3b/Xvv27YtTp051uEwIsycdzfhFRCfz/+ui\n",
              "PjlOiBgYg7zvA6OkI7Jjru5lV6GkI/Ij83EDSjoiP9TSESItOqcjRGrUvSREYtS9JERa1L0kRGo0\n",
              "RwohEqOWjhCJ6SnpCJEWS0lHiLSopSNEYnROR4jE6OI4IRLTy3uBOko6Ij90TkeItFgavSREYtTS\n",
              "ESIxOqcjRFosXTIgRGLUvSREWix1LwmRGI1eEiItubd0DEvzoLerqakJ69evx/LlywUvSNETWOr3\n",
              "lgolHY/79+/D0dER9+7dg4ODQ1eHIxlL/d5SEW3NcUKIcZR0hEiMko4QiVHS8VAqlfj73/9ucYMJ\n",
              "lvq9pUIDKYRIjFo6QiRGSUeIxCjpCJGYRd0GplKpoFQqYWdnBwAYMWIEdu3aZfTYsWPHYvHixQgP\n",
              "D5cwQvGo1WoAQHNzM4qLizF06FAAgK+vLzIyMrowMstjUUkHABkZGdwfoCUpKCgAAGg0GqjVau51\n",
              "SzqdDgqFxf1JSM6iu5f79u1DcHAwhg8fjoCAABw7dszocbt27YKfnx/UajWGDh2KixcvAgBKSkow\n",
              "efJkjBw5EsOGDcO2bdukDN8sVCoVEhISMGrUKMyZMwe5ubmt/ildu3YNKpWKe52dnY1XX30VQUFB\n",
              "GDVqFE6fPi190DJncf/WZs6cyXUvV61ahQsXLoBhGGg0GoSEhKCioqLN9an4+HgUFRXB1dUVWq0W\n",
              "TU1N0Ov1iIiIQHp6OoYMGYKGhgaEhIQgODgYI0eO7Iqv9tRqa2tx8eJFMAyD3Nzcdo+7fv06EhMT\n",
              "kZ2dDQcHB5SWluK1116DRqOha3odYHFJ17J7eenSJUyaNAk3b96EQqFAXV0dysvLMWTIkFbvCQ0N\n",
              "RXR0NP785z9j0qRJGDx4MH766Sf8+OOPmDVrFnfcgwcP8NNPP8ku6WJiYsAwjMnjsrKyUFpaitGj\n",
              "R3P7rKysUFlZCR8fHzFD7FEsLulamjVrFjZs2IAZM2YAAJycnNDY2NjmuMzMTFy+fBm5ubkICwvD\n",
              "2rVrMXToUDg5ORk9N5KbZ555hvtZoVBA3+J5tZa/D5ZlMX78eOzbt0/S+Hoaiz6nq6+vh6enJwAg\n",
              "PT0d9fX1bY7R6XQoKyvDiBEjsHTpUsyYMQPff/89fH194eDggJSUFO7Y0tJS1NXVSRa/GLy8vFBR\n",
              "UYGamhoAwJ49e7iyiRMnIicnB4WFhdy+77//XvIY5c6iW7qtW7dixowZ6N27N8aNGwd3d/c2x+j1\n",
              "esydOxd1dXVQKBRwcXFBSkoKFAoFjh8/jsWLF2Pz5s3Q6/V4/vnnZd8K9O/fHx988AFGjRqFvn37\n",
              "YtKkSVzZoEGDsG/fPixYsAANDQ1obm7G8OHDZf+dpUb3XhIiMYvuXhLSFSjpCJEYJV0HqFQq+Pr6\n",
              "IiAgAIMGDcLUqVNx7tw5AEBiYiIWL17c6vjU1FTuNrLc3FzY2dlBrVZj2LBhCA4OxoULF1odf/36\n",
              "dVhZWeGjjz4CABw9ehRqtRpqtRr9+vWDi4sL93rv3r1t6vz5558xefJkeHt7w9vbG3/6059QVFTE\n",
              "lScmJoJhGJw9e5bbt23bNsTExJjvl0RMoqTroIyMDPzwww8oLS3FnDlzEBYWxt2hYoqvry8KCgpQ\n",
              "WFiI6OhozJ07t1X5l19+iXHjxiElJQUsy2LKlCkoKChAQUEBFi5ciMjISO51ZGRkq/fevn0bY8aM\n",
              "QWRkJMrKylBWVobIyEiMHTsW1dXV3HFP7kAhXYeSrhOmTZuGhQsXYtOmTR1+b2hoKCoqKrjXer0e\n",
              "qamp+PTTT/Hss8/i22+/7dDnJSUlYezYsXj77be5fRERERg9ejSSkpK4fVOmTIFWq8WRI0c6HDMx\n",
              "D0q6TgoODsaPP/7Y4fcdOnSo1d0s2dnZcHNzg5+fH+bNm4fk5OQOfV5+fj5eeumlNvtfeuklXL58\n",
              "mXvNMAw2bNiAFStWtLoITqRj0dfpzOHJFZf2bqNqub+4uBhqtRrV1dXQ6XStuqXJyclcdzMyMhKr\n",
              "V69GfX09nnvuObPHHBoaioEDB+LLL780+2cT06il66S8vDz4+/vDxcUFtbW1rcru3r2LPn36cK+f\n",
              "nNPduHEDb775JiIjI8GyLGpqanDixAl89NFHUKlUCAoKglarxd69ewXHERgYiPPnz7fZf/78eQQG\n",
              "BrbZv2HDBqxZswYNDQ0d+LbEHCjpOuFf//oXPv/8c8THx2PcuHHIyclBZWUlgMezJO/duxcTJkxo\n",
              "8z4bGxts3boVN2/exD//+U+kpaUhPDwcN27cgEajgUajwaFDhzrUxVy0aBFOnz7d6u6Q/fv3Izc3\n",
              "F3/961/bHB8YGIhXX30Vn3/++VN8c9IZ1L3soJkzZ8LW1ha//fYb/Pz8cPLkSQQHBwMAPvvsM0yb\n",
              "Ng06nQ4GgwFRUVGYPn260c+xt7fHxx9/jMTERDQ3N+Mf//hHq/Lx48cjJiYG+fn5Rluq3xswYABy\n",
              "c3OxdOlSrFy5EgzDwNfXF2fOnIGrq6vR93z88cdtnqgg4qPbwAiRGHUvCZEYJR0hEqOkI0RilHSE\n",
              "SIySjhCJUdIRIjFKOkIkRklHiMQo6QiRGCUdIRKjpCNEYv8HzDy4mTVlOKcAAAAASUVORK5CYII=\n",
              "\">\n",
              "        \n",
              "      </div>\n",
              "      <script></script>\n",
              "      <script type=\"text/javascript\">\n",
              "        (() => {\n",
              "          const chartElement = document.getElementById(\"chart-39e05e91-2c3a-47f2-86c5-2db9b237fc4e\");\n",
              "          async function getCodeForChartHandler(event) {\n",
              "            const chartCodeResponse =  await google.colab.kernel.invokeFunction(\n",
              "                'getCodeForChart', [\"chart-39e05e91-2c3a-47f2-86c5-2db9b237fc4e\"], {});\n",
              "            const responseJson = chartCodeResponse.data['application/json'];\n",
              "            await google.colab.notebook.addCell(responseJson.code, 'code');\n",
              "          }\n",
              "          chartElement.onclick = getCodeForChartHandler;\n",
              "        })();\n",
              "      </script>\n",
              "      <style>\n",
              "        .colab-quickchart-chart-with-code  {\n",
              "            display: block;\n",
              "            float: left;\n",
              "            border: 1px solid transparent;\n",
              "        }\n",
              "\n",
              "        .colab-quickchart-chart-with-code:hover {\n",
              "            cursor: pointer;\n",
              "            border: 1px solid #aaa;\n",
              "        }\n",
              "      </style>"
            ]
          },
          "metadata": {}
        },
        {
          "output_type": "display_data",
          "data": {
            "text/plain": [
              "import numpy as np\n",
              "from google.colab import autoviz\n",
              "df_8018807916584790127 = autoviz.get_df('df_8018807916584790127')\n",
              "\n",
              "def heatmap(df, x_colname, y_colname, figsize=(2, 2), mpl_palette_name='viridis'):\n",
              "  from matplotlib import pyplot as plt\n",
              "  import seaborn as sns\n",
              "  import pandas as pd\n",
              "  plt.subplots(figsize=figsize)\n",
              "  df_2dhist = pd.DataFrame({\n",
              "      x_label: grp[y_colname].value_counts()\n",
              "      for x_label, grp in df.groupby(x_colname)\n",
              "  })\n",
              "  sns.heatmap(df_2dhist, cmap=mpl_palette_name)\n",
              "  plt.xlabel(x_colname)\n",
              "  plt.ylabel(y_colname)\n",
              "  return autoviz.MplChart.from_current_mpl_state()\n",
              "\n",
              "chart = heatmap(df_8018807916584790127, *['AMOUNT', 'INSTALL_RATE'], **{})\n",
              "chart"
            ],
            "text/html": [
              "      <div class=\"colab-quickchart-chart-with-code\" id=\"chart-ffa82f99-dc79-4d8f-af62-4d5029d6fe3c\">\n",
              "        <img src=\"data:image/png;base64,iVBORw0KGgoAAAANSUhEUgAAAN4AAADNCAYAAADXJc6CAAAAOXRFWHRTb2Z0d2FyZQBNYXRwbG90\n",
              "bGliIHZlcnNpb24zLjcuMSwgaHR0cHM6Ly9tYXRwbG90bGliLm9yZy/bCgiHAAAACXBIWXMAAA9h\n",
              "AAAPYQGoP6dpAAAZCklEQVR4nO3dfVQU190H8O/A4irNQQtBRRABWdcYMYii1EQTYzVRa0DFEiKo\n",
              "qEE58WmMJgLHUNRYCScmauLTYwkEIwiFBNKKJ8UGG6K1wbeEaILyvhBQqwFErAL7Ms8f1Hlc2Vl2\n",
              "YGcn4/4+58w5O3NnZ+5y9se9e++dexmWZVkQQmzKQeoMEGKPKPAIkQAFHiESoMAjRAIUeIRIgAKP\n",
              "EAlQ4BEiAQo8QiRAgUeIBBRSZ8BShmvjpM6CJJ4b9YTUWZDEF4ZPzKbrrvnzpilG1lg7O1Ynm8Aj\n",
              "5H561sCbJocvtRzySEgvOuh505Q2zEd/UeARWdKaKfHkgAKPyJIe8n6ohgKPyBKVeIRIQN5hR4FH\n",
              "ZKpb5s9vU+ARWdKCkToLA0KBR2TJIO8CjwKPyFO3zEc7UuARWdKyFHiE2JyeSjxCbI9KPEIkoGXl\n",
              "/dWVd+6J3dJTdwIhtqdlHaXOwoBQ4BFZ6qaqJiG2Z6BWTUJsr5uqmoTYHrVqEiIBPUutmoTYHJV4\n",
              "hEiAuhMIkQCN1SREAnIv8eT9b4PYLS3ryLsJ9fnnnyMoKAiBgYGYOHEiPv74YwDA9evX8fzzz0Ol\n",
              "UmHixIk4ceIE9x5zaZawSYl3/vx5VFRUIDo6Gm1tbejs7ISHh4ctbk0eUgYrPZ3AsiyioqJQWlqK\n",
              "SZMmQaPRYPz48ViyZAkSEhIQEhKC4uJinD17FosXL0Z9fT2cnJzMpllC9BLvj3/8I1avXo1t27YB\n",
              "AFpbW/HSSy+JfVvykLNmiccwDG7evAkAuHXrFtzc3KBUKpGfn4/169cDAIKDgzFq1Ch89dVXAGA2\n",
              "zRKil3hpaWkoKyvDjBkzAABjx47FjRs3xL4teciZC7Curi50dXUZHVMqlVAqe0/uzjAM8vLysGTJ\n",
              "EvziF79AW1sbCgsL0dHRAa1Wi5EjR3Ln+vj4oLGxES0tLbxplhK9xFMqlRgyZIjRMYWC2nTIwOhZ\n",
              "B94tJSUFQ4cONdpSUlJMXken02Hnzp0oLCxEQ0MDjh8/jujoaOh0OlHzL3oEuLu7o6qqCgzTM9Lg\n",
              "4MGD8Pb2Fvu25CFnrsR7MzERmzZtMjpmqrQDgPLycly5cgWzZs0C0FNt9PLywoULF6BQKHDt2jWu\n",
              "ZNNoNPD29oabmxtvmqVEL/H27t2L5cuX4/Llyxg9ejTeeecd7Nu3T+zbkoecjnXk3ZRKJVxcXIw2\n",
              "vsAbPXo0rl69ikuXLgEAampqUFtbC7VajWXLluHAgQMAgLNnz6K5uRlPP/00AJhNs4ToJZ6/vz9O\n",
              "nz6NyspKsCwLtVoNR0d598EQ6VlrrOaIESOQlpaG3/72t3BwcIDBYMD+/fvh7e2N1NRUREdHQ6VS\n",
              "YdCgQcjOzuZaLc2lWYJhWXHnwj579iwef/xxODs7Iz8/H2fOnMGmTZswatQoQdehFWHtS18rwv7P\n",
              "N8t50z4IOmzt7Fid6FXNtWvXQqlUorq6Glu3boWTkxNiYmLEvi15yGlZB95NDkTPpaOjIxwdHfG3\n",
              "v/0NcXFxSElJwfXr18W+LXnIGVgH3k0ORP+N19XVhX//+98oKipCamoqAECv519G9957HuyHceoy\n",
              "QKmUxx+ViE8uJRsf0XP/2muvQa1WY+jQoQgKCkJtbS1++ctfmn2PqX6Ytz9oEzurREZ0BkfeTQ5E\n",
              "b1x5kMFggE6nw6BBg3jPMVnitQXZZYlHjSumLT/9Mm/a4ekfWjs7VidaVfPIkSNm01944QXeNFPD\n",
              "ewx37C/oCD+5lGx8BAXeF198gblz5wIA6uvr4evry6Xl5uYiMjKS29+zZw/vdRiGMRt4hPRFJ/Pf\n",
              "eIKqmkFBQfjmm296vTa1b23Uj2df+qpqLj71Cm/aZ0/+r7WzY3WCSrz7Y/TBeDUXv1qtFvX19ejs\n",
              "7OSOTZo0ScitCTGiM8i7xBMUePcGOj/42tT+PUePHsXLL7+MtrY27rGLMWPGoL6+vh/ZJaSH3Kua\n",
              "ggLv5s2bKCoqAsuyaG9vN2pAaW9vN/mepKQklJWVISwsDN9++y2ys7Px3XffDSzXxO4Z7GlezTFj\n",
              "xuC9994DAHh7exs1oPA9EuHg4IAxY8ZwzzdFRUWZbXghxBJ2VdVMS0uDSqUSdIN7I7a9vLzw2Wef\n",
              "wcfHB21t1BlOBkYv88ATlPuIiAiLz42NjQUAvPrqq/jss8+wc+dObNmyBfPmzcPOnTuF5ZKQBxjA\n",
              "8G5y0O9Wzb6cO3cOABAZGcl1NVRXVwvLHSE85F7iCQq89vZ2rnHFFL5OcRuPSiN2wK4C78aNG9iz\n",
              "Z4/JQHpwNMrdu3dx8eJFsCyLzs5O7vU91I9HBsKuWjX9/f3xj3/8w6Jz7969axSI979mGAZ1dXVC\n",
              "bk2IEVqm6790Op3RtH0ajcZalyakF7lXNQXl3tRvuIqKCmzatAmenp5WyxQhfWFZ/k0OBAXe9u3b\n",
              "AQC3b99Geno6QkJCMHnyZCiVSpSUlIiSQUJMMRgceDc5EJTLU6dOYfXq1Rg9ejSKi4uRlJQEDw8P\n",
              "pKSkICAgQKw8EtKL3sDwbnIgKPBmzpyJpqYmXLp0CZ9++ikWLlwIBwd5/IchDxeWZXg3obq6urBh\n",
              "wwaoVCoEBAQgKioKAFBdXY0ZM2Zg3LhxCA4Oxg8//MC9x1yaJQRFTUZGBu7evYvg4GBs3bqVOsSJ\n",
              "ZAwsw7sJlZCQAIZhUFVVhYsXL2L37t0AgHXr1iE2NhZVVVWIj4/HqlWruPeYS7NEv+ZcqaysxEcf\n",
              "fYRDhw6hvb0d+/btQ3h4eJ+TGA0EPQhrX/p6EHbcp2/xplWFJ1l8n//85z/w8PBAU1MTXFxcuOPX\n",
              "r1+Hv78/WltboVAowLIsPDw88M9//hMuLi68af7+/hbdt1/1RLVajdTUVDQ1NSEnJwdFRUUYPXp0\n",
              "fy5FSL+Yq2p2dXXh1q1bRtuDk2fdU1tbC1dXV+zatQtTp07FzJkzcfz4cfz444/w8PDgusgYhoG3\n",
              "tzcaGxvNpllqQD/QHB0dERYWhrS0NFpsktiUwcDwbkKX6WpoaMCECRNw7tw5vP/++4iIiBB9mS5B\n",
              "gXfjxg1s2LABixYtwuHDh9Hd3Y2EhASMGzeuz0lqCbEm1sDwbomJiWhvbzfaEhMTTV7H29sbDg4O\n",
              "WL68Zy2GyZMnw9fXFw0NDbh69SoXgCzLorGxEd7e3twKQ6bSLCUo8F5++WXcuHEDCxcuRG5uLp59\n",
              "9lmUlJTgxIkTyMjIEHIpQgaG5d+ELNP16KOPYs6cOTh27BiAntnz6uvr8eSTTyIoKAjZ2dkAgIKC\n",
              "Anh5ecHf3x/Dhw/nTbOUoMaVCRMmoKKiAkBPE6y7uzsaGxsxbNgwi2/YX9S4Yl/6alzxzTZddQSA\n",
              "+ijTpRufuro6rFmzBj/99BMcHBzw+9//HkuXLkVlZSVWrVqFlpYWuLi4IDMzk+uvNpdmCUFjNQcP\n",
              "Hsy9ViqV8Pf3t0nQEfIg1ood5X5+fvjyyy97HVer1fj6669NvsdcmiUEBV5TU5PRErcP7t+bj4UQ\n",
              "8cljhAofQYH3yiuvmN0nxGYMUmdgYAQFXnJyskXnffLJJ1i2bFm/MkSIJaxZ1ZSCKAMt+fpMCLEa\n",
              "M62aciDKakE0xwoRGyPzEk+UwOObzp0Qq6HAI0QCMq9UUVWTyJPMWzWt1rjy+uuvc6937dplrcsS\n",
              "YhJjYHg3ObBa4OXn53Ov58+fb63LEmIatWr2oOolsSVG5l83qwWe2C2ZDiOrRL3+zxZj+UIxdkUm\n",
              "VUo+ggJv8eLFJgOMZVm0tLRYLVOE9MmeSrywsLB+pRFibYzMWzUFBd7KlSt50woKCgacGUIsJffA\n",
              "s1qr5muvvWatSxHSN5bh32SAWjWJLMm9xJNNqyYhRmT+f15Q4L3//vsmj7Msi9u3b1slQ4RYwq5K\n",
              "vG+//ZY3LTQ0dMCZIcRSdhV4mZmZvGliTwBKyMNkwK2atDAlkQJj4N/koF+BRwtTEskZzGz9lJmZ\n",
              "CYZh8Je//AVAz8Ilzz//PFQqFSZOnIgTJ05w55pLswQtTElkiWH5t/7QaDT48MMPERISwh1LSEhA\n",
              "SEgIqqurkZmZiZdeeglarbbPNEvQwpRElqxZ1TQYDFi7di0++OADo6ne8/PzsX79egBAcHAwRo0a\n",
              "ha+++qrPNEvQwpREnsxUNYUs0wX0TMT85JNPYsqUKdyxlpYWaLVajBw5kjvm4+ODxsZGs2mWEhR4\n",
              "MTExOHnyJEpKSqDT6TBr1ixcu3YNH374Idra2oRcipABMVfVFLJM1/fff4+CggK8+eabNs2/oMB7\n",
              "9913ARgvTJmbm0sLUxLbM1PiCVmm6+TJk9BoNFCpVPDx8UFZWRliY2ORn58PhUKBa9eucedqNBp4\n",
              "e3vDzc2NN81SggLv8OHDRvuOjo4IDQ3FkSNHqNpJbMrcbzwhy3TFxcXh6tWr0Gg00Gg0CAkJQVpa\n",
              "GuLi4rBs2TIcOHAAAHD27Fk0Nzfj6aefBgCzaZaw2lhNDw8Pa12KkD7ZYuqH1NRUREdHQ6VSYdCg\n",
              "QcjOzoaTk1OfaZYQFHh1dXVYsmQJb3phYaGQyxHSfyJ1lJeWlnKvR4wYgb///e8mzzOXZglBgTd0\n",
              "6FAak0l+FuxqsiM3NzezT6ETYit2FXj0sCv52ZDJmEw+glo109PTex27efOmtfJCiMXsapD0yZMn\n",
              "cenSJQA9w2x+85vfwNXVFe7u7gNaD5oQoaw9VtPWBJd4Y8eOBdCz6mttbS2uXr2KgwcPIj4+XpQM\n",
              "EmKKXZV4CoUCgwYNAgAcP34c0dHRGDFiBBYuXIiOjg5RMkiISSI8FmRLggJPp9NxDSynTp3CjBkz\n",
              "uDS+RyK0Wi1qa2sHkEVCerOrquacOXMQERGBDRs2oKOjA0899RQA4Nq1ayaH5JSWlmLMmDGYPXs2\n",
              "gJ6hNVFRUVbINrF3jIHl3eRA8CDp6dOnw8nJCcXFxVAoenojqqursWnTpl7nJyQk4OTJk3BzcwPQ\n",
              "89ySuQmTCLGU3H/jCerHUygU2Lx5c6/jM2fONHm+Xq/nGmPuufcbkZABkUfBxktQ4O3YsYM3jWEY\n",
              "JCUlGR0bPHgwbt++zU12e/HiRQwZMqQf2STEmFxKNj6CAo+v5bKgoAANDQ29Ai8pKQnz5s1Dc3Mz\n",
              "oqKiUFJSgpycnP7nlpD/sqvAe+edd4z2S0pKkJCQAA8PDxw6dKjX+fPmzYNKpUJxcTFYlsX27dt7\n",
              "VT0J6Q+5tF7y6dfzeOXl5diyZQuuXLmCP/zhD2afWPD19UVcXFy/M0iIKXJpveQjKPA0Gg22bt2K\n",
              "U6dOITk5GStXrjQ7y5ivr6/JxUzq6uqE55SQ+zB6qXMwMIICT61Ww8vLC3Fxcejo6MD+/fuN0n/3\n",
              "u98Z7R89epR73dnZiaysLK5rgZABkXeBJyzwIiMjwTAMLl++3CvNVMn2+OOPG+1PmTIFM2bM6NUI\n",
              "86Curq5e07EplUreeTOI/bGrqqapTnIhWlpajGZm4pOSkoLt27cbHUtOTsa2bdsGdH/y8LCrVs3Q\n",
              "0FAwDGP0QOy9fYZhev12mzx5MlcS6vV6NDQ0YMuWLX3eJzExsVeQU2lH7mdXrZr19fWCLr53797/\n",
              "v5FCAT8/P4tmI6NqJemLXVU1hdDr9UhPT0dWVpZYtyB2TO5VTdFWHHF0dERVVZVYlyf2zsDybwJ0\n",
              "dnYiLCwM48aNwxNPPIG5c+eipqYGwM9omS6hZs+ejdjYWPzrX//ChQsXuI2QgbLm0wmxsbGorKzE\n",
              "d999h9DQUKxduxaAuMt0iVLVjIyMRG5uLvLy8gAAX3zxBZdmqhGGEKGs9Rtv8ODBWLBgAbcfEhKC\n",
              "3bt3A+hZiute6Xf/Uly//vWvzaZZQpTAu9fPJ7QxhhCLmYm7gfQD79u3D6GhoT+vZbosZaoznRBr\n",
              "YvQs7yZkma777dq1CzU1NRadO1CilHgXLlyAq6trr+P3+vtaW1vFuC2xI+aqmv3pB969ezcKCwtR\n",
              "UlICZ2dnODs7c0tx3SvZTC3T9WCapUQJPLVajc8//1yMSxPSw8ys5kL7gd977z3k5uaipKQEw4YN\n",
              "447fW4pr27ZtvMt0mUqzhCiBp1QqMWbMGDEuTQgA6zWuNDU1YfPmzfDz8+Mm5VIqlTh9+vTPZ5ku\n",
              "S9EaC0RsjN463zEvLy/e7+vPZpkuS9FMYkR0Mv/fLtqQMULExBjkPWaMAo/IkrWqmlKhwCPyJPN2\n",
              "BAo8Ik9U4hFie/QbjxApUFWTEAlQVZMQ26OqJiFSoDlXCJEAlXiESEBPgUeI7bEUeITYHpV4hEiA\n",
              "fuMRIgHqQCdEAnp5L5BHgUfkiX7jEWJ7LLVqEiIBKvEIkQD9xiPE9ljqTiBEAlTVJMT2WKpqEiIB\n",
              "atUkxPbkXuIxLM23blZXVxdSUlKQmJgoaCEMubPXz20rFHh9uHXrFoYOHYr29na4uLhInR2bsdfP\n",
              "bSuiroFOCDGNAo8QCVDgESIBCrw+KJVKJCcn210Dg71+bluhxhVCJEAlHiESoMAjRAIUeIRIwO6G\n",
              "jPn4+ECpVGLIkCEAgKlTpyI9Pd3kuc888ww2btyIsLAwG+ZQPIGBgQCA7u5uVFZWIiAgAACgVquR\n",
              "l5cnYc7sj90FHgDk5eVxX0J7Ul5eDgDQaDQIDAzk9u+n0+mgUNjl18Km7L6qmZOTg+nTp2Py5Ml4\n",
              "4oknUFRUZPK89PR0TJgwAYGBgQgICMDp06cBANXV1Vi4cCGCg4MxadIk7N+/35bZtwofHx/Ex8dj\n",
              "2rRpWLlyJUpLS43+MX3//ffw8fHh9o8dO4annnoKU6ZMwbRp0/Dll1/aPtMyZ5f/2iIiIriqZlJS\n",
              "EsrKysAwDDQaDUJCQtDQ0NCr/2rz5s24fPkyPDw8oNVq0dXVBb1ej8jISGRnZ2P8+PG4c+cOQkJC\n",
              "MH36dAQHB0vx0fqtpaUFp0+fBsMwKC0t5T2vrq4O27Ztw7Fjx+Di4oKamhrMnDkTGo2G+vwEsMvA\n",
              "u7+qee7cOcyfPx9NTU1QKBRobW1FfX09xo8fb/SeOXPmIDo6GosWLcL8+fMxbtw4VFRU4IcffsCL\n",
              "L77IndfR0YGKigrZBd6qVavAMEyf5xUXF6OmpgazZs3ijjk4OKCxsREqlUrMLD5U7DLw7vfiiy/i\n",
              "7bffRnh4OADA1dUVnZ2dvc4rKCjA+fPnUVpaigULFmDnzp0ICAiAq6uryd9KcvPII49wrxUKBfT3\n",
              "Pe92/9+DZVnMnTsXOTk5Ns3fw8buf+O1tbXB19cXAJCdnY22trZe5+h0OtTW1mLq1Kl4/fXXER4e\n",
              "jjNnzkCtVsPFxQWZmZncuTU1NWhtbbVZ/sXg5+eHhoYG3LhxAwCQlZXFpT333HMoKSnBhQsXuGNn\n",
              "zpyxeR7lzu5LvH379iE8PBzDhg3Ds88+C29v717n6PV6rF69Gq2trVAoFHB3d0dmZiYUCgWOHj2K\n",
              "jRs3Ys+ePdDr9Xj00UdlXxqMGjUKW7ZswbRp0zBixAjMnz+fS/P390dOTg7WrVuHO3fuoLu7G5Mn\n",
              "T5b9Z7Y1GqtJiATsvqpJiBQo8AiRAAWeFXR0dOCRRx7BmjVruGOlpaVgGAavvvqq0bkrV64EwzBG\n",
              "LaEHDx5EQEAAHnvsMfj7+yMxMRHd3d1cOsMwuHnzptF1fHx8uGs888wzcHNzQ3t7O5ceHh6OgwcP\n",
              "4sCBAwgMDERgYCBcXV3h6enJ7VPHt3Qo8KwgLy8PU6ZMQWFhIW7fvs0dV6lUKCoq4oLo1q1bOHXq\n",
              "FDw9Pblz0tLSkJqaiiNHjuDSpUu4cOECqqqqjILYEi4uLnj77bd7HV+/fj3Ky8tRXl6OF154AW+8\n",
              "8Qa3P3v27H5+YjJQFHhWkJGRgfj4eMyaNctosLGzszPmzJmDv/71rwCAP//5z1i6dKnRWMgdO3bg\n",
              "3Xff5bo0nJ2dkZaWhoKCAtTW1lqch/j4eGRkZODKlStW+lRETBR4A1RRUYEff/wRzz33HNasWYOM\n",
              "jAyj9JiYGHz00UcAgMzMTKxevZpLu379Opqbm/GrX/3K6D1ubm5QqVT45ptvLM7HyJEjsW7dOiQn\n",
              "Jw/g0xBbocAboIyMDKxYsQKOjo5YsGAB6uvrcenSJS59xowZaGxsxLFjx+Do6Ai1Wm21ez84xOuN\n",
              "N97A0aNHcfnyZavdg4iDAm8AtFotsrKy8PHHH8PHxwf+/v64c+dOr1JvxYoViIqKQkxMjNHx4cOH\n",
              "w9PTE19//bXR8ZaWFlRXVyMoKAgA4O7ujpaWFqNzfvrpJwwfPtzomIuLC+Lj45GYmGitj0hEQoE3\n",
              "AEeOHIGfnx+am5uh0Wig0WhQVlaGrKwsaLVa7ryYmBhs3rwZERERva6xdetWbN68GfX19QCAO3fu\n",
              "IDY2FosXL8bYsWMB9AzT+tOf/sS959ChQ/Dz84OHh0ev68XFxaG8vBznz5+39sclVmT3Q8YGIiMj\n",
              "A8uXLzc69thjj8HT0xMdHR3cseHDhyMhIcHkNeLi4uDk5IRFixZBr9eju7sbS5cuxVtvvcWds3fv\n",
              "XmzcuBGTJk2Cg4MDRo4ciU8++cTk9ZRKJXbs2IEVK1ZY4RMSsdCQMUIkQFVNQiRAgUeIBCjwCJEA\n",
              "BR4hEqDAI0QCFHiESIACjxAJUOARIgEKPEIkQIFHiAQo8AiRwP8BjpIo2xXb+PYAAAAASUVORK5C\n",
              "YII=\n",
              "\">\n",
              "        \n",
              "      </div>\n",
              "      <script></script>\n",
              "      <script type=\"text/javascript\">\n",
              "        (() => {\n",
              "          const chartElement = document.getElementById(\"chart-ffa82f99-dc79-4d8f-af62-4d5029d6fe3c\");\n",
              "          async function getCodeForChartHandler(event) {\n",
              "            const chartCodeResponse =  await google.colab.kernel.invokeFunction(\n",
              "                'getCodeForChart', [\"chart-ffa82f99-dc79-4d8f-af62-4d5029d6fe3c\"], {});\n",
              "            const responseJson = chartCodeResponse.data['application/json'];\n",
              "            await google.colab.notebook.addCell(responseJson.code, 'code');\n",
              "          }\n",
              "          chartElement.onclick = getCodeForChartHandler;\n",
              "        })();\n",
              "      </script>\n",
              "      <style>\n",
              "        .colab-quickchart-chart-with-code  {\n",
              "            display: block;\n",
              "            float: left;\n",
              "            border: 1px solid transparent;\n",
              "        }\n",
              "\n",
              "        .colab-quickchart-chart-with-code:hover {\n",
              "            cursor: pointer;\n",
              "            border: 1px solid #aaa;\n",
              "        }\n",
              "      </style>"
            ]
          },
          "metadata": {}
        },
        {
          "output_type": "display_data",
          "data": {
            "text/plain": [
              "import numpy as np\n",
              "from google.colab import autoviz\n",
              "df_8018807916584790127 = autoviz.get_df('df_8018807916584790127')\n",
              "\n",
              "def heatmap(df, x_colname, y_colname, figsize=(2, 2), mpl_palette_name='viridis'):\n",
              "  from matplotlib import pyplot as plt\n",
              "  import seaborn as sns\n",
              "  import pandas as pd\n",
              "  plt.subplots(figsize=figsize)\n",
              "  df_2dhist = pd.DataFrame({\n",
              "      x_label: grp[y_colname].value_counts()\n",
              "      for x_label, grp in df.groupby(x_colname)\n",
              "  })\n",
              "  sns.heatmap(df_2dhist, cmap=mpl_palette_name)\n",
              "  plt.xlabel(x_colname)\n",
              "  plt.ylabel(y_colname)\n",
              "  return autoviz.MplChart.from_current_mpl_state()\n",
              "\n",
              "chart = heatmap(df_8018807916584790127, *['INSTALL_RATE', 'AGE'], **{})\n",
              "chart"
            ],
            "text/html": [
              "      <div class=\"colab-quickchart-chart-with-code\" id=\"chart-1545b488-7dd9-4b82-af26-dcf28d1b2466\">\n",
              "        <img src=\"data:image/png;base64,iVBORw0KGgoAAAANSUhEUgAAAN0AAADOCAYAAAC6hgcvAAAAOXRFWHRTb2Z0d2FyZQBNYXRwbG90\n",
              "bGliIHZlcnNpb24zLjcuMSwgaHR0cHM6Ly9tYXRwbG90bGliLm9yZy/bCgiHAAAACXBIWXMAAA9h\n",
              "AAAPYQGoP6dpAAAWpUlEQVR4nO3dfVAU5x0H8O8eJyeJBYIahSAvKqIiCiiGmCbxpWqMU2N8iVph\n",
              "SqKiTt98yQSc+ILG0Th1FJvEsRYGq/hCOhIbqdVKGtQ2Ed9K1KTyfseImFrAGF+A4+76B+MW5G5v\n",
              "xduF5b6fmZ2522dv9wfDj+fZZ597HsFms9lARKrRdXQARO6GSUekMiYdkcqYdEQqY9IRqYxJR6Qy\n",
              "Jh2Ryph0RCpj0hGpTN/RAchhvTmoo0PoELq+xR0dQqfk7O+hs//eNJF0RC2ZbU2S5QaV4mgvJh1p\n",
              "ThMskuVMOiIXs2h8jD6TjjTHDGtHh/BEmHSkOWYbk45IVdpOOSYdaVAj7+mI1GWG0NEhPBEmHWmO\n",
              "VdsVHZOOtKdR46MXmXSkOWYbk45IVRbWdETqYk1HpDKzTdt/ttqOntyShY8MiNRltnl0dAhPhElH\n",
              "mtPI5iWRuqzsvSRSVyObl0TqYu8lkcosNvZeEqmKNR2RyvjIgEhlHHtJpDKt13Ta/pdBbsls85Dc\n",
              "HsexY8cQExODqKgoDBs2DH/84x8BAP/5z3/w6quvIiwsDMOGDcPp06fFz0iVycGajjTH6qJvGdhs\n",
              "NsTHxyM/Px/Dhw+H0WjE4MGDMWPGDKSkpCAuLg7Hjx/H+fPn8cYbb6CiogLdunWTLJNDlZru4sWL\n",
              "2LdvHwCgrq4O1dXValyWuihX1nSCIOD27dsAgDt37qBnz54wGAz45JNPsGTJEgBAbGwsAgICcOrU\n",
              "KQCQLJND8Zpu586d+P3vf4+7d+8iISEBtbW1WLhwIb744gulL01dlLPEamhoQENDQ6t9BoMBBkPr\n",
              "CdcFQUB2djZmzJiBp59+GnV1dcjJycEPP/wAs9mMvn37iseGhISgsrISNTU1DsvkUrym2717N86e\n",
              "PQtvb28AwIABA3Dr1i2lL0tdmMWmk9w2b94MHx+fVtvmzZvbnKepqQkbN25ETk4OTCYTPv/8cyQk\n",
              "JKCpSXqBkieleE1nMBjg5eXV+qJ63kpS+zmr6VavWoUVK1a02vdoLQcAhYWFuHHjBl5++WUAzU3F\n",
              "wMBAXL58GXq9Hjdv3hRrNKPRiKCgIPTs2dNhmVyK13S9e/dGcXExBKF56M6ePXseK0CiRzXZPCQ3\n",
              "g8EAb2/vVpu9pOvXrx+qq6vx73//GwBQWlqKsrIyhIeHY/bs2di1axcA4Pz586iqqsIrr7wCAJJl\n",
              "cihe5aSlpWHevHm4du0a+vXrB29vb+Tm5ip9WerCXDX2sk+fPti9ezfefPNN6HQ6WK1WfPTRRwgK\n",
              "CsKWLVuQkJCAsLAweHp6IisrS+ydlCqTQ7DZlJ+j2mq1oqioCDabDeHh4fDweLweJq7ESi396tJ8\n",
              "yfIPY/arFEn7KN68PH/+POrr6zFkyBBcvXoVycnJuHHjhtKXpS7MbNNJbp2d4hEuXLgQBoMBJSUl\n",
              "eO+999CtWze89dZbSl+WujCrTSe5dXaK39N5eHjAw8MDf/3rX7F06VKsWLEC0dHRDo+394ylW4MV\n",
              "BkPn/2WSOrRQm0lRPPqGhgZ89913OHr0KMaOHQsAsFgcrxlt7xnLBx/WKR0maUiT1UNy6+wUT7rl\n",
              "y5cjPDwcPj4+iImJQVlZGZ555hmHx69atQrff/99qy3lV46PJ/djhSC5dXaq9F62ZLVa0dTUBE9P\n",
              "T/mfYe8ltTDnqyWS5dkv7FIpkvZR7J7us88+kyyfNm2aUpemLq5J4/d0iiXd9u3bHZYJgsCko3az\n",
              "cmIi+/gtAlJKk5U1nVNmsxkVFRWor68X9w0fPlyNS1MXxOalE7m5uVi0aBHq6urE7ywFBwejoqJC\n",
              "6UtTF6X15qXi/zLWrFmDs2fPYsiQIaipqcHevXsxa9YspS9LXViTVSe5dXaKR6jT6RAcHCx+MTA+\n",
              "Ph5///vflb4sdWFWmyC5dXaKNy8ffuUhMDAQn376KUJCQlBXxxEm1H4W3tPZl5SUhN27d+M3v/kN\n",
              "Pv30U2zcuBFz587F7du3sWPHDqUuS27AooEmpBTFku7ChQsAgHnz5iEmJgaXLl1CSUmJUpcjN6KF\n",
              "JqQUVR4ZqDzSjLo41nQOPHjwAFeuXIHNZkN9fb34+iE+p6P24lJZDjx48KDVUK+WrwVBQHl5uVKX\n",
              "pi7OxqSzz2g0KnVqcnMWK5OOSFVW3tMRqUvrvZfa/pdBbslqFSS3x9HQ0IBf/vKXCAsLQ2RkJOLj\n",
              "4wEAJSUlGDNmDAYNGoTY2Fh888034mekyuRg0pHmuHIYWEpKCgRBQHFxMa5cuYKtW7cCABYvXoyk\n",
              "pCQUFxcjOTkZiYmJ4mekyuRQfbqG9uB0DdTSoMPvS5YXz1wj6zz37t2Dv78/rl+/Li5wAzQv+jhw\n",
              "4EDU1tZCr9fDZrPB398f//jHP+Dt7e2wbODAgbKuy3s60hybkyak3KWyysrK4Ofnh02bNiEvLw9e\n",
              "Xl5ITU2Fr68v/P39xYVuBEFAUFAQKisr4ePj47BMbtKxeUma4+ye7nGWyjKZTBg6dCguXLiA3/3u\n",
              "d5gzZ472l8oicjkn922rZC6VFRQUBJ1Oh/nzm9dGiI6ORmhoKEwmE6qrq9HU1CQ2ISsrKxEUFARv\n",
              "b2+HZXKxpiPNsVmlN7lLZfXq1QsTJkzAiRMnAAAVFRWoqKjAiy++iJiYGGRlZQEADh8+jMDAQAwc\n",
              "OBDPPvuswzK52JHSibEjxb7QrLZNxZYq4lfJPld5eTkWLFiA//73v9DpdFi7di1mzpyJoqIiJCYm\n",
              "oqamBt7e3sjMzERkZCQASJbJwaTrxJh09oXs+0Cy3JiQolIk7cN7OtIejY9IYdKR9lg7OoAnI6sj\n",
              "peUwl0eff5w6dcq1ERE5YxOkt05OVtIlJCSIr1944YVWZcuXL3dtREROOOu97OxkNS9b9rU82u+i\n",
              "gX4Y6mIEd/g+nSAIdl/be0+kOI3/n5eVdC3nO2n5+mEZkarcoaZzNt8Jkao0cN8mRVbScb4T6lQ0\n",
              "0EMppV3P6e7evQurtfnfzY9+9CPWdqQqQeM1naxHBunp6Vi/fr34PiwsDL6+vnjmmWewa1fnXt+Z\n",
              "uh7BJr11drJquvT0dOTk5Ijv+/bti+rqaty7dw9Tp07F0qVLFQsQACYHjFD0/J2WMKejI+gQJy3Z\n",
              "0ge4Q/PSarUiICBAfB8REQEAePrpp9HY2KhMZESOaLx5KSvpamtrW71/+F0iALh165ZrIyJywi3u\n",
              "6Z577jkUFBS02X/u3Dn4+/u7PCgiSTYnWycnq6ZbvXo1ZsyYgdTUVIwePRoAUFBQgPfffx8ZGRmK\n",
              "Bkj0KLcYBjZx4kRkZmbi/fffx7JlywAAMTEx2LVrF+7fv69kfERtuEXzEgAmTZqEM2fO4N69e7h4\n",
              "8SLi4uKwYMECbNy4Ucn4iNpyh+YlANy/fx/Z2dnIyMhAeXk5Hjx4gK+++gqDBw9WMj6iNtyiplu0\n",
              "aBH69euHzz77DMnJyaisrISvry8TjjqEYJXeOjtZNd2hQ4cwatQoLF68GJMnT4YgCBz6RdROsmq6\n",
              "6upqxMfHY8OGDQgODsbq1athNpuVjo3ILq3XdLKSrkePHliwYAG+/PJLHD9+HPX19WhsbMSYMWOw\n",
              "c+dOpWMkas3qZGuHzMxMCIKAI0eOAGheROTVV19FWFgYhg0bhtOnT4vHSpXJ8dgzPA8dOhRbt25F\n",
              "VVUVVq5cib/85S+PewqiJ+LqAc9GoxF/+MMfEBcXJ+5LSUlBXFwcSkpKkJmZiZ/97Gdi606qTI52\n",
              "T6uu1+sxc+ZMJh2pzpXNS6vVioULF+LDDz9sNfX6J598giVLlgAAYmNjERAQIM58J1UmB+e9JO1x\n",
              "klhyl8oCgG3btuHFF1/EyJEjxX01NTUwm83o27evuC8kJASVlZWSZXJxARHSHGfNS7lLZV29ehWH\n",
              "Dx/G6tWrVY2fNR1pj5OaTu5SWWfOnIHRaERYWBgA4ObNm0hKSsL69euh1+tx8+ZNsUYzGo0ICgpC\n",
              "z549HZbJxZqONMfZPZ3cpbKWLl2K6upqGI1GGI1GxMXFYffu3Vi6dClmz54tzopw/vx5VFVV4ZVX\n",
              "XgEAyTI5WNOR5qgxJcOWLVuQkJCAsLAweHp6IisrC926dXNaJgeTjrRHoQfg+fn54us+ffrgb3/7\n",
              "m93jpMrkYNKR5mhh8iEpTDrSHCYdkdo0ML5SCpOONEcLg5qlMOlIc9i8JFIZazoitWk86RQdkWI2\n",
              "m1FWVqbkJcgNaX0tA8WSLj8/H8HBwRg3bhyA5uEy8fHxSl2O3IhgtUlunZ1iSZeSkoIzZ86gZ8+e\n",
              "AJq/d/Svf/1LqcuRG9H6dA2K3dNZLBYMGDCg1T5PT0+lLkfupPNXZpIUS7ru3bvj7t274qxhV65c\n",
              "gZeXl1KXIzeihdpMimJJt2bNGkyaNAlVVVWIj49HXl4eDhw4oNTlyI0w6RyYNGkSwsLCcPz4cdhs\n",
              "Nqxfv75Nc5OoPbTQQylF0ed0oaGhiq/SSu5HCz2UUhRLutDQULuzQJeXlyt1SXITgqWjI3gyiiVd\n",
              "bm6u+Lq+vh779u0THx8QPRFtV3TKJd3DdckfGjlyJMaMGYM1a9ZIfs7e9GlWmwU6wcPlMZI2ab15\n",
              "qdrERDU1Nbh586bT4+xNn1aBaypESFrBh+MOREdHi/d0FosFJpMJ7777rtPP2Zs+7Q2fRCVCJI1i\n",
              "76UDaWlp/7+IXo/+/fvD39/f6efszcTLpiW1pPXmpSJJZ7FYkJ6ejn379ilxenJzWmhCSlHkns7D\n",
              "wwPFxcVKnJoIsNqkN5nq6+sxffp0DBo0CCNGjMDEiRNRWloKoJMtlSXXuHHjkJSUhC+//BKXL18W\n",
              "N6In5cqOlKSkJBQVFeHrr7/G66+/joULFwJQdqkslzcv582bh4MHDyI7OxsAcPLkSbFMEAQ+HKcn\n",
              "5qp7uu7du+O1114T38fFxWHr1q0AmpfDeljrtVwO6yc/+YlkmRwuT7pr15q79ysqKlx9aqJmTnLu\n",
              "cZbKamnHjh14/fXXtbdUlr2hX0SuJFhskpvcpbJa2rRpE0pLS50e5wour+kuX74MPz+/NvttNhsE\n",
              "QUBtba2rL0luRrBJV3Vyl8p6aOvWrcjJyUFeXh6eeuopPPXUU4ouleXypAsPD8exY8dcfVqi/3Ny\n",
              "TyenKfnQtm3bcPDgQeTl5cHX11fc/3A5rNTUVIdLZdkrk8PlSWcwGBAcHOzq0xKJXNWRcv36daxc\n",
              "uRL9+/cXJ9AyGAwoKCjQ1lJZNidVP9GTctXD8cDAQId/r5paKoszfpHiOAyMSF2CVdvjwJh0pD3a\n",
              "zjkmHWkPazoitVl4T0ekKmcPxzs7Jh1pD5uXRCpj85JIXWxeEqnNwuYlkbp4T0ekMjYviVRm0fZi\n",
              "Bkw60h7e0xGpjM1LIpWxI4VIZbynI1IZm5dE6rKxpiNSGXsviVTGjhQidbF5SaQ2Ni+JVGZj0hGp\n",
              "is1LIpVpPekEG+dBd6ihoQGbN2/GqlWrZC9I0RW468+tFiadhDt37sDHxwfff/89vL29Ozoc1bjr\n",
              "z60WxdYcJyL7mHREKmPSEamMSSfBYDBg3bp1bteZ4K4/t1rYkUKkMtZ0RCpj0hGpjElHpDK3GgYW\n",
              "EhICg8EALy8vAMCoUaOQnp5u99ixY8di2bJlmD59uooRKicqKgoA0NjYiKKiIkRGRgIAwsPDkZ2d\n",
              "3YGRuR+3SjoAyM7OFv8A3UlhYSEAwGg0IioqSnzfUlNTE/R6t/uTUJ1bNy8PHDiA559/HtHR0Rgx\n",
              "YgSOHj1q97j09HQMHToUUVFRiIyMREFBAQCgpKQEU6dORWxsLIYPH46PPvpIzfBdIiQkBMnJyRg9\n",
              "ejR+/vOfIz8/v9U/patXryIkJER8f+LECfz4xz/GyJEjMXr0aHzxxRfqB61xbvdvbc6cOWLzcs2a\n",
              "NTh79iwEQYDRaERcXBxMJlOb51MrV67EtWvX4O/vD7PZjIaGBlgsFsybNw9ZWVkYPHgw7t+/j7i4\n",
              "ODz//POIjY3tiB+t3WpqalBQUABBEJCfn+/wuPLycqSmpuLEiRPw9vZGaWkpXnrpJRiNRj7Tewxu\n",
              "l3Qtm5cXLlzAlClTcP36dej1etTW1qKiogKDBw9u9ZkJEyYgISEBP/3pTzFlyhQMGjQI3377Lb75\n",
              "5hvMnTtXPO6HH37At99+q7mkS0xMhCAITo87fvw4SktL8fLLL4v7dDodKisrERYWpmSIXYrbJV1L\n",
              "c+fOxQcffIBZs2YBAPz8/FBfX9/muMOHD+PixYvIz8/Ha6+9ho0bNyIyMhJ+fn527420pkePHuJr\n",
              "vV4PS4vvq7X8fdhsNkycOBEHDhxQNb6uxq3v6erq6hAaGgoAyMrKQl1dXZtjmpqaUFZWhlGjRuGd\n",
              "d97BrFmzcO7cOYSHh8Pb2xuZmZnisaWlpaitrVUtfiX0798fJpMJt27dAgDs27dPLJs8eTLy8vJw\n",
              "+fJlcd+5c+dUj1Hr3Lqm27FjB2bNmgVfX1+MHz8eQUFBbY6xWCx4++23UVtbC71ej969eyMzMxN6\n",
              "vR65ublYtmwZtm/fDovFgl69emm+FggICMC7776L0aNHo0+fPpgyZYpYNnDgQBw4cACLFy/G/fv3\n",
              "0djYiOjoaM3/zGrj2Esilbl185KoIzDpiFTGpCNSGZMOzaMyCgsLkZiYCE9PT5SXl4tl77zzDlJT\n",
              "UwEAZrMZv/71rxEREYERI0Zg6NCh2LZtGy5cuICoqChERUUhKCgIPj4+4vvf/va3AIDMzEwIgoAz\n",
              "Z860unZiYiLS0tLaxLRnz57HGveZmpqK3r17IyoqCkOGDMG0adPw3XfftTrm0RjWrl0rxtmjRw+E\n",
              "hoaK74uKijB27NhW+6KionDixAnZMZF9bt17ac9zzz2H9957DwcPHmxTtmPHDty4cQNff/019Ho9\n",
              "6uvrUVZWhoiICPF53Z49e3DkyBEcOXKk1WczMjIwYcIEZGRk4KWXXlIk9vnz5yMtLQ1WqxVz587F\n",
              "+vXrsXPnTocxbNiwARs2bADgeID39u3bu8yg786CNd0jkpKS8M9//hOXLl1qU3b9+nU8++yz4qDg\n",
              "7t27IyIiwuk5i4qKUFFRgb179+LIkSO4c+eOy+NuSafTYdy4cTCZTB0WAznGpHuEl5cX1q1bh+Tk\n",
              "5DZlixYtwtGjRzFkyBAsWrQIhw4dajV6w5GMjAwkJCQgICAA48ePx6FDh5QIXdTQ0IDc3FzMmTPn\n",
              "iWNYvnx5q+ZlWVmZUmG7DSadHYmJiaiqqsLJkydb7Y+IiEBZWRk+/vhjBAcHY926dZg2bZrkuZqa\n",
              "mrB371689dZbAIC3334bGRkZisS9f/9+REVFoVevXqirq8Obb775xDFs374dhYWF4jZgwABFYncn\n",
              "TDo7PDw8sGnTJqSkpODRsQOenp4YP348Vq9ejVOnTuHYsWOSQ79yc3Nx+/ZtTJ48GSEhIfjFL36B\n",
              "S5cu4erVqy6Pe/78+SgsLITJZEJDQwPWrVunegzkHJPOgenTp8NgMCAnJ0fcd/r0aVRXV4vvL168\n",
              "CD8/P/j6+jo8T0ZGBtLS0mA0GmE0GmEymbBixQrFajugeeB2eno6Pv74Y1RXV3dIDOQYk07Cli1b\n",
              "YDQaxfeVlZWYOnWq+IXWzZs3489//jN0Ovu/xhs3buDzzz/H7NmzW+2fP38+srKy0NjYCKC5uz8w\n",
              "MFDc/vSnPwFo/sJoy/0rVqyQHXt0dDRmz56NtWvXyorBkUfv6fbv3y87BrKPYy+JVMaajkhlTDoN\n",
              "OXbsWKum3sONs3lpC5uXRCpjTUekMiYdkcqYdEQqY9IRqYxJR6QyJh2Ryph0RCpj0hGp7H/X2WD5\n",
              "BW7/ngAAAABJRU5ErkJggg==\n",
              "\">\n",
              "        \n",
              "      </div>\n",
              "      <script></script>\n",
              "      <script type=\"text/javascript\">\n",
              "        (() => {\n",
              "          const chartElement = document.getElementById(\"chart-1545b488-7dd9-4b82-af26-dcf28d1b2466\");\n",
              "          async function getCodeForChartHandler(event) {\n",
              "            const chartCodeResponse =  await google.colab.kernel.invokeFunction(\n",
              "                'getCodeForChart', [\"chart-1545b488-7dd9-4b82-af26-dcf28d1b2466\"], {});\n",
              "            const responseJson = chartCodeResponse.data['application/json'];\n",
              "            await google.colab.notebook.addCell(responseJson.code, 'code');\n",
              "          }\n",
              "          chartElement.onclick = getCodeForChartHandler;\n",
              "        })();\n",
              "      </script>\n",
              "      <style>\n",
              "        .colab-quickchart-chart-with-code  {\n",
              "            display: block;\n",
              "            float: left;\n",
              "            border: 1px solid transparent;\n",
              "        }\n",
              "\n",
              "        .colab-quickchart-chart-with-code:hover {\n",
              "            cursor: pointer;\n",
              "            border: 1px solid #aaa;\n",
              "        }\n",
              "      </style>"
            ]
          },
          "metadata": {}
        },
        {
          "output_type": "display_data",
          "data": {
            "text/plain": [
              "import numpy as np\n",
              "from google.colab import autoviz\n",
              "df_8018807916584790127 = autoviz.get_df('df_8018807916584790127')\n",
              "\n",
              "def heatmap(df, x_colname, y_colname, figsize=(2, 2), mpl_palette_name='viridis'):\n",
              "  from matplotlib import pyplot as plt\n",
              "  import seaborn as sns\n",
              "  import pandas as pd\n",
              "  plt.subplots(figsize=figsize)\n",
              "  df_2dhist = pd.DataFrame({\n",
              "      x_label: grp[y_colname].value_counts()\n",
              "      for x_label, grp in df.groupby(x_colname)\n",
              "  })\n",
              "  sns.heatmap(df_2dhist, cmap=mpl_palette_name)\n",
              "  plt.xlabel(x_colname)\n",
              "  plt.ylabel(y_colname)\n",
              "  return autoviz.MplChart.from_current_mpl_state()\n",
              "\n",
              "chart = heatmap(df_8018807916584790127, *['AGE', 'NUM_CREDITS'], **{})\n",
              "chart"
            ],
            "text/html": [
              "      <div class=\"colab-quickchart-chart-with-code\" id=\"chart-eb678512-7fb0-46cf-84b2-5be55274c922\">\n",
              "        <img src=\"data:image/png;base64,iVBORw0KGgoAAAANSUhEUgAAAN4AAADNCAYAAADXJc6CAAAAOXRFWHRTb2Z0d2FyZQBNYXRwbG90\n",
              "bGliIHZlcnNpb24zLjcuMSwgaHR0cHM6Ly9tYXRwbG90bGliLm9yZy/bCgiHAAAACXBIWXMAAA9h\n",
              "AAAPYQGoP6dpAAAYbElEQVR4nO3dfVQU1/kH8O8AsqjJihCCGAREAZPIqyBUK8YkajRpfIlWiJCg\n",
              "QZRzmjbWNmgTSWipaGtF1PQkKKX+QAjWl55ojFZzgiam+K74AgLCQlDQFDCSGGBf5vcHxwmwO8sO\n",
              "7Ow4zPM5Z85Z5t7deeDsw71zZ+ZehmVZFoQQm7KTOgBClIgSjxAJUOIRIgFKPEIkQIlHiAQo8QiR\n",
              "ACUeIRKgxCNEApR4hEjAQeoALGVo9Jc6BEnMfCJU6hAkcVRfZLZc1ziWt8xhRJW1w7E62SQeIV3p\n",
              "WQNvmRy+1HKIkRAjOuh5y1Q2jKOvKPGILGnNtHhyQIlHZEkPeT9UQ4lHZIlaPEIkIO+0o8QjMtUh\n",
              "8+e3KfGILGnBSB1Cv1DiEVkyyLvBo8Qj8tQh87sdKfGILGlZSjxCbE5PLR4htkctHiES0LLy/urK\n",
              "O3qiWHq6nECI7WlZe6lD6BdKPCJLHdTVJMT2DDSqSYjtdVBXkxDbo1FNQiSgZ2lUkxCboxaPEAnQ\n",
              "5QRCJCD3ezXlHT1RLC1rz7sJdejQIYSFhSEkJATjx4/Hzp07AQB37tzBCy+8AD8/P4wfPx4nTpzg\n",
              "3mOuzBLU4hFZslZXk2VZxMXFobi4GEFBQdBoNBg3bhzmz5+P1atXIyoqCocPH8aZM2cwb9481NTU\n",
              "YNCgQWbLLGGTFu/cuXPIy8sDALS0tKChocEWhyUDmIG1492EYhgGd+/eBQDcu3cPrq6uUKlU2L17\n",
              "N1asWAEAiIiIwMiRI3H8+HEAMFtmCdFbvL///e/46KOP8P333yM+Ph7Nzc1ITEzEF198IfahyQBm\n",
              "rsVrb29He3t7t30qlQoqlfEc0wzDoKioCPPnz8fQoUPR0tKCffv2obW1FVqtFiNGjODq+vj4oK6u\n",
              "Dk1NTbxllhK9xcvOzkZJSQnUajUAYMyYMfj222/FPiwZ4Myd42VkZGDYsGHdtoyMDJOfo9PpkJ6e\n",
              "jn379qG2thaff/454uPjodPpRI1f9BZPpVJh8ODB3Q/qQKeWpH/0ZrqU765Zg9/+9rfd9plq7QDg\n",
              "4sWLuHXrFqKjowF0dhs9PT1RWloKBwcHNDY2ci2bRqOBl5cXXF1decssJXqL5+bmhoqKCjBM550G\n",
              "//znPwUFSIgp5lo8lUoFtVrdbeNLvFGjRqGhoQFlZWUAgKqqKty4cQMBAQFYuHAhPvzwQwDAmTNn\n",
              "cPPmTUydOhUAzJZZQvSmZ/PmzYiNjUV5eTlGjRoFtVqNgwcPin1YMsDprDSq6e7ujuzsbPzyl7+E\n",
              "nZ0dDAYDtm3bBi8vL2zYsAHx8fHw8/ODo6Mj8vPzuVFLc2WWYFhW/Cl5DQYDrl+/DpZlERAQAHt7\n",
              "4X80WphSWXpbmHLlxRjessyQj60djtWJ3tU8c+YM2tra8OSTT+LKlStISUnBrVu3xD4sGeB0Bnve\n",
              "TQ5ET7zExESoVCpUVlbinXfewaBBg7BkyRKxD0sGOC1rx7vJgehR2tvbw97eHp999hmSk5ORkZGB\n",
              "O3fuiH1YMsBZ8wK6FEQfXGlvb8ft27dx4MABbNiwAQCg1/Mvo/vgPT0vgA5qN0ClkscflYhPLi0b\n",
              "H9GjX7lyJQICAjBs2DCEhYXhxo0bGD58uNn3mLoAun5ri9ihEhmR+zmeTUY1uzIYDNDpdHB0dOSt\n",
              "Y7LFawlTZItHo5qmLT61jLdsV+R2a4djdf3qaup0Oly5cgWjRo2Cq6trt7JPPvnE7Htffvll3jJT\n",
              "99UZ7isv6Qg/ubRsfAQlXkpKCuLi4hAYGIi2tjZMnjwZ1dXV0Ol0KCwsxEsvvcTVzczM5P0chmHM\n",
              "Jh4hvdHJ/BxPUOIdOHCAu9m0sLAQdnZ2uH37NsrKyrBs2bJuiUdPHxAxGZQ02ZFKpYKdXed/muLi\n",
              "YsTExMDR0RHBwcFm7+bWarWoqalBW1sbty8oKKiPIRMC6AwKavF0Oh06Ojrg6OiIr776CsnJyVxZ\n",
              "16Tq6uDBg1i2bBlaWlq45528vb1RU1PTv8iJoimqq7lw4UJMmzYNLi4ucHJyQmRkJACguroaw4YN\n",
              "M/metWvXoqSkBHPnzsWFCxeQn5+PS5cu9T9yomiK6mqmpqbi6aefRn19PWJiYrhHfVpaWpCWlmby\n",
              "PXZ2dvD29ua6onFxcWYHXgixhKK6mrGxsSgsLDTaP2HCBN73PHhUwtPTE/v374ePjw9aWuhiOOkf\n",
              "vZISr7y83OK6SUlJyM7Oxm9+8xvs378f6enpiImJwd27d5GVlSU4UEK6MihpYcoHXUtLnD17FkBn\n",
              "KxkWFobz58+jsrJSWHSE8FBUi1daWgoXFxej/SzLgmEYNDc3m3yfje9KIwqgqMQLCAjAoUOHLKr7\n",
              "448/4vLly2BZFm1tbdzrB+g6HukPRY1qqlQqeHt7W1T3xx9/7HZbWNfXDMOgurpayKEJ6UZRy3QJ\n",
              "6TJqNBqhsRBiMUV1NS9cuCBWHIQIIvdhA0GJN3z4cJMjm70NrhBibQYltXgXL14UKQxChNEb5H2O\n",
              "J+jfhre3N7cNHToUQ4cO7baPEFthWYZ3E6q9vR2/+tWv4Ofnh8DAQMTFxQEAKisrMWnSJPj7+yMi\n",
              "IgJXr17l3mOuzBKC2+vNmzdjxIgRcHd3h7u7Ozw8POhOFGJzBpbh3YRavXo1GIZBRUUFLl++jI0b\n",
              "NwIAli9fjqSkJFRUVCAlJQUJCQnce8yVWULQnCv5+flIT09HVlYWIiMjwbIsTp8+jZUrV+Kdd97B\n",
              "4sWLBR1cCJpJWll6m3PFf8+feMsqFqy1+Dg//PADPDw8UF9fz61oBXSu+Dp27Fg0NzfDwcEBLMvC\n",
              "w8MDX331FdRqNW/Z2LFjLTquoBYvOzsbRUVFmDlzJpydnTF8+HDMnDkTH3/8MT766CMhH0VIv5jr\n",
              "ara3t+PevXvdtp6TZz1w48YNuLi4YN26dQgPD8eUKVPw+eef45tvvoGHhwe3shXDMPDy8kJdXZ3Z\n",
              "MksJSrzGxkYEBwcb7Q8KCsLt27eFfBQh/WIwMLyb0PXxamtr8dRTT+Hs2bPYsmULFi1a9HCtj/fo\n",
              "o4/ylg0dOrTfwRBiKdbMqOYaAevjeXl5wc7OjjtNCg0NxejRo1FbW4uGhgbodDquO1lXVwcvLy+o\n",
              "1WreMksJSrzbt29jy5YtJstolVdiU2ZGJviWXTblsccew3PPPYcjR45g9uzZqKmpQU1NDSZPnoyw\n",
              "sDDk5+cjISEBe/fuhaenJ3cOZ67MEoIGV3pbbCQ3N9fiAwtFgyvK0tvgyuh8011HAKiJWyPoWNXV\n",
              "1XjjjTfwv//9D3Z2dkhNTcUrr7yC69evIyEhAU1NTVCr1cjNzUVgYCAAmC2zhM1nku4rSjxl6S3x\n",
              "fP5vPW+Z5rXV1g7H6gQNruzcuZN7ffLkyW5lf/vb36wTESEWYcxsDz9Bidf1Qvmbb77ZrWzXrl3W\n",
              "iYgQSxjMbDLQ58eCevZQZdJjJQOEuVFNOejznCs9n1IQMh8LIf0m8//zghLvzp073OWErq8BupxA\n",
              "bItRUos3ffp07mHYrq8B4Pnnn7duZISYo6TEE/M6HSGCyLyraZXHeC9duoQ5c+ZY46MIsYzMRzUF\n",
              "JV5VVRVefPFFBAYGYt26dWhpaUFMTAyio6MRHh4uVoyEGGEMDO8mB4K6msuXL0dYWBjefPNN7N+/\n",
              "H5GRkfD390d5eTk8PDzEipEQYzLvagoe1fzrX/8KAJgxYwbc3NywZ88eODk5iRIcIXwYJSXeg5V/\n",
              "gJ+W37JV0s0cafwcoCLIo+dkezLpUvIRlHjV1dWYP38+78/79u2zXmSEmKOkFq/npEY0kkmkwshk\n",
              "9JKPoMR7/fXXxYqDEEHknniCLiesX78eW7duNdq/detW/OUvf7FaUIT0imX4NxkQlHh79uzBsmXL\n",
              "jPYnJiaioKDAakER0hvGwL/JgeDHgkyNYg4ePJgeCyK2JfOvm6DEu3v3LrdASVcGgwGtra1WDYwQ\n",
              "c+TSsvER1NWcOnUq0tPTjfZnZGRg6tSpVguKkN4oqqu5YcMGTJ06FZ9++il+9rOfAQBKSkpw9+5d\n",
              "HD9+XJQACRmIBLV4bm5uOH/+PJKSktDR0YGOjg4sW7YM58+fx+OPPy5WjIQYkXuLJ/ixICcnJyxd\n",
              "uhQffPABPvjgAyxduhSDBw/uVic+Pt5qARJikgiPBeXm5oJhGPz73/8G0Hlv8gsvvAA/Pz+MHz8e\n",
              "J06c4OqaK7OEKMtqCl0rjBChGJZ/6wuNRoPt27cjKiqK27d69WpERUWhsrISubm5ePXVV6HVanst\n",
              "s4S817MlimXNrqbBYEBiYiK2bt3aber33bt3Y8WKFQCAiIgIjBw5khvLMFdmCUGDK4Q8NMwkWHt7\n",
              "u9GyXObWU9i0aRMmT56MCRMmcPuampqg1WoxYsQIbp+Pjw/q6urMllmKWjwiS+a6mkKW6bpy5Qr2\n",
              "7t2Ld99916bxi9Li2dvbi/GxhPzETIsnZJmuL7/8EhqNBn5+fgA614BMSkpCWloaHBwc0NjYyLVs\n",
              "Go0GXl5ecHV15S2zlKAWr+cqmz23B86cOSPkYwkRzNw5nkqlglqt7rbxJV5ycjIaGhqg0Wig0WgQ\n",
              "FRWF7OxsJCcnY+HChfjwww8BdH6nb968yd0oYq7MEoJaPGdnZ+52sZ73ZjIMA71eL+TjCOkzW0z9\n",
              "sGHDBsTHx8PPzw+Ojo7Iz8/nZmEwV2YJQYk3ZcoUtLW1YenSpYiNje22WDshNiXShfLi4mLutbu7\n",
              "O/7zn/+YrGeuzBKCuprHjx9HQUEB6urqEB4ejvj4+G6BEmIr1r6OZ2uCRzXHjBmDP//5zygvL8fc\n",
              "uXOxaNEibNq0SYzYCOEl98Tr06jmuXPnkJOTg88++wyvvPIKXn75ZWvHRYh5Mrknk4/gyY527twJ\n",
              "Nzc3LFmyBJmZmRYv8k6INcnlZmg+ghJv5cqVCA0NxZAhQ7B7927s3r27WzlN70dsRS5dSj6CEu8f\n",
              "//gHLUBJHgqKavESEhJECoMQgZSUeD1vw2EYBo8//jimT5+OsLAwk+/RarWoq6vDmDFj+h4lIT3I\n",
              "vasp6HJCzxtP1Wo16uvrMW/ePOzatcuofnFxMby9vTFt2jQAnbfWxMXFWSdyomiMgeXd5EBQi/fe\n",
              "e++Z3P+HP/wBL730EhYvXtxt/+rVq/Hll19iwYIFADqfW+q6fDMhfaWoczw+Hh4eJufV1Ov1Rl1M\n",
              "R0dHaxySKJ08GjZeVkm8lpYWGAzG/4KcnJzw/fffcyOhly9fNpqfhZC+UFSLt2XLFqN9TU1N+Ne/\n",
              "/oVf//rXRmVr167FjBkzcPPmTcTFxeHYsWM01TuxCkUlXs/zM4Zh4Obmhm3btuHZZ581qj9jxgz4\n",
              "+fnh8OHDYFkWaWlpNLpJrELuo5qCEm/JkiW8ZSdOnEB0dLTR/tGjRyM5OVl4ZISYIZfRSz6CEm/V\n",
              "qlVgGKbbQArDMLh16xYaGhqMHoQdPXq0yTtdqqur+xguIZ0YmT9zLSjxek7p0NzcjPT0dOTn5yMt\n",
              "Lc2o/sGDB7nXbW1tyMvLg6urax9DJaQLeTd4fRvVbGtrQ2ZmJrKysvDqq6+irKzMZEI9/fTT3X6e\n",
              "MGECJk2ahLVr15r9fFPTsxlYPewYmkSJdJJ7V1PQnSsGgwHZ2dnw8/NDeXk5Tp06hU2bNlncijU1\n",
              "NaGxsbHXeqamZ6tBuZBQyQAn97UTBLV448ePR3t7O9atW4fg4GB89913KC0t5cqDgoK61Q8NDeXO\n",
              "8fR6PWpra/H222/3ehxT07PNG5YgJFQywClqVPP+/ftgGAapqalGZQzDGA2abN68+acDOTjA19cX\n",
              "Hh4evR7H1Ky/1M0kXcm9qyko8TQajcV19Xo9duzYgby8PKExEdIruXQp+Yg2hbu9vT0qKirE+nii\n",
              "dAaWfxOgra0Nc+fOhb+/P4KDgzF9+nRUVVUBkOEyXQ9MmzYNSUlJ+Prrr1FaWspthPSXNQdXkpKS\n",
              "cP36dVy6dAlz5sxBYmIiAHGX6RJl7YTY2FgUFhaiqKgIAHD06FGuzNS5ICFCWescz8nJCbNnz+Z+\n",
              "joqKwsaNGwF0LsX1oPXruhTX888/b7bMEqIkXnl559B/TU2NGB9PiNkL6EKX6eoqKysLc+bMkecy\n",
              "XTQhEhEbo2d5NyHLdHW1bt06VFVVWVS3v0Rp8UpLS+Hi4mK0n2VZMAyD5uZmMQ5LFMRcV1PIMl0P\n",
              "bNy4Efv27cOxY8cwZMgQDBkyRNRlukRJvICAABw6dEiMjyakk4kZDx6wtFv5wKZNm1BYWIhjx47B\n",
              "2dmZ2/9gKa7333+fd5kuU2WWECXxVCoVvL29xfhoQgBYb3Clvr4eq1atgq+vLzcpl0qlwqlTpx6e\n",
              "ZbosZWr+FUKsidFb5zvm6enJ+30Vc5kuURKPZhIjopP5/3ZREo8QsTEmJteSE0o8IkvW6mpKhRKP\n",
              "yJPMxxEo8Yg8UYtHiO3ROR4hUqCuJiESoK4mIbZHXU1CpKCkOVcIeWhQi0eIBPSUeITYHkuJR4jt\n",
              "UYtHiAToHI8QCdAFdEIkoJf3AnmUeESe6ByPENtjaVSTEAlQi0eIBOgcjxDbY+lyAiESoK4mIbbH\n",
              "UleTEAnQqCYhtif3Fo9hab51s9rb25GRkYE1a9YIWghD7pT6e9sKJV4v7t27h2HDhuG7776DWq2W\n",
              "OhybUervbSuiroFOCDGNEo8QCVDiESIBSrxeqFQqvPfee4obYFDq720rNLhCiASoxSNEApR4hEiA\n",
              "Eo8QCSjuljEfHx+oVCoMHjwYABAeHo4dO3aYrPvMM8/grbfewty5c20YoXhCQkIAAB0dHbh+/ToC\n",
              "AwMBAAEBASgqKpIwMuVRXOIBQFFREfclVJKLFy8CADQaDUJCQrifu9LpdHBwUOTXwqYU39UsKChA\n",
              "ZGQkQkNDERwcjAMHDpist2PHDjz11FMICQlBYGAgTp06BQCorKzEiy++iIiICAQFBWHbtm22DN8q\n",
              "fHx8kJKSgokTJ+L1119HcXFxt39MV65cgY+PD/fzkSNH8POf/xwTJkzAxIkT8cUXX9g+aJlT5L+2\n",
              "RYsWcV3NtWvXoqSkBAzDQKPRICoqCrW1tUbXr1atWoXy8nJ4eHhAq9Wivb0der0esbGxyM/Px7hx\n",
              "43D//n1ERUUhMjISERERUvxqfdbU1IRTp06BYRgUFxfz1quursb777+PI0eOQK1Wo6qqClOmTIFG\n",
              "o6FrfgIoMvG6djXPnj2LWbNmob6+Hg4ODmhubkZNTQ3GjRvX7T3PPfcc4uPj8Ytf/AKzZs2Cv78/\n",
              "rl27hqtXryImJoar19raimvXrsku8RISEsAwTK/1Dh8+jKqqKkRHR3P77OzsUFdXBz8/PzFDHFAU\n",
              "mXhdxcTEYP369ViwYAEAwMXFBW1tbUb19u7di3PnzqG4uBizZ89Geno6AgMD4eLiYvJcSW4eeeQR\n",
              "7rWDgwP0XZ536/r3YFkW06dPR0FBgU3jG2gUf47X0tKC0aNHAwDy8/PR0tJiVEen0+HGjRsIDw/H\n",
              "7373OyxYsACnT59GQEAA1Go1cnNzubpVVVVobm62Wfxi8PX1RW1tLb799lsAQF5eHlc2c+ZMHDt2\n",
              "DKWlpdy+06dP2zxGuVN8i5eVlYUFCxbA2dkZzz77LLy8vIzq6PV6LF26FM3NzXBwcICbmxtyc3Ph\n",
              "4OCAgwcP4q233kJmZib0ej0ee+wx2bcGI0eOxNtvv42JEyfC3d0ds2bN4srGjh2LgoICLF++HPfv\n",
              "30dHRwdCQ0Nl/zvbGt2rSYgEFN/VJEQKlHiESIAST0Ktra145JFH8MYbb3Tbf/ToUURHR8PX1xfh\n",
              "4eGYOHEisrOzuXIfHx8EBAQgJCSE2y5fvmzr8El/sEQy27dvZ6Ojo1lnZ2e2tbWVZVmWPXLkCOvh\n",
              "4cGePHmSq/fNN9+wqamp3M/e3t7shQsXbB0usSJq8SSUk5ODlJQUREdHczcp//GPf0RqaiomTZrE\n",
              "1fP09ERaWppUYRIR0KimRK5du4YZM2agtrYWn376KdavX4+vv/4aQ4YMwcmTJxEaGsr73p5PWADA\n",
              "f//7324/k4eb4q/jSSUnJwevvfYa7O3tMXv2bCxfvhxlZWVG9RYvXoyrV6+isbERFRUV3ByXSn3C\n",
              "YqCgxJOAVqtFXl4eBg0axF14vn//PnJychAaGorTp09zLd6uXbsAAAzDwCDzpanITyjxJPDJJ5/A\n",
              "19cXJSUl3L6ysjI888wz2LFjB1asWIHg4GBERUUBAH744QepQiUiocSTQE5ODhYvXtxt35NPPokn\n",
              "nngCWq0WOTk5+P3vf49bt27Bzc0Njo6O2Lp1Kx599FGuftdHmwAgMzMT06ZNs9nvQPqHBlcIkQBd\n",
              "TiBEApR4hEiAEo8QCVDiESIBSjxCJECJR4gEKPEIkQAlHiESoMQjRAKUeIRIgBKPEAn8P1AgvbKc\n",
              "vGJjAAAAAElFTkSuQmCC\n",
              "\">\n",
              "        \n",
              "      </div>\n",
              "      <script></script>\n",
              "      <script type=\"text/javascript\">\n",
              "        (() => {\n",
              "          const chartElement = document.getElementById(\"chart-eb678512-7fb0-46cf-84b2-5be55274c922\");\n",
              "          async function getCodeForChartHandler(event) {\n",
              "            const chartCodeResponse =  await google.colab.kernel.invokeFunction(\n",
              "                'getCodeForChart', [\"chart-eb678512-7fb0-46cf-84b2-5be55274c922\"], {});\n",
              "            const responseJson = chartCodeResponse.data['application/json'];\n",
              "            await google.colab.notebook.addCell(responseJson.code, 'code');\n",
              "          }\n",
              "          chartElement.onclick = getCodeForChartHandler;\n",
              "        })();\n",
              "      </script>\n",
              "      <style>\n",
              "        .colab-quickchart-chart-with-code  {\n",
              "            display: block;\n",
              "            float: left;\n",
              "            border: 1px solid transparent;\n",
              "        }\n",
              "\n",
              "        .colab-quickchart-chart-with-code:hover {\n",
              "            cursor: pointer;\n",
              "            border: 1px solid #aaa;\n",
              "        }\n",
              "      </style>"
            ]
          },
          "metadata": {}
        }
      ],
      "source": [
        "df3.isnull()"
      ]
    },
    {
      "cell_type": "code",
      "execution_count": 12,
      "metadata": {
        "colab": {
          "base_uri": "https://localhost:8080/"
        },
        "id": "7isa9ZeZNN0c",
        "outputId": "f1fa0741-815c-40af-b838-d3cdea119cfb"
      },
      "outputs": [
        {
          "output_type": "execute_result",
          "data": {
            "text/plain": [
              "OBS                  0\n",
              "DURATION             2\n",
              "NEW_CAR              0\n",
              "USED_CAR             0\n",
              "FURNITURE            0\n",
              "RADIO_TV             0\n",
              "EDUCATION            0\n",
              "RETRAINING           0\n",
              "AMOUNT              10\n",
              "INSTALL_RATE         7\n",
              "CO_APPLICANT         0\n",
              "GUARANTOR            0\n",
              "REAL_ESTATE          0\n",
              "PROP_UNKN_NONE       0\n",
              "AGE                 10\n",
              "OTHER_INSTALL        0\n",
              "RENT                 0\n",
              "OWN_RES              0\n",
              "NUM_CREDITS          6\n",
              "NUM_DEPENDENTS       7\n",
              "TELEPHONE            0\n",
              "FOREIGN              0\n",
              "RESPONSE             0\n",
              "CHK_ACCT             0\n",
              "HISTORY              0\n",
              "SAV_ACCT             0\n",
              "EMPLOYMENT           0\n",
              "PRESENT_RESIDENT     0\n",
              "JOB                  0\n",
              "dtype: int64"
            ]
          },
          "metadata": {},
          "execution_count": 12
        }
      ],
      "source": [
        "df3.isnull().sum()"
      ]
    },
    {
      "cell_type": "code",
      "execution_count": 13,
      "metadata": {
        "colab": {
          "base_uri": "https://localhost:8080/"
        },
        "id": "tvxXLk0sNN0c",
        "outputId": "985cbb1e-a134-4268-c808-6644e2eff9a7"
      },
      "outputs": [
        {
          "output_type": "execute_result",
          "data": {
            "text/plain": [
              "OBS                  0\n",
              "DURATION             2\n",
              "NEW_CAR              0\n",
              "USED_CAR             0\n",
              "FURNITURE            0\n",
              "RADIO_TV             0\n",
              "EDUCATION            0\n",
              "RETRAINING           0\n",
              "AMOUNT              10\n",
              "INSTALL_RATE         7\n",
              "CO_APPLICANT         0\n",
              "GUARANTOR            0\n",
              "REAL_ESTATE          0\n",
              "PROP_UNKN_NONE       0\n",
              "AGE                 10\n",
              "OTHER_INSTALL        0\n",
              "RENT                 0\n",
              "OWN_RES              0\n",
              "NUM_CREDITS          6\n",
              "NUM_DEPENDENTS       7\n",
              "TELEPHONE            0\n",
              "FOREIGN              0\n",
              "RESPONSE             0\n",
              "CHK_ACCT             0\n",
              "HISTORY              0\n",
              "SAV_ACCT             0\n",
              "EMPLOYMENT           0\n",
              "PRESENT_RESIDENT     0\n",
              "JOB                  0\n",
              "dtype: int64"
            ]
          },
          "metadata": {},
          "execution_count": 13
        }
      ],
      "source": [
        "df3.isna().sum()"
      ]
    },
    {
      "cell_type": "code",
      "execution_count": 14,
      "metadata": {
        "colab": {
          "base_uri": "https://localhost:8080/"
        },
        "id": "PoMdXN-oNN0c",
        "outputId": "def9b46a-a031-4031-f326-ed3abdfb08af"
      },
      "outputs": [
        {
          "output_type": "execute_result",
          "data": {
            "text/plain": [
              "Index(['DURATION', 'AMOUNT', 'INSTALL_RATE', 'AGE', 'NUM_CREDITS',\n",
              "       'NUM_DEPENDENTS'],\n",
              "      dtype='object')"
            ]
          },
          "metadata": {},
          "execution_count": 14
        }
      ],
      "source": [
        "df3.isnull().sum()[df3.isnull().sum()>0].index"
      ]
    },
    {
      "cell_type": "code",
      "execution_count": 15,
      "metadata": {
        "id": "vL-kwgL5NN0d"
      },
      "outputs": [],
      "source": [
        "# function to identify columns with na values\n",
        "def na_column_names(dataset,count = 0):\n",
        "    na_cols = dataset.isnull().sum()[dataset.isnull().sum()>count]\n",
        "    return(list(na_cols.index))"
      ]
    },
    {
      "cell_type": "code",
      "execution_count": 16,
      "metadata": {
        "colab": {
          "base_uri": "https://localhost:8080/"
        },
        "id": "lk1Pxpa6NN0d",
        "outputId": "0ee5efee-412c-4e61-99b3-3ed3a2842f69"
      },
      "outputs": [
        {
          "output_type": "execute_result",
          "data": {
            "text/plain": [
              "['DURATION', 'AMOUNT', 'INSTALL_RATE', 'AGE', 'NUM_CREDITS', 'NUM_DEPENDENTS']"
            ]
          },
          "metadata": {},
          "execution_count": 16
        }
      ],
      "source": [
        "na_column_names(df3)"
      ]
    },
    {
      "cell_type": "markdown",
      "metadata": {
        "id": "MyShFULUNN0e"
      },
      "source": [
        "### 1. Dropping the records with missing values"
      ]
    },
    {
      "cell_type": "code",
      "execution_count": 17,
      "metadata": {
        "id": "E0Bm5gUeNN0e"
      },
      "outputs": [],
      "source": [
        "drop_missing_rows = df3.dropna()"
      ]
    },
    {
      "cell_type": "code",
      "execution_count": 18,
      "metadata": {
        "colab": {
          "base_uri": "https://localhost:8080/"
        },
        "id": "DL2fN23lNN0e",
        "outputId": "03311f33-72ed-4068-8a86-c5af91e72d5b"
      },
      "outputs": [
        {
          "output_type": "execute_result",
          "data": {
            "text/plain": [
              "OBS                 0\n",
              "DURATION            0\n",
              "NEW_CAR             0\n",
              "USED_CAR            0\n",
              "FURNITURE           0\n",
              "RADIO_TV            0\n",
              "EDUCATION           0\n",
              "RETRAINING          0\n",
              "AMOUNT              0\n",
              "INSTALL_RATE        0\n",
              "CO_APPLICANT        0\n",
              "GUARANTOR           0\n",
              "REAL_ESTATE         0\n",
              "PROP_UNKN_NONE      0\n",
              "AGE                 0\n",
              "OTHER_INSTALL       0\n",
              "RENT                0\n",
              "OWN_RES             0\n",
              "NUM_CREDITS         0\n",
              "NUM_DEPENDENTS      0\n",
              "TELEPHONE           0\n",
              "FOREIGN             0\n",
              "RESPONSE            0\n",
              "CHK_ACCT            0\n",
              "HISTORY             0\n",
              "SAV_ACCT            0\n",
              "EMPLOYMENT          0\n",
              "PRESENT_RESIDENT    0\n",
              "JOB                 0\n",
              "dtype: int64"
            ]
          },
          "metadata": {},
          "execution_count": 18
        }
      ],
      "source": [
        "drop_missing_rows.isnull().sum()"
      ]
    },
    {
      "cell_type": "code",
      "execution_count": 19,
      "metadata": {
        "colab": {
          "base_uri": "https://localhost:8080/"
        },
        "id": "N7D_wY7MNN0f",
        "outputId": "1490049d-0991-49a9-a56d-22a5945ea704"
      },
      "outputs": [
        {
          "output_type": "execute_result",
          "data": {
            "text/plain": [
              "(1000, 29)"
            ]
          },
          "metadata": {},
          "execution_count": 19
        }
      ],
      "source": [
        "df3.shape"
      ]
    },
    {
      "cell_type": "code",
      "execution_count": 20,
      "metadata": {
        "colab": {
          "base_uri": "https://localhost:8080/"
        },
        "id": "4Ig9kuzPNN0f",
        "outputId": "a1b2bf87-3063-48a1-ad37-3870f667530b"
      },
      "outputs": [
        {
          "output_type": "execute_result",
          "data": {
            "text/plain": [
              "(986, 29)"
            ]
          },
          "metadata": {},
          "execution_count": 20
        }
      ],
      "source": [
        "# Looking at the dimension\n",
        "drop_missing_rows.shape"
      ]
    },
    {
      "cell_type": "code",
      "execution_count": 21,
      "metadata": {
        "colab": {
          "base_uri": "https://localhost:8080/"
        },
        "id": "KukPQYK_NN0f",
        "outputId": "325bdbae-b0e7-4587-895e-85c2dd05189e"
      },
      "outputs": [
        {
          "output_type": "execute_result",
          "data": {
            "text/plain": [
              "(996, 29)"
            ]
          },
          "metadata": {},
          "execution_count": 21
        }
      ],
      "source": [
        "df3.dropna(thresh=25,axis=0).shape #Keep only the rows with at least 25 non-na values"
      ]
    },
    {
      "cell_type": "code",
      "execution_count": 22,
      "metadata": {
        "id": "uLHdqPj5NN0g"
      },
      "outputs": [],
      "source": [
        "df3_fillNa = df3.copy()"
      ]
    },
    {
      "cell_type": "code",
      "execution_count": 23,
      "metadata": {
        "colab": {
          "base_uri": "https://localhost:8080/"
        },
        "id": "L2Afl127NN0g",
        "outputId": "579ce613-882a-45f5-98a9-0e6fe0bf5b0b"
      },
      "outputs": [
        {
          "output_type": "execute_result",
          "data": {
            "text/plain": [
              "OBS                  0\n",
              "DURATION             2\n",
              "NEW_CAR              0\n",
              "USED_CAR             0\n",
              "FURNITURE            0\n",
              "RADIO_TV             0\n",
              "EDUCATION            0\n",
              "RETRAINING           0\n",
              "AMOUNT              10\n",
              "INSTALL_RATE         7\n",
              "CO_APPLICANT         0\n",
              "GUARANTOR            0\n",
              "REAL_ESTATE          0\n",
              "PROP_UNKN_NONE       0\n",
              "AGE                 10\n",
              "OTHER_INSTALL        0\n",
              "RENT                 0\n",
              "OWN_RES              0\n",
              "NUM_CREDITS          6\n",
              "NUM_DEPENDENTS       7\n",
              "TELEPHONE            0\n",
              "FOREIGN              0\n",
              "RESPONSE             0\n",
              "CHK_ACCT             0\n",
              "HISTORY              0\n",
              "SAV_ACCT             0\n",
              "EMPLOYMENT           0\n",
              "PRESENT_RESIDENT     0\n",
              "JOB                  0\n",
              "dtype: int64"
            ]
          },
          "metadata": {},
          "execution_count": 23
        }
      ],
      "source": [
        "df3_fillNa.isnull().sum()"
      ]
    },
    {
      "cell_type": "code",
      "execution_count": 24,
      "metadata": {
        "colab": {
          "base_uri": "https://localhost:8080/"
        },
        "id": "EhiTzxHzNN0g",
        "outputId": "2fa76b6c-a945-4b04-d105-f8e361f9efa9"
      },
      "outputs": [
        {
          "output_type": "stream",
          "name": "stderr",
          "text": [
            "<ipython-input-24-9a32b3064d4a>:1: FutureWarning: The default value of numeric_only in DataFrame.mean is deprecated. In a future version, it will default to False. In addition, specifying 'numeric_only=None' is deprecated. Select only valid columns or specify the value of numeric_only to silence this warning.\n",
            "  df3_fillNa.fillna(df3_fillNa.mean(),inplace=True)\n"
          ]
        }
      ],
      "source": [
        "df3_fillNa.fillna(df3_fillNa.mean(),inplace=True)"
      ]
    },
    {
      "cell_type": "code",
      "execution_count": 25,
      "metadata": {
        "colab": {
          "base_uri": "https://localhost:8080/"
        },
        "id": "JWSjSeBHNN0g",
        "outputId": "b4b011a3-9907-4c45-9ee1-5a13f1cd8d31"
      },
      "outputs": [
        {
          "output_type": "execute_result",
          "data": {
            "text/plain": [
              "OBS                 0\n",
              "DURATION            0\n",
              "NEW_CAR             0\n",
              "USED_CAR            0\n",
              "FURNITURE           0\n",
              "RADIO_TV            0\n",
              "EDUCATION           0\n",
              "RETRAINING          0\n",
              "AMOUNT              0\n",
              "INSTALL_RATE        0\n",
              "CO_APPLICANT        0\n",
              "GUARANTOR           0\n",
              "REAL_ESTATE         0\n",
              "PROP_UNKN_NONE      0\n",
              "AGE                 0\n",
              "OTHER_INSTALL       0\n",
              "RENT                0\n",
              "OWN_RES             0\n",
              "NUM_CREDITS         0\n",
              "NUM_DEPENDENTS      0\n",
              "TELEPHONE           0\n",
              "FOREIGN             0\n",
              "RESPONSE            0\n",
              "CHK_ACCT            0\n",
              "HISTORY             0\n",
              "SAV_ACCT            0\n",
              "EMPLOYMENT          0\n",
              "PRESENT_RESIDENT    0\n",
              "JOB                 0\n",
              "dtype: int64"
            ]
          },
          "metadata": {},
          "execution_count": 25
        }
      ],
      "source": [
        "df3_fillNa.isna().sum()"
      ]
    },
    {
      "cell_type": "code",
      "execution_count": 26,
      "metadata": {
        "id": "pkvWcQ8VNN0h"
      },
      "outputs": [],
      "source": [
        "df3_fillNa = df3_fillNa.replace([0,np.inf], np.nan)"
      ]
    },
    {
      "cell_type": "code",
      "execution_count": 27,
      "metadata": {
        "id": "HsYwPjfZNN0h"
      },
      "outputs": [],
      "source": [
        "df3_new = df3.copy()"
      ]
    },
    {
      "cell_type": "code",
      "execution_count": 28,
      "metadata": {
        "colab": {
          "base_uri": "https://localhost:8080/"
        },
        "id": "Ijy3ey3tNN0h",
        "outputId": "34ceddb9-6897-45c4-80ce-d330155c7790"
      },
      "outputs": [
        {
          "output_type": "execute_result",
          "data": {
            "text/plain": [
              "OBS                  0\n",
              "DURATION             2\n",
              "NEW_CAR              0\n",
              "USED_CAR             0\n",
              "FURNITURE            0\n",
              "RADIO_TV             0\n",
              "EDUCATION            0\n",
              "RETRAINING           0\n",
              "AMOUNT              10\n",
              "INSTALL_RATE         7\n",
              "CO_APPLICANT         0\n",
              "GUARANTOR            0\n",
              "REAL_ESTATE          0\n",
              "PROP_UNKN_NONE       0\n",
              "AGE                 10\n",
              "OTHER_INSTALL        0\n",
              "RENT                 0\n",
              "OWN_RES              0\n",
              "NUM_CREDITS          6\n",
              "NUM_DEPENDENTS       7\n",
              "TELEPHONE            0\n",
              "FOREIGN              0\n",
              "RESPONSE             0\n",
              "CHK_ACCT             0\n",
              "HISTORY              0\n",
              "SAV_ACCT             0\n",
              "EMPLOYMENT           0\n",
              "PRESENT_RESIDENT     0\n",
              "JOB                  0\n",
              "dtype: int64"
            ]
          },
          "metadata": {},
          "execution_count": 28
        }
      ],
      "source": [
        "df3_new.isnull().sum()"
      ]
    },
    {
      "cell_type": "code",
      "execution_count": 29,
      "metadata": {
        "id": "uyg34Z70NN0h"
      },
      "outputs": [],
      "source": [
        "df3_new = df3_new.replace([0,np.inf],np.nan)"
      ]
    },
    {
      "cell_type": "code",
      "execution_count": null,
      "metadata": {
        "id": "JF797ANFNN0i"
      },
      "outputs": [],
      "source": []
    },
    {
      "cell_type": "markdown",
      "metadata": {
        "id": "Tx6BSbmiNN0i"
      },
      "source": [
        "### 2. Imputing missing values with central values"
      ]
    },
    {
      "cell_type": "markdown",
      "metadata": {
        "id": "BvohDnZzNN0i"
      },
      "source": [
        "**Imputing Numeric Columns**"
      ]
    },
    {
      "cell_type": "code",
      "execution_count": 30,
      "metadata": {
        "id": "Sm7GSHEVNN0i"
      },
      "outputs": [],
      "source": [
        "from sklearn.impute import SimpleImputer"
      ]
    },
    {
      "cell_type": "code",
      "execution_count": 31,
      "metadata": {
        "id": "XjYXQBlxNN0j"
      },
      "outputs": [],
      "source": [
        "df3_imp = df3.copy()"
      ]
    },
    {
      "cell_type": "code",
      "execution_count": 32,
      "metadata": {
        "colab": {
          "base_uri": "https://localhost:8080/",
          "height": 423
        },
        "id": "7EqmGBIfNN0j",
        "outputId": "0a9087af-e3c7-431d-c3e8-c9ffe8eb9e41"
      },
      "outputs": [
        {
          "output_type": "execute_result",
          "data": {
            "text/plain": [
              "     DURATION  AMOUNT  INSTALL_RATE   AGE  NUM_CREDITS  NUM_DEPENDENTS\n",
              "0         6.0  1169.0           4.0  67.0          2.0             1.0\n",
              "1        48.0  5951.0           2.0  22.0          1.0             1.0\n",
              "2        12.0  2096.0           2.0  49.0          1.0             2.0\n",
              "3        42.0     0.0           2.0  45.0          1.0             2.0\n",
              "4        24.0     0.0           3.0  53.0          2.0             2.0\n",
              "..        ...     ...           ...   ...          ...             ...\n",
              "995      12.0     NaN           NaN   NaN          NaN             NaN\n",
              "996      30.0  3857.0           4.0  40.0          1.0             1.0\n",
              "997      12.0   804.0           4.0  38.0          1.0             1.0\n",
              "998      45.0  1845.0           4.0  23.0          1.0             1.0\n",
              "999      45.0     NaN           3.0   NaN          1.0             1.0\n",
              "\n",
              "[1000 rows x 6 columns]"
            ],
            "text/html": [
              "\n",
              "\n",
              "  <div id=\"df-ad215519-40b1-4a9c-9919-984fa33f715d\">\n",
              "    <div class=\"colab-df-container\">\n",
              "      <div>\n",
              "<style scoped>\n",
              "    .dataframe tbody tr th:only-of-type {\n",
              "        vertical-align: middle;\n",
              "    }\n",
              "\n",
              "    .dataframe tbody tr th {\n",
              "        vertical-align: top;\n",
              "    }\n",
              "\n",
              "    .dataframe thead th {\n",
              "        text-align: right;\n",
              "    }\n",
              "</style>\n",
              "<table border=\"1\" class=\"dataframe\">\n",
              "  <thead>\n",
              "    <tr style=\"text-align: right;\">\n",
              "      <th></th>\n",
              "      <th>DURATION</th>\n",
              "      <th>AMOUNT</th>\n",
              "      <th>INSTALL_RATE</th>\n",
              "      <th>AGE</th>\n",
              "      <th>NUM_CREDITS</th>\n",
              "      <th>NUM_DEPENDENTS</th>\n",
              "    </tr>\n",
              "  </thead>\n",
              "  <tbody>\n",
              "    <tr>\n",
              "      <th>0</th>\n",
              "      <td>6.0</td>\n",
              "      <td>1169.0</td>\n",
              "      <td>4.0</td>\n",
              "      <td>67.0</td>\n",
              "      <td>2.0</td>\n",
              "      <td>1.0</td>\n",
              "    </tr>\n",
              "    <tr>\n",
              "      <th>1</th>\n",
              "      <td>48.0</td>\n",
              "      <td>5951.0</td>\n",
              "      <td>2.0</td>\n",
              "      <td>22.0</td>\n",
              "      <td>1.0</td>\n",
              "      <td>1.0</td>\n",
              "    </tr>\n",
              "    <tr>\n",
              "      <th>2</th>\n",
              "      <td>12.0</td>\n",
              "      <td>2096.0</td>\n",
              "      <td>2.0</td>\n",
              "      <td>49.0</td>\n",
              "      <td>1.0</td>\n",
              "      <td>2.0</td>\n",
              "    </tr>\n",
              "    <tr>\n",
              "      <th>3</th>\n",
              "      <td>42.0</td>\n",
              "      <td>0.0</td>\n",
              "      <td>2.0</td>\n",
              "      <td>45.0</td>\n",
              "      <td>1.0</td>\n",
              "      <td>2.0</td>\n",
              "    </tr>\n",
              "    <tr>\n",
              "      <th>4</th>\n",
              "      <td>24.0</td>\n",
              "      <td>0.0</td>\n",
              "      <td>3.0</td>\n",
              "      <td>53.0</td>\n",
              "      <td>2.0</td>\n",
              "      <td>2.0</td>\n",
              "    </tr>\n",
              "    <tr>\n",
              "      <th>...</th>\n",
              "      <td>...</td>\n",
              "      <td>...</td>\n",
              "      <td>...</td>\n",
              "      <td>...</td>\n",
              "      <td>...</td>\n",
              "      <td>...</td>\n",
              "    </tr>\n",
              "    <tr>\n",
              "      <th>995</th>\n",
              "      <td>12.0</td>\n",
              "      <td>NaN</td>\n",
              "      <td>NaN</td>\n",
              "      <td>NaN</td>\n",
              "      <td>NaN</td>\n",
              "      <td>NaN</td>\n",
              "    </tr>\n",
              "    <tr>\n",
              "      <th>996</th>\n",
              "      <td>30.0</td>\n",
              "      <td>3857.0</td>\n",
              "      <td>4.0</td>\n",
              "      <td>40.0</td>\n",
              "      <td>1.0</td>\n",
              "      <td>1.0</td>\n",
              "    </tr>\n",
              "    <tr>\n",
              "      <th>997</th>\n",
              "      <td>12.0</td>\n",
              "      <td>804.0</td>\n",
              "      <td>4.0</td>\n",
              "      <td>38.0</td>\n",
              "      <td>1.0</td>\n",
              "      <td>1.0</td>\n",
              "    </tr>\n",
              "    <tr>\n",
              "      <th>998</th>\n",
              "      <td>45.0</td>\n",
              "      <td>1845.0</td>\n",
              "      <td>4.0</td>\n",
              "      <td>23.0</td>\n",
              "      <td>1.0</td>\n",
              "      <td>1.0</td>\n",
              "    </tr>\n",
              "    <tr>\n",
              "      <th>999</th>\n",
              "      <td>45.0</td>\n",
              "      <td>NaN</td>\n",
              "      <td>3.0</td>\n",
              "      <td>NaN</td>\n",
              "      <td>1.0</td>\n",
              "      <td>1.0</td>\n",
              "    </tr>\n",
              "  </tbody>\n",
              "</table>\n",
              "<p>1000 rows × 6 columns</p>\n",
              "</div>\n",
              "      <button class=\"colab-df-convert\" onclick=\"convertToInteractive('df-ad215519-40b1-4a9c-9919-984fa33f715d')\"\n",
              "              title=\"Convert this dataframe to an interactive table.\"\n",
              "              style=\"display:none;\">\n",
              "\n",
              "  <svg xmlns=\"http://www.w3.org/2000/svg\" height=\"24px\"viewBox=\"0 0 24 24\"\n",
              "       width=\"24px\">\n",
              "    <path d=\"M0 0h24v24H0V0z\" fill=\"none\"/>\n",
              "    <path d=\"M18.56 5.44l.94 2.06.94-2.06 2.06-.94-2.06-.94-.94-2.06-.94 2.06-2.06.94zm-11 1L8.5 8.5l.94-2.06 2.06-.94-2.06-.94L8.5 2.5l-.94 2.06-2.06.94zm10 10l.94 2.06.94-2.06 2.06-.94-2.06-.94-.94-2.06-.94 2.06-2.06.94z\"/><path d=\"M17.41 7.96l-1.37-1.37c-.4-.4-.92-.59-1.43-.59-.52 0-1.04.2-1.43.59L10.3 9.45l-7.72 7.72c-.78.78-.78 2.05 0 2.83L4 21.41c.39.39.9.59 1.41.59.51 0 1.02-.2 1.41-.59l7.78-7.78 2.81-2.81c.8-.78.8-2.07 0-2.86zM5.41 20L4 18.59l7.72-7.72 1.47 1.35L5.41 20z\"/>\n",
              "  </svg>\n",
              "      </button>\n",
              "\n",
              "\n",
              "\n",
              "    <div id=\"df-e79d9f6f-51db-4319-85b9-7a11f2bf4cda\">\n",
              "      <button class=\"colab-df-quickchart\" onclick=\"quickchart('df-e79d9f6f-51db-4319-85b9-7a11f2bf4cda')\"\n",
              "              title=\"Suggest charts.\"\n",
              "              style=\"display:none;\">\n",
              "\n",
              "<svg xmlns=\"http://www.w3.org/2000/svg\" height=\"24px\"viewBox=\"0 0 24 24\"\n",
              "     width=\"24px\">\n",
              "    <g>\n",
              "        <path d=\"M19 3H5c-1.1 0-2 .9-2 2v14c0 1.1.9 2 2 2h14c1.1 0 2-.9 2-2V5c0-1.1-.9-2-2-2zM9 17H7v-7h2v7zm4 0h-2V7h2v10zm4 0h-2v-4h2v4z\"/>\n",
              "    </g>\n",
              "</svg>\n",
              "      </button>\n",
              "    </div>\n",
              "\n",
              "<style>\n",
              "  .colab-df-quickchart {\n",
              "    background-color: #E8F0FE;\n",
              "    border: none;\n",
              "    border-radius: 50%;\n",
              "    cursor: pointer;\n",
              "    display: none;\n",
              "    fill: #1967D2;\n",
              "    height: 32px;\n",
              "    padding: 0 0 0 0;\n",
              "    width: 32px;\n",
              "  }\n",
              "\n",
              "  .colab-df-quickchart:hover {\n",
              "    background-color: #E2EBFA;\n",
              "    box-shadow: 0px 1px 2px rgba(60, 64, 67, 0.3), 0px 1px 3px 1px rgba(60, 64, 67, 0.15);\n",
              "    fill: #174EA6;\n",
              "  }\n",
              "\n",
              "  [theme=dark] .colab-df-quickchart {\n",
              "    background-color: #3B4455;\n",
              "    fill: #D2E3FC;\n",
              "  }\n",
              "\n",
              "  [theme=dark] .colab-df-quickchart:hover {\n",
              "    background-color: #434B5C;\n",
              "    box-shadow: 0px 1px 3px 1px rgba(0, 0, 0, 0.15);\n",
              "    filter: drop-shadow(0px 1px 2px rgba(0, 0, 0, 0.3));\n",
              "    fill: #FFFFFF;\n",
              "  }\n",
              "</style>\n",
              "\n",
              "    <script>\n",
              "      async function quickchart(key) {\n",
              "        const containerElement = document.querySelector('#' + key);\n",
              "        const charts = await google.colab.kernel.invokeFunction(\n",
              "            'suggestCharts', [key], {});\n",
              "      }\n",
              "    </script>\n",
              "\n",
              "      <script>\n",
              "\n",
              "function displayQuickchartButton(domScope) {\n",
              "  let quickchartButtonEl =\n",
              "    domScope.querySelector('#df-e79d9f6f-51db-4319-85b9-7a11f2bf4cda button.colab-df-quickchart');\n",
              "  quickchartButtonEl.style.display =\n",
              "    google.colab.kernel.accessAllowed ? 'block' : 'none';\n",
              "}\n",
              "\n",
              "        displayQuickchartButton(document);\n",
              "      </script>\n",
              "      <style>\n",
              "    .colab-df-container {\n",
              "      display:flex;\n",
              "      flex-wrap:wrap;\n",
              "      gap: 12px;\n",
              "    }\n",
              "\n",
              "    .colab-df-convert {\n",
              "      background-color: #E8F0FE;\n",
              "      border: none;\n",
              "      border-radius: 50%;\n",
              "      cursor: pointer;\n",
              "      display: none;\n",
              "      fill: #1967D2;\n",
              "      height: 32px;\n",
              "      padding: 0 0 0 0;\n",
              "      width: 32px;\n",
              "    }\n",
              "\n",
              "    .colab-df-convert:hover {\n",
              "      background-color: #E2EBFA;\n",
              "      box-shadow: 0px 1px 2px rgba(60, 64, 67, 0.3), 0px 1px 3px 1px rgba(60, 64, 67, 0.15);\n",
              "      fill: #174EA6;\n",
              "    }\n",
              "\n",
              "    [theme=dark] .colab-df-convert {\n",
              "      background-color: #3B4455;\n",
              "      fill: #D2E3FC;\n",
              "    }\n",
              "\n",
              "    [theme=dark] .colab-df-convert:hover {\n",
              "      background-color: #434B5C;\n",
              "      box-shadow: 0px 1px 3px 1px rgba(0, 0, 0, 0.15);\n",
              "      filter: drop-shadow(0px 1px 2px rgba(0, 0, 0, 0.3));\n",
              "      fill: #FFFFFF;\n",
              "    }\n",
              "  </style>\n",
              "\n",
              "      <script>\n",
              "        const buttonEl =\n",
              "          document.querySelector('#df-ad215519-40b1-4a9c-9919-984fa33f715d button.colab-df-convert');\n",
              "        buttonEl.style.display =\n",
              "          google.colab.kernel.accessAllowed ? 'block' : 'none';\n",
              "\n",
              "        async function convertToInteractive(key) {\n",
              "          const element = document.querySelector('#df-ad215519-40b1-4a9c-9919-984fa33f715d');\n",
              "          const dataTable =\n",
              "            await google.colab.kernel.invokeFunction('convertToInteractive',\n",
              "                                                     [key], {});\n",
              "          if (!dataTable) return;\n",
              "\n",
              "          const docLinkHtml = 'Like what you see? Visit the ' +\n",
              "            '<a target=\"_blank\" href=https://colab.research.google.com/notebooks/data_table.ipynb>data table notebook</a>'\n",
              "            + ' to learn more about interactive tables.';\n",
              "          element.innerHTML = '';\n",
              "          dataTable['output_type'] = 'display_data';\n",
              "          await google.colab.output.renderOutput(dataTable, element);\n",
              "          const docLink = document.createElement('div');\n",
              "          docLink.innerHTML = docLinkHtml;\n",
              "          element.appendChild(docLink);\n",
              "        }\n",
              "      </script>\n",
              "    </div>\n",
              "  </div>\n"
            ]
          },
          "metadata": {},
          "execution_count": 32
        }
      ],
      "source": [
        "df3_imp[num_attr]"
      ]
    },
    {
      "cell_type": "code",
      "execution_count": 33,
      "metadata": {
        "id": "FuidKyYNNN0j"
      },
      "outputs": [],
      "source": [
        "imp_num = SimpleImputer(missing_values=np.nan, strategy='mean') #Create an imputer object"
      ]
    },
    {
      "cell_type": "code",
      "execution_count": 34,
      "metadata": {
        "id": "WE13X6zdNN0j"
      },
      "outputs": [],
      "source": [
        "\n",
        "abc = imp_num.fit_transform(df3_imp[num_attr])"
      ]
    },
    {
      "cell_type": "code",
      "execution_count": 35,
      "metadata": {
        "colab": {
          "base_uri": "https://localhost:8080/"
        },
        "id": "QcmNWRWQNN0j",
        "outputId": "aebfc3a2-52ee-47dd-8261-a480c4e6da51"
      },
      "outputs": [
        {
          "output_type": "execute_result",
          "data": {
            "text/plain": [
              "array([[6.00000000e+00, 1.16900000e+03, 4.00000000e+00, 6.70000000e+01,\n",
              "        2.00000000e+00, 1.00000000e+00],\n",
              "       [4.80000000e+01, 5.95100000e+03, 2.00000000e+00, 2.20000000e+01,\n",
              "        1.00000000e+00, 1.00000000e+00],\n",
              "       [1.20000000e+01, 2.09600000e+03, 2.00000000e+00, 4.90000000e+01,\n",
              "        1.00000000e+00, 2.00000000e+00],\n",
              "       ...,\n",
              "       [1.20000000e+01, 8.04000000e+02, 4.00000000e+00, 3.80000000e+01,\n",
              "        1.00000000e+00, 1.00000000e+00],\n",
              "       [4.50000000e+01, 1.84500000e+03, 4.00000000e+00, 2.30000000e+01,\n",
              "        1.00000000e+00, 1.00000000e+00],\n",
              "       [4.50000000e+01, 3.26028788e+03, 3.00000000e+00, 3.55050505e+01,\n",
              "        1.00000000e+00, 1.00000000e+00]])"
            ]
          },
          "metadata": {},
          "execution_count": 35
        }
      ],
      "source": [
        "abc"
      ]
    },
    {
      "cell_type": "code",
      "execution_count": 36,
      "metadata": {
        "id": "dQ6C6ek-NN0j"
      },
      "outputs": [],
      "source": [
        "df_num_nans_imputed = pd.DataFrame(imp_num.fit_transform(df3_imp[num_attr]), columns=num_attr) #fit and transform"
      ]
    },
    {
      "cell_type": "code",
      "execution_count": 37,
      "metadata": {
        "colab": {
          "base_uri": "https://localhost:8080/",
          "height": 206
        },
        "id": "H9oJEFQuNN0k",
        "outputId": "ec6f95e4-15ff-437d-e3fc-e02a7b2be7d3"
      },
      "outputs": [
        {
          "output_type": "execute_result",
          "data": {
            "text/plain": [
              "   DURATION  AMOUNT  INSTALL_RATE   AGE  NUM_CREDITS  NUM_DEPENDENTS\n",
              "0       6.0  1169.0           4.0  67.0          2.0             1.0\n",
              "1      48.0  5951.0           2.0  22.0          1.0             1.0\n",
              "2      12.0  2096.0           2.0  49.0          1.0             2.0\n",
              "3      42.0     0.0           2.0  45.0          1.0             2.0\n",
              "4      24.0     0.0           3.0  53.0          2.0             2.0"
            ],
            "text/html": [
              "\n",
              "\n",
              "  <div id=\"df-60433c5d-eb5f-485b-bdb5-9d61028aa49e\">\n",
              "    <div class=\"colab-df-container\">\n",
              "      <div>\n",
              "<style scoped>\n",
              "    .dataframe tbody tr th:only-of-type {\n",
              "        vertical-align: middle;\n",
              "    }\n",
              "\n",
              "    .dataframe tbody tr th {\n",
              "        vertical-align: top;\n",
              "    }\n",
              "\n",
              "    .dataframe thead th {\n",
              "        text-align: right;\n",
              "    }\n",
              "</style>\n",
              "<table border=\"1\" class=\"dataframe\">\n",
              "  <thead>\n",
              "    <tr style=\"text-align: right;\">\n",
              "      <th></th>\n",
              "      <th>DURATION</th>\n",
              "      <th>AMOUNT</th>\n",
              "      <th>INSTALL_RATE</th>\n",
              "      <th>AGE</th>\n",
              "      <th>NUM_CREDITS</th>\n",
              "      <th>NUM_DEPENDENTS</th>\n",
              "    </tr>\n",
              "  </thead>\n",
              "  <tbody>\n",
              "    <tr>\n",
              "      <th>0</th>\n",
              "      <td>6.0</td>\n",
              "      <td>1169.0</td>\n",
              "      <td>4.0</td>\n",
              "      <td>67.0</td>\n",
              "      <td>2.0</td>\n",
              "      <td>1.0</td>\n",
              "    </tr>\n",
              "    <tr>\n",
              "      <th>1</th>\n",
              "      <td>48.0</td>\n",
              "      <td>5951.0</td>\n",
              "      <td>2.0</td>\n",
              "      <td>22.0</td>\n",
              "      <td>1.0</td>\n",
              "      <td>1.0</td>\n",
              "    </tr>\n",
              "    <tr>\n",
              "      <th>2</th>\n",
              "      <td>12.0</td>\n",
              "      <td>2096.0</td>\n",
              "      <td>2.0</td>\n",
              "      <td>49.0</td>\n",
              "      <td>1.0</td>\n",
              "      <td>2.0</td>\n",
              "    </tr>\n",
              "    <tr>\n",
              "      <th>3</th>\n",
              "      <td>42.0</td>\n",
              "      <td>0.0</td>\n",
              "      <td>2.0</td>\n",
              "      <td>45.0</td>\n",
              "      <td>1.0</td>\n",
              "      <td>2.0</td>\n",
              "    </tr>\n",
              "    <tr>\n",
              "      <th>4</th>\n",
              "      <td>24.0</td>\n",
              "      <td>0.0</td>\n",
              "      <td>3.0</td>\n",
              "      <td>53.0</td>\n",
              "      <td>2.0</td>\n",
              "      <td>2.0</td>\n",
              "    </tr>\n",
              "  </tbody>\n",
              "</table>\n",
              "</div>\n",
              "      <button class=\"colab-df-convert\" onclick=\"convertToInteractive('df-60433c5d-eb5f-485b-bdb5-9d61028aa49e')\"\n",
              "              title=\"Convert this dataframe to an interactive table.\"\n",
              "              style=\"display:none;\">\n",
              "\n",
              "  <svg xmlns=\"http://www.w3.org/2000/svg\" height=\"24px\"viewBox=\"0 0 24 24\"\n",
              "       width=\"24px\">\n",
              "    <path d=\"M0 0h24v24H0V0z\" fill=\"none\"/>\n",
              "    <path d=\"M18.56 5.44l.94 2.06.94-2.06 2.06-.94-2.06-.94-.94-2.06-.94 2.06-2.06.94zm-11 1L8.5 8.5l.94-2.06 2.06-.94-2.06-.94L8.5 2.5l-.94 2.06-2.06.94zm10 10l.94 2.06.94-2.06 2.06-.94-2.06-.94-.94-2.06-.94 2.06-2.06.94z\"/><path d=\"M17.41 7.96l-1.37-1.37c-.4-.4-.92-.59-1.43-.59-.52 0-1.04.2-1.43.59L10.3 9.45l-7.72 7.72c-.78.78-.78 2.05 0 2.83L4 21.41c.39.39.9.59 1.41.59.51 0 1.02-.2 1.41-.59l7.78-7.78 2.81-2.81c.8-.78.8-2.07 0-2.86zM5.41 20L4 18.59l7.72-7.72 1.47 1.35L5.41 20z\"/>\n",
              "  </svg>\n",
              "      </button>\n",
              "\n",
              "\n",
              "\n",
              "    <div id=\"df-85d4479a-a1ef-49b6-81db-4f049308c7cf\">\n",
              "      <button class=\"colab-df-quickchart\" onclick=\"quickchart('df-85d4479a-a1ef-49b6-81db-4f049308c7cf')\"\n",
              "              title=\"Suggest charts.\"\n",
              "              style=\"display:none;\">\n",
              "\n",
              "<svg xmlns=\"http://www.w3.org/2000/svg\" height=\"24px\"viewBox=\"0 0 24 24\"\n",
              "     width=\"24px\">\n",
              "    <g>\n",
              "        <path d=\"M19 3H5c-1.1 0-2 .9-2 2v14c0 1.1.9 2 2 2h14c1.1 0 2-.9 2-2V5c0-1.1-.9-2-2-2zM9 17H7v-7h2v7zm4 0h-2V7h2v10zm4 0h-2v-4h2v4z\"/>\n",
              "    </g>\n",
              "</svg>\n",
              "      </button>\n",
              "    </div>\n",
              "\n",
              "<style>\n",
              "  .colab-df-quickchart {\n",
              "    background-color: #E8F0FE;\n",
              "    border: none;\n",
              "    border-radius: 50%;\n",
              "    cursor: pointer;\n",
              "    display: none;\n",
              "    fill: #1967D2;\n",
              "    height: 32px;\n",
              "    padding: 0 0 0 0;\n",
              "    width: 32px;\n",
              "  }\n",
              "\n",
              "  .colab-df-quickchart:hover {\n",
              "    background-color: #E2EBFA;\n",
              "    box-shadow: 0px 1px 2px rgba(60, 64, 67, 0.3), 0px 1px 3px 1px rgba(60, 64, 67, 0.15);\n",
              "    fill: #174EA6;\n",
              "  }\n",
              "\n",
              "  [theme=dark] .colab-df-quickchart {\n",
              "    background-color: #3B4455;\n",
              "    fill: #D2E3FC;\n",
              "  }\n",
              "\n",
              "  [theme=dark] .colab-df-quickchart:hover {\n",
              "    background-color: #434B5C;\n",
              "    box-shadow: 0px 1px 3px 1px rgba(0, 0, 0, 0.15);\n",
              "    filter: drop-shadow(0px 1px 2px rgba(0, 0, 0, 0.3));\n",
              "    fill: #FFFFFF;\n",
              "  }\n",
              "</style>\n",
              "\n",
              "    <script>\n",
              "      async function quickchart(key) {\n",
              "        const containerElement = document.querySelector('#' + key);\n",
              "        const charts = await google.colab.kernel.invokeFunction(\n",
              "            'suggestCharts', [key], {});\n",
              "      }\n",
              "    </script>\n",
              "\n",
              "      <script>\n",
              "\n",
              "function displayQuickchartButton(domScope) {\n",
              "  let quickchartButtonEl =\n",
              "    domScope.querySelector('#df-85d4479a-a1ef-49b6-81db-4f049308c7cf button.colab-df-quickchart');\n",
              "  quickchartButtonEl.style.display =\n",
              "    google.colab.kernel.accessAllowed ? 'block' : 'none';\n",
              "}\n",
              "\n",
              "        displayQuickchartButton(document);\n",
              "      </script>\n",
              "      <style>\n",
              "    .colab-df-container {\n",
              "      display:flex;\n",
              "      flex-wrap:wrap;\n",
              "      gap: 12px;\n",
              "    }\n",
              "\n",
              "    .colab-df-convert {\n",
              "      background-color: #E8F0FE;\n",
              "      border: none;\n",
              "      border-radius: 50%;\n",
              "      cursor: pointer;\n",
              "      display: none;\n",
              "      fill: #1967D2;\n",
              "      height: 32px;\n",
              "      padding: 0 0 0 0;\n",
              "      width: 32px;\n",
              "    }\n",
              "\n",
              "    .colab-df-convert:hover {\n",
              "      background-color: #E2EBFA;\n",
              "      box-shadow: 0px 1px 2px rgba(60, 64, 67, 0.3), 0px 1px 3px 1px rgba(60, 64, 67, 0.15);\n",
              "      fill: #174EA6;\n",
              "    }\n",
              "\n",
              "    [theme=dark] .colab-df-convert {\n",
              "      background-color: #3B4455;\n",
              "      fill: #D2E3FC;\n",
              "    }\n",
              "\n",
              "    [theme=dark] .colab-df-convert:hover {\n",
              "      background-color: #434B5C;\n",
              "      box-shadow: 0px 1px 3px 1px rgba(0, 0, 0, 0.15);\n",
              "      filter: drop-shadow(0px 1px 2px rgba(0, 0, 0, 0.3));\n",
              "      fill: #FFFFFF;\n",
              "    }\n",
              "  </style>\n",
              "\n",
              "      <script>\n",
              "        const buttonEl =\n",
              "          document.querySelector('#df-60433c5d-eb5f-485b-bdb5-9d61028aa49e button.colab-df-convert');\n",
              "        buttonEl.style.display =\n",
              "          google.colab.kernel.accessAllowed ? 'block' : 'none';\n",
              "\n",
              "        async function convertToInteractive(key) {\n",
              "          const element = document.querySelector('#df-60433c5d-eb5f-485b-bdb5-9d61028aa49e');\n",
              "          const dataTable =\n",
              "            await google.colab.kernel.invokeFunction('convertToInteractive',\n",
              "                                                     [key], {});\n",
              "          if (!dataTable) return;\n",
              "\n",
              "          const docLinkHtml = 'Like what you see? Visit the ' +\n",
              "            '<a target=\"_blank\" href=https://colab.research.google.com/notebooks/data_table.ipynb>data table notebook</a>'\n",
              "            + ' to learn more about interactive tables.';\n",
              "          element.innerHTML = '';\n",
              "          dataTable['output_type'] = 'display_data';\n",
              "          await google.colab.output.renderOutput(dataTable, element);\n",
              "          const docLink = document.createElement('div');\n",
              "          docLink.innerHTML = docLinkHtml;\n",
              "          element.appendChild(docLink);\n",
              "        }\n",
              "      </script>\n",
              "    </div>\n",
              "  </div>\n"
            ]
          },
          "metadata": {},
          "execution_count": 37
        }
      ],
      "source": [
        "df_num_nans_imputed.head()"
      ]
    },
    {
      "cell_type": "code",
      "execution_count": 38,
      "metadata": {
        "colab": {
          "base_uri": "https://localhost:8080/"
        },
        "id": "2I3eQp1bNN0k",
        "outputId": "698391a3-4005-462c-90cd-f48d2c3e3666"
      },
      "outputs": [
        {
          "output_type": "execute_result",
          "data": {
            "text/plain": [
              "DURATION          0\n",
              "AMOUNT            0\n",
              "INSTALL_RATE      0\n",
              "AGE               0\n",
              "NUM_CREDITS       0\n",
              "NUM_DEPENDENTS    0\n",
              "dtype: int64"
            ]
          },
          "metadata": {},
          "execution_count": 38
        }
      ],
      "source": [
        "df_num_nans_imputed.isnull().sum()"
      ]
    },
    {
      "cell_type": "markdown",
      "metadata": {
        "id": "zqTqobVbNN0k"
      },
      "source": [
        "**Imputing Categorical columns with mode**"
      ]
    },
    {
      "cell_type": "code",
      "execution_count": 39,
      "metadata": {
        "colab": {
          "base_uri": "https://localhost:8080/"
        },
        "id": "mce5PhigNN0k",
        "outputId": "14ca14d8-0b23-405a-9809-ef9254958059"
      },
      "outputs": [
        {
          "output_type": "execute_result",
          "data": {
            "text/plain": [
              "OBS                 object\n",
              "NEW_CAR             object\n",
              "USED_CAR            object\n",
              "FURNITURE           object\n",
              "RADIO_TV            object\n",
              "EDUCATION           object\n",
              "RETRAINING          object\n",
              "CO_APPLICANT        object\n",
              "GUARANTOR           object\n",
              "REAL_ESTATE         object\n",
              "PROP_UNKN_NONE      object\n",
              "OTHER_INSTALL       object\n",
              "RENT                object\n",
              "OWN_RES             object\n",
              "TELEPHONE           object\n",
              "FOREIGN             object\n",
              "RESPONSE            object\n",
              "CHK_ACCT            object\n",
              "HISTORY             object\n",
              "SAV_ACCT            object\n",
              "EMPLOYMENT          object\n",
              "PRESENT_RESIDENT    object\n",
              "JOB                 object\n",
              "dtype: object"
            ]
          },
          "metadata": {},
          "execution_count": 39
        }
      ],
      "source": [
        "df3_imp[cat_attr].dtypes"
      ]
    },
    {
      "cell_type": "markdown",
      "metadata": {
        "id": "HbxGwONxNN0l"
      },
      "source": [
        "when we converted the columns in to string type, nan will be treated as a string, we will replace the string with pythons inbuilt null type"
      ]
    },
    {
      "cell_type": "code",
      "execution_count": 40,
      "metadata": {
        "id": "rFg0o5AENN0l"
      },
      "outputs": [],
      "source": [
        "df3_imp[cat_attr] = df3_imp[cat_attr].replace('nan',np.NaN)"
      ]
    },
    {
      "cell_type": "code",
      "execution_count": 41,
      "metadata": {
        "colab": {
          "base_uri": "https://localhost:8080/"
        },
        "id": "0SubRg1YNN0l",
        "outputId": "8b26d094-f164-406a-ecad-9a015f14c32d"
      },
      "outputs": [
        {
          "output_type": "execute_result",
          "data": {
            "text/plain": [
              "0.0    765\n",
              "1.0    234\n",
              "Name: NEW_CAR, dtype: int64"
            ]
          },
          "metadata": {},
          "execution_count": 41
        }
      ],
      "source": [
        "df3_imp['NEW_CAR'].value_counts()"
      ]
    },
    {
      "cell_type": "code",
      "execution_count": 42,
      "metadata": {
        "id": "tSTryCaHNN0n"
      },
      "outputs": [],
      "source": [
        "df_cat_nans_imputed = df3_imp[cat_attr].apply(lambda x:x.fillna(x.value_counts().index[0]))"
      ]
    },
    {
      "cell_type": "code",
      "execution_count": 43,
      "metadata": {
        "colab": {
          "base_uri": "https://localhost:8080/",
          "height": 487
        },
        "id": "G77EmhrhNN0n",
        "outputId": "4d97155a-60fb-4ee4-a4ab-9b379170a53b"
      },
      "outputs": [
        {
          "output_type": "execute_result",
          "data": {
            "text/plain": [
              "      OBS NEW_CAR USED_CAR FURNITURE RADIO_TV EDUCATION RETRAINING  \\\n",
              "0       1     0.0      0.0       0.0      1.0       0.0        0.0   \n",
              "1       2     0.0      0.0       0.0      1.0       0.0        0.0   \n",
              "2       3     0.0      0.0       0.0      0.0       1.0        0.0   \n",
              "3       4     0.0      0.0       1.0      0.0       0.0        0.0   \n",
              "4       5     1.0      0.0       0.0      0.0       0.0        0.0   \n",
              "..    ...     ...      ...       ...      ...       ...        ...   \n",
              "995   996     0.0      0.0       0.0      0.0       0.0        0.0   \n",
              "996   997     0.0      1.0       0.0      0.0       0.0        0.0   \n",
              "997   998     0.0      0.0       0.0      1.0       0.0        0.0   \n",
              "998   999     0.0      0.0       0.0      1.0       0.0        0.0   \n",
              "999  1000     0.0      1.0       0.0      0.0       0.0        0.0   \n",
              "\n",
              "    CO_APPLICANT GUARANTOR REAL_ESTATE  ... OWN_RES TELEPHONE FOREIGN  \\\n",
              "0            0.0       0.0         1.0  ...     1.0       1.0     0.0   \n",
              "1            0.0       0.0         1.0  ...     1.0       0.0     0.0   \n",
              "2            0.0       0.0         1.0  ...     1.0       0.0     0.0   \n",
              "3            0.0       1.0         0.0  ...     0.0       0.0     0.0   \n",
              "4            0.0       0.0         0.0  ...     0.0       0.0     0.0   \n",
              "..           ...       ...         ...  ...     ...       ...     ...   \n",
              "995          0.0       0.0         0.0  ...     1.0       0.0     0.0   \n",
              "996          0.0       0.0         0.0  ...     1.0       1.0     0.0   \n",
              "997          0.0       0.0         0.0  ...     1.0       0.0     0.0   \n",
              "998          0.0       0.0         0.0  ...     0.0       1.0     0.0   \n",
              "999          0.0       0.0         0.0  ...     1.0       0.0     0.0   \n",
              "\n",
              "    RESPONSE CHK_ACCT HISTORY SAV_ACCT EMPLOYMENT PRESENT_RESIDENT JOB  \n",
              "0        1.0        0       4        4          4                4   2  \n",
              "1        0.0        1       2        0          2                2   2  \n",
              "2        1.0        3       4        0          3                3   1  \n",
              "3        1.0        0       2        0          3                4   2  \n",
              "4        0.0        0       3        0          2                4   2  \n",
              "..       ...      ...     ...      ...        ...              ...  ..  \n",
              "995      1.0        3       2        0          3                4   1  \n",
              "996      1.0        0       2        0          2                4   3  \n",
              "997      1.0        3       2        0          4                4   2  \n",
              "998      0.0        0       2        0          2                4   2  \n",
              "999      1.0        1       4        1          0                4   2  \n",
              "\n",
              "[1000 rows x 23 columns]"
            ],
            "text/html": [
              "\n",
              "\n",
              "  <div id=\"df-1a362b29-a0a8-44f2-99e4-254a620a2843\">\n",
              "    <div class=\"colab-df-container\">\n",
              "      <div>\n",
              "<style scoped>\n",
              "    .dataframe tbody tr th:only-of-type {\n",
              "        vertical-align: middle;\n",
              "    }\n",
              "\n",
              "    .dataframe tbody tr th {\n",
              "        vertical-align: top;\n",
              "    }\n",
              "\n",
              "    .dataframe thead th {\n",
              "        text-align: right;\n",
              "    }\n",
              "</style>\n",
              "<table border=\"1\" class=\"dataframe\">\n",
              "  <thead>\n",
              "    <tr style=\"text-align: right;\">\n",
              "      <th></th>\n",
              "      <th>OBS</th>\n",
              "      <th>NEW_CAR</th>\n",
              "      <th>USED_CAR</th>\n",
              "      <th>FURNITURE</th>\n",
              "      <th>RADIO_TV</th>\n",
              "      <th>EDUCATION</th>\n",
              "      <th>RETRAINING</th>\n",
              "      <th>CO_APPLICANT</th>\n",
              "      <th>GUARANTOR</th>\n",
              "      <th>REAL_ESTATE</th>\n",
              "      <th>...</th>\n",
              "      <th>OWN_RES</th>\n",
              "      <th>TELEPHONE</th>\n",
              "      <th>FOREIGN</th>\n",
              "      <th>RESPONSE</th>\n",
              "      <th>CHK_ACCT</th>\n",
              "      <th>HISTORY</th>\n",
              "      <th>SAV_ACCT</th>\n",
              "      <th>EMPLOYMENT</th>\n",
              "      <th>PRESENT_RESIDENT</th>\n",
              "      <th>JOB</th>\n",
              "    </tr>\n",
              "  </thead>\n",
              "  <tbody>\n",
              "    <tr>\n",
              "      <th>0</th>\n",
              "      <td>1</td>\n",
              "      <td>0.0</td>\n",
              "      <td>0.0</td>\n",
              "      <td>0.0</td>\n",
              "      <td>1.0</td>\n",
              "      <td>0.0</td>\n",
              "      <td>0.0</td>\n",
              "      <td>0.0</td>\n",
              "      <td>0.0</td>\n",
              "      <td>1.0</td>\n",
              "      <td>...</td>\n",
              "      <td>1.0</td>\n",
              "      <td>1.0</td>\n",
              "      <td>0.0</td>\n",
              "      <td>1.0</td>\n",
              "      <td>0</td>\n",
              "      <td>4</td>\n",
              "      <td>4</td>\n",
              "      <td>4</td>\n",
              "      <td>4</td>\n",
              "      <td>2</td>\n",
              "    </tr>\n",
              "    <tr>\n",
              "      <th>1</th>\n",
              "      <td>2</td>\n",
              "      <td>0.0</td>\n",
              "      <td>0.0</td>\n",
              "      <td>0.0</td>\n",
              "      <td>1.0</td>\n",
              "      <td>0.0</td>\n",
              "      <td>0.0</td>\n",
              "      <td>0.0</td>\n",
              "      <td>0.0</td>\n",
              "      <td>1.0</td>\n",
              "      <td>...</td>\n",
              "      <td>1.0</td>\n",
              "      <td>0.0</td>\n",
              "      <td>0.0</td>\n",
              "      <td>0.0</td>\n",
              "      <td>1</td>\n",
              "      <td>2</td>\n",
              "      <td>0</td>\n",
              "      <td>2</td>\n",
              "      <td>2</td>\n",
              "      <td>2</td>\n",
              "    </tr>\n",
              "    <tr>\n",
              "      <th>2</th>\n",
              "      <td>3</td>\n",
              "      <td>0.0</td>\n",
              "      <td>0.0</td>\n",
              "      <td>0.0</td>\n",
              "      <td>0.0</td>\n",
              "      <td>1.0</td>\n",
              "      <td>0.0</td>\n",
              "      <td>0.0</td>\n",
              "      <td>0.0</td>\n",
              "      <td>1.0</td>\n",
              "      <td>...</td>\n",
              "      <td>1.0</td>\n",
              "      <td>0.0</td>\n",
              "      <td>0.0</td>\n",
              "      <td>1.0</td>\n",
              "      <td>3</td>\n",
              "      <td>4</td>\n",
              "      <td>0</td>\n",
              "      <td>3</td>\n",
              "      <td>3</td>\n",
              "      <td>1</td>\n",
              "    </tr>\n",
              "    <tr>\n",
              "      <th>3</th>\n",
              "      <td>4</td>\n",
              "      <td>0.0</td>\n",
              "      <td>0.0</td>\n",
              "      <td>1.0</td>\n",
              "      <td>0.0</td>\n",
              "      <td>0.0</td>\n",
              "      <td>0.0</td>\n",
              "      <td>0.0</td>\n",
              "      <td>1.0</td>\n",
              "      <td>0.0</td>\n",
              "      <td>...</td>\n",
              "      <td>0.0</td>\n",
              "      <td>0.0</td>\n",
              "      <td>0.0</td>\n",
              "      <td>1.0</td>\n",
              "      <td>0</td>\n",
              "      <td>2</td>\n",
              "      <td>0</td>\n",
              "      <td>3</td>\n",
              "      <td>4</td>\n",
              "      <td>2</td>\n",
              "    </tr>\n",
              "    <tr>\n",
              "      <th>4</th>\n",
              "      <td>5</td>\n",
              "      <td>1.0</td>\n",
              "      <td>0.0</td>\n",
              "      <td>0.0</td>\n",
              "      <td>0.0</td>\n",
              "      <td>0.0</td>\n",
              "      <td>0.0</td>\n",
              "      <td>0.0</td>\n",
              "      <td>0.0</td>\n",
              "      <td>0.0</td>\n",
              "      <td>...</td>\n",
              "      <td>0.0</td>\n",
              "      <td>0.0</td>\n",
              "      <td>0.0</td>\n",
              "      <td>0.0</td>\n",
              "      <td>0</td>\n",
              "      <td>3</td>\n",
              "      <td>0</td>\n",
              "      <td>2</td>\n",
              "      <td>4</td>\n",
              "      <td>2</td>\n",
              "    </tr>\n",
              "    <tr>\n",
              "      <th>...</th>\n",
              "      <td>...</td>\n",
              "      <td>...</td>\n",
              "      <td>...</td>\n",
              "      <td>...</td>\n",
              "      <td>...</td>\n",
              "      <td>...</td>\n",
              "      <td>...</td>\n",
              "      <td>...</td>\n",
              "      <td>...</td>\n",
              "      <td>...</td>\n",
              "      <td>...</td>\n",
              "      <td>...</td>\n",
              "      <td>...</td>\n",
              "      <td>...</td>\n",
              "      <td>...</td>\n",
              "      <td>...</td>\n",
              "      <td>...</td>\n",
              "      <td>...</td>\n",
              "      <td>...</td>\n",
              "      <td>...</td>\n",
              "      <td>...</td>\n",
              "    </tr>\n",
              "    <tr>\n",
              "      <th>995</th>\n",
              "      <td>996</td>\n",
              "      <td>0.0</td>\n",
              "      <td>0.0</td>\n",
              "      <td>0.0</td>\n",
              "      <td>0.0</td>\n",
              "      <td>0.0</td>\n",
              "      <td>0.0</td>\n",
              "      <td>0.0</td>\n",
              "      <td>0.0</td>\n",
              "      <td>0.0</td>\n",
              "      <td>...</td>\n",
              "      <td>1.0</td>\n",
              "      <td>0.0</td>\n",
              "      <td>0.0</td>\n",
              "      <td>1.0</td>\n",
              "      <td>3</td>\n",
              "      <td>2</td>\n",
              "      <td>0</td>\n",
              "      <td>3</td>\n",
              "      <td>4</td>\n",
              "      <td>1</td>\n",
              "    </tr>\n",
              "    <tr>\n",
              "      <th>996</th>\n",
              "      <td>997</td>\n",
              "      <td>0.0</td>\n",
              "      <td>1.0</td>\n",
              "      <td>0.0</td>\n",
              "      <td>0.0</td>\n",
              "      <td>0.0</td>\n",
              "      <td>0.0</td>\n",
              "      <td>0.0</td>\n",
              "      <td>0.0</td>\n",
              "      <td>0.0</td>\n",
              "      <td>...</td>\n",
              "      <td>1.0</td>\n",
              "      <td>1.0</td>\n",
              "      <td>0.0</td>\n",
              "      <td>1.0</td>\n",
              "      <td>0</td>\n",
              "      <td>2</td>\n",
              "      <td>0</td>\n",
              "      <td>2</td>\n",
              "      <td>4</td>\n",
              "      <td>3</td>\n",
              "    </tr>\n",
              "    <tr>\n",
              "      <th>997</th>\n",
              "      <td>998</td>\n",
              "      <td>0.0</td>\n",
              "      <td>0.0</td>\n",
              "      <td>0.0</td>\n",
              "      <td>1.0</td>\n",
              "      <td>0.0</td>\n",
              "      <td>0.0</td>\n",
              "      <td>0.0</td>\n",
              "      <td>0.0</td>\n",
              "      <td>0.0</td>\n",
              "      <td>...</td>\n",
              "      <td>1.0</td>\n",
              "      <td>0.0</td>\n",
              "      <td>0.0</td>\n",
              "      <td>1.0</td>\n",
              "      <td>3</td>\n",
              "      <td>2</td>\n",
              "      <td>0</td>\n",
              "      <td>4</td>\n",
              "      <td>4</td>\n",
              "      <td>2</td>\n",
              "    </tr>\n",
              "    <tr>\n",
              "      <th>998</th>\n",
              "      <td>999</td>\n",
              "      <td>0.0</td>\n",
              "      <td>0.0</td>\n",
              "      <td>0.0</td>\n",
              "      <td>1.0</td>\n",
              "      <td>0.0</td>\n",
              "      <td>0.0</td>\n",
              "      <td>0.0</td>\n",
              "      <td>0.0</td>\n",
              "      <td>0.0</td>\n",
              "      <td>...</td>\n",
              "      <td>0.0</td>\n",
              "      <td>1.0</td>\n",
              "      <td>0.0</td>\n",
              "      <td>0.0</td>\n",
              "      <td>0</td>\n",
              "      <td>2</td>\n",
              "      <td>0</td>\n",
              "      <td>2</td>\n",
              "      <td>4</td>\n",
              "      <td>2</td>\n",
              "    </tr>\n",
              "    <tr>\n",
              "      <th>999</th>\n",
              "      <td>1000</td>\n",
              "      <td>0.0</td>\n",
              "      <td>1.0</td>\n",
              "      <td>0.0</td>\n",
              "      <td>0.0</td>\n",
              "      <td>0.0</td>\n",
              "      <td>0.0</td>\n",
              "      <td>0.0</td>\n",
              "      <td>0.0</td>\n",
              "      <td>0.0</td>\n",
              "      <td>...</td>\n",
              "      <td>1.0</td>\n",
              "      <td>0.0</td>\n",
              "      <td>0.0</td>\n",
              "      <td>1.0</td>\n",
              "      <td>1</td>\n",
              "      <td>4</td>\n",
              "      <td>1</td>\n",
              "      <td>0</td>\n",
              "      <td>4</td>\n",
              "      <td>2</td>\n",
              "    </tr>\n",
              "  </tbody>\n",
              "</table>\n",
              "<p>1000 rows × 23 columns</p>\n",
              "</div>\n",
              "      <button class=\"colab-df-convert\" onclick=\"convertToInteractive('df-1a362b29-a0a8-44f2-99e4-254a620a2843')\"\n",
              "              title=\"Convert this dataframe to an interactive table.\"\n",
              "              style=\"display:none;\">\n",
              "\n",
              "  <svg xmlns=\"http://www.w3.org/2000/svg\" height=\"24px\"viewBox=\"0 0 24 24\"\n",
              "       width=\"24px\">\n",
              "    <path d=\"M0 0h24v24H0V0z\" fill=\"none\"/>\n",
              "    <path d=\"M18.56 5.44l.94 2.06.94-2.06 2.06-.94-2.06-.94-.94-2.06-.94 2.06-2.06.94zm-11 1L8.5 8.5l.94-2.06 2.06-.94-2.06-.94L8.5 2.5l-.94 2.06-2.06.94zm10 10l.94 2.06.94-2.06 2.06-.94-2.06-.94-.94-2.06-.94 2.06-2.06.94z\"/><path d=\"M17.41 7.96l-1.37-1.37c-.4-.4-.92-.59-1.43-.59-.52 0-1.04.2-1.43.59L10.3 9.45l-7.72 7.72c-.78.78-.78 2.05 0 2.83L4 21.41c.39.39.9.59 1.41.59.51 0 1.02-.2 1.41-.59l7.78-7.78 2.81-2.81c.8-.78.8-2.07 0-2.86zM5.41 20L4 18.59l7.72-7.72 1.47 1.35L5.41 20z\"/>\n",
              "  </svg>\n",
              "      </button>\n",
              "\n",
              "\n",
              "\n",
              "    <div id=\"df-4b05c5be-4814-4ee1-b2d0-509453f9e01c\">\n",
              "      <button class=\"colab-df-quickchart\" onclick=\"quickchart('df-4b05c5be-4814-4ee1-b2d0-509453f9e01c')\"\n",
              "              title=\"Suggest charts.\"\n",
              "              style=\"display:none;\">\n",
              "\n",
              "<svg xmlns=\"http://www.w3.org/2000/svg\" height=\"24px\"viewBox=\"0 0 24 24\"\n",
              "     width=\"24px\">\n",
              "    <g>\n",
              "        <path d=\"M19 3H5c-1.1 0-2 .9-2 2v14c0 1.1.9 2 2 2h14c1.1 0 2-.9 2-2V5c0-1.1-.9-2-2-2zM9 17H7v-7h2v7zm4 0h-2V7h2v10zm4 0h-2v-4h2v4z\"/>\n",
              "    </g>\n",
              "</svg>\n",
              "      </button>\n",
              "    </div>\n",
              "\n",
              "<style>\n",
              "  .colab-df-quickchart {\n",
              "    background-color: #E8F0FE;\n",
              "    border: none;\n",
              "    border-radius: 50%;\n",
              "    cursor: pointer;\n",
              "    display: none;\n",
              "    fill: #1967D2;\n",
              "    height: 32px;\n",
              "    padding: 0 0 0 0;\n",
              "    width: 32px;\n",
              "  }\n",
              "\n",
              "  .colab-df-quickchart:hover {\n",
              "    background-color: #E2EBFA;\n",
              "    box-shadow: 0px 1px 2px rgba(60, 64, 67, 0.3), 0px 1px 3px 1px rgba(60, 64, 67, 0.15);\n",
              "    fill: #174EA6;\n",
              "  }\n",
              "\n",
              "  [theme=dark] .colab-df-quickchart {\n",
              "    background-color: #3B4455;\n",
              "    fill: #D2E3FC;\n",
              "  }\n",
              "\n",
              "  [theme=dark] .colab-df-quickchart:hover {\n",
              "    background-color: #434B5C;\n",
              "    box-shadow: 0px 1px 3px 1px rgba(0, 0, 0, 0.15);\n",
              "    filter: drop-shadow(0px 1px 2px rgba(0, 0, 0, 0.3));\n",
              "    fill: #FFFFFF;\n",
              "  }\n",
              "</style>\n",
              "\n",
              "    <script>\n",
              "      async function quickchart(key) {\n",
              "        const containerElement = document.querySelector('#' + key);\n",
              "        const charts = await google.colab.kernel.invokeFunction(\n",
              "            'suggestCharts', [key], {});\n",
              "      }\n",
              "    </script>\n",
              "\n",
              "      <script>\n",
              "\n",
              "function displayQuickchartButton(domScope) {\n",
              "  let quickchartButtonEl =\n",
              "    domScope.querySelector('#df-4b05c5be-4814-4ee1-b2d0-509453f9e01c button.colab-df-quickchart');\n",
              "  quickchartButtonEl.style.display =\n",
              "    google.colab.kernel.accessAllowed ? 'block' : 'none';\n",
              "}\n",
              "\n",
              "        displayQuickchartButton(document);\n",
              "      </script>\n",
              "      <style>\n",
              "    .colab-df-container {\n",
              "      display:flex;\n",
              "      flex-wrap:wrap;\n",
              "      gap: 12px;\n",
              "    }\n",
              "\n",
              "    .colab-df-convert {\n",
              "      background-color: #E8F0FE;\n",
              "      border: none;\n",
              "      border-radius: 50%;\n",
              "      cursor: pointer;\n",
              "      display: none;\n",
              "      fill: #1967D2;\n",
              "      height: 32px;\n",
              "      padding: 0 0 0 0;\n",
              "      width: 32px;\n",
              "    }\n",
              "\n",
              "    .colab-df-convert:hover {\n",
              "      background-color: #E2EBFA;\n",
              "      box-shadow: 0px 1px 2px rgba(60, 64, 67, 0.3), 0px 1px 3px 1px rgba(60, 64, 67, 0.15);\n",
              "      fill: #174EA6;\n",
              "    }\n",
              "\n",
              "    [theme=dark] .colab-df-convert {\n",
              "      background-color: #3B4455;\n",
              "      fill: #D2E3FC;\n",
              "    }\n",
              "\n",
              "    [theme=dark] .colab-df-convert:hover {\n",
              "      background-color: #434B5C;\n",
              "      box-shadow: 0px 1px 3px 1px rgba(0, 0, 0, 0.15);\n",
              "      filter: drop-shadow(0px 1px 2px rgba(0, 0, 0, 0.3));\n",
              "      fill: #FFFFFF;\n",
              "    }\n",
              "  </style>\n",
              "\n",
              "      <script>\n",
              "        const buttonEl =\n",
              "          document.querySelector('#df-1a362b29-a0a8-44f2-99e4-254a620a2843 button.colab-df-convert');\n",
              "        buttonEl.style.display =\n",
              "          google.colab.kernel.accessAllowed ? 'block' : 'none';\n",
              "\n",
              "        async function convertToInteractive(key) {\n",
              "          const element = document.querySelector('#df-1a362b29-a0a8-44f2-99e4-254a620a2843');\n",
              "          const dataTable =\n",
              "            await google.colab.kernel.invokeFunction('convertToInteractive',\n",
              "                                                     [key], {});\n",
              "          if (!dataTable) return;\n",
              "\n",
              "          const docLinkHtml = 'Like what you see? Visit the ' +\n",
              "            '<a target=\"_blank\" href=https://colab.research.google.com/notebooks/data_table.ipynb>data table notebook</a>'\n",
              "            + ' to learn more about interactive tables.';\n",
              "          element.innerHTML = '';\n",
              "          dataTable['output_type'] = 'display_data';\n",
              "          await google.colab.output.renderOutput(dataTable, element);\n",
              "          const docLink = document.createElement('div');\n",
              "          docLink.innerHTML = docLinkHtml;\n",
              "          element.appendChild(docLink);\n",
              "        }\n",
              "      </script>\n",
              "    </div>\n",
              "  </div>\n"
            ]
          },
          "metadata": {},
          "execution_count": 43
        }
      ],
      "source": [
        "df_cat_nans_imputed"
      ]
    },
    {
      "cell_type": "code",
      "execution_count": 44,
      "metadata": {
        "id": "tOP_hwn1NN0n"
      },
      "outputs": [],
      "source": [
        "df_imputed = pd.concat([df_num_nans_imputed,df_cat_nans_imputed],axis=1)"
      ]
    },
    {
      "cell_type": "code",
      "execution_count": 45,
      "metadata": {
        "colab": {
          "base_uri": "https://localhost:8080/"
        },
        "id": "Hm5FNKskNN0o",
        "outputId": "025ff09d-5deb-412e-9db2-ad1ed542813a"
      },
      "outputs": [
        {
          "output_type": "execute_result",
          "data": {
            "text/plain": [
              "Index(['DURATION', 'AMOUNT', 'INSTALL_RATE', 'AGE', 'NUM_CREDITS',\n",
              "       'NUM_DEPENDENTS', 'OBS', 'NEW_CAR', 'USED_CAR', 'FURNITURE', 'RADIO_TV',\n",
              "       'EDUCATION', 'RETRAINING', 'CO_APPLICANT', 'GUARANTOR', 'REAL_ESTATE',\n",
              "       'PROP_UNKN_NONE', 'OTHER_INSTALL', 'RENT', 'OWN_RES', 'TELEPHONE',\n",
              "       'FOREIGN', 'RESPONSE', 'CHK_ACCT', 'HISTORY', 'SAV_ACCT', 'EMPLOYMENT',\n",
              "       'PRESENT_RESIDENT', 'JOB'],\n",
              "      dtype='object')"
            ]
          },
          "metadata": {},
          "execution_count": 45
        }
      ],
      "source": [
        "df_imputed.columns"
      ]
    },
    {
      "cell_type": "code",
      "execution_count": 46,
      "metadata": {
        "colab": {
          "base_uri": "https://localhost:8080/"
        },
        "id": "Hzf2nSOWNN0o",
        "outputId": "391b654a-524c-48b8-deab-03372b4eaa1a"
      },
      "outputs": [
        {
          "output_type": "execute_result",
          "data": {
            "text/plain": [
              "(1000, 29)"
            ]
          },
          "metadata": {},
          "execution_count": 46
        }
      ],
      "source": [
        "df_imputed.shape"
      ]
    },
    {
      "cell_type": "code",
      "execution_count": 47,
      "metadata": {
        "colab": {
          "base_uri": "https://localhost:8080/"
        },
        "id": "htmrLThINN0p",
        "outputId": "c44a9b09-df3e-410d-f853-1dd382cb0bc1"
      },
      "outputs": [
        {
          "output_type": "execute_result",
          "data": {
            "text/plain": [
              "(1000, 29)"
            ]
          },
          "metadata": {},
          "execution_count": 47
        }
      ],
      "source": [
        "df3.shape"
      ]
    },
    {
      "cell_type": "markdown",
      "metadata": {
        "id": "6vPqvEMGNN0p"
      },
      "source": [
        "### 3. kNN Imputation"
      ]
    },
    {
      "cell_type": "code",
      "execution_count": 48,
      "metadata": {
        "id": "oq3uvA9aNN0p"
      },
      "outputs": [],
      "source": [
        "from sklearn.impute import KNNImputer"
      ]
    },
    {
      "cell_type": "code",
      "execution_count": 49,
      "metadata": {
        "id": "1O2rNQlqNN0p"
      },
      "outputs": [],
      "source": [
        "df3_knn_impute = df3.copy()"
      ]
    },
    {
      "cell_type": "code",
      "execution_count": 50,
      "metadata": {
        "id": "pPu9pEsiNN0p"
      },
      "outputs": [],
      "source": [
        "knnImputer = KNNImputer(n_neighbors=5)"
      ]
    },
    {
      "cell_type": "code",
      "execution_count": 51,
      "metadata": {
        "colab": {
          "base_uri": "https://localhost:8080/"
        },
        "id": "7Dn64KqdNN0p",
        "outputId": "4d40835e-c2fa-4d08-a339-c36bb91cd62f"
      },
      "outputs": [
        {
          "output_type": "execute_result",
          "data": {
            "text/plain": [
              "array([[6.0000e+00, 1.1690e+03, 4.0000e+00, 6.7000e+01, 2.0000e+00,\n",
              "        1.0000e+00],\n",
              "       [4.8000e+01, 5.9510e+03, 2.0000e+00, 2.2000e+01, 1.0000e+00,\n",
              "        1.0000e+00],\n",
              "       [1.2000e+01, 2.0960e+03, 2.0000e+00, 4.9000e+01, 1.0000e+00,\n",
              "        2.0000e+00],\n",
              "       ...,\n",
              "       [1.2000e+01, 8.0400e+02, 4.0000e+00, 3.8000e+01, 1.0000e+00,\n",
              "        1.0000e+00],\n",
              "       [4.5000e+01, 1.8450e+03, 4.0000e+00, 2.3000e+01, 1.0000e+00,\n",
              "        1.0000e+00],\n",
              "       [4.5000e+01, 4.4654e+03, 3.0000e+00, 2.7600e+01, 1.0000e+00,\n",
              "        1.0000e+00]])"
            ]
          },
          "metadata": {},
          "execution_count": 51
        }
      ],
      "source": [
        "knnImputer.fit_transform(df3_knn_impute[num_attr])"
      ]
    },
    {
      "cell_type": "code",
      "execution_count": null,
      "metadata": {
        "id": "2HKvtsy8NN0q"
      },
      "outputs": [],
      "source": []
    },
    {
      "cell_type": "markdown",
      "metadata": {
        "id": "5gQMLuoqNN0q"
      },
      "source": [
        "## Handling Categorical Variables"
      ]
    },
    {
      "cell_type": "code",
      "execution_count": 52,
      "metadata": {
        "id": "z2mmUnDPNN0q"
      },
      "outputs": [],
      "source": [
        "from sklearn.preprocessing import LabelEncoder"
      ]
    },
    {
      "cell_type": "code",
      "execution_count": 53,
      "metadata": {
        "id": "eLjdKXVcNN0r"
      },
      "outputs": [],
      "source": [
        "#### Convert to number"
      ]
    },
    {
      "cell_type": "markdown",
      "metadata": {
        "id": "oJGwab-KNN0r"
      },
      "source": [
        "**1. Label Encoder:**\n",
        "    \n",
        "It is used to transform non-numerical labels to numerical labels (or nominal categorical variables). Numerical labels are always between 0 and n_classes-1."
      ]
    },
    {
      "cell_type": "code",
      "execution_count": 54,
      "metadata": {
        "colab": {
          "base_uri": "https://localhost:8080/"
        },
        "id": "rh7QvWsyNN0r",
        "outputId": "aa69ec97-a708-4aa6-8be4-f41d50d745b5"
      },
      "outputs": [
        {
          "output_type": "stream",
          "name": "stdout",
          "text": [
            "['amsterdam', 'paris', 'tokyo']\n",
            "['tokyo', 'tokyo', 'paris', 'amsterdam']\n"
          ]
        }
      ],
      "source": [
        "le = LabelEncoder()\n",
        "le.fit([\"paris\", \"paris\", \"tokyo\", \"amsterdam\"])\n",
        "LabelEncoder()\n",
        "print(list(le.classes_))\n",
        "#['amsterdam', 'paris', 'tokyo']\n",
        "le.transform([\"tokyo\", \"tokyo\", \"paris\"])\n",
        "#array([2, 2, 1]...)\n",
        "print(list(le.inverse_transform([2, 2, 1,0])))\n",
        "#['tokyo', 'tokyo', 'paris']"
      ]
    },
    {
      "cell_type": "code",
      "execution_count": 55,
      "metadata": {
        "colab": {
          "base_uri": "https://localhost:8080/",
          "height": 333
        },
        "id": "pGyiyIW-NN0s",
        "outputId": "3189f36e-f053-4681-b729-4fa0be5f1444"
      },
      "outputs": [
        {
          "output_type": "error",
          "ename": "FileNotFoundError",
          "evalue": "ignored",
          "traceback": [
            "\u001b[0;31m---------------------------------------------------------------------------\u001b[0m",
            "\u001b[0;31mFileNotFoundError\u001b[0m                         Traceback (most recent call last)",
            "\u001b[0;32m<ipython-input-55-012730c95f45>\u001b[0m in \u001b[0;36m<cell line: 1>\u001b[0;34m()\u001b[0m\n\u001b[0;32m----> 1\u001b[0;31m \u001b[0mpatient_adherence\u001b[0m \u001b[0;34m=\u001b[0m \u001b[0mpd\u001b[0m\u001b[0;34m.\u001b[0m\u001b[0mread_csv\u001b[0m\u001b[0;34m(\u001b[0m\u001b[0;34m'./Patient Adherence.csv'\u001b[0m\u001b[0;34m)\u001b[0m\u001b[0;34m\u001b[0m\u001b[0;34m\u001b[0m\u001b[0m\n\u001b[0m",
            "\u001b[0;32m/usr/local/lib/python3.10/dist-packages/pandas/util/_decorators.py\u001b[0m in \u001b[0;36mwrapper\u001b[0;34m(*args, **kwargs)\u001b[0m\n\u001b[1;32m    209\u001b[0m                 \u001b[0;32melse\u001b[0m\u001b[0;34m:\u001b[0m\u001b[0;34m\u001b[0m\u001b[0;34m\u001b[0m\u001b[0m\n\u001b[1;32m    210\u001b[0m                     \u001b[0mkwargs\u001b[0m\u001b[0;34m[\u001b[0m\u001b[0mnew_arg_name\u001b[0m\u001b[0;34m]\u001b[0m \u001b[0;34m=\u001b[0m \u001b[0mnew_arg_value\u001b[0m\u001b[0;34m\u001b[0m\u001b[0;34m\u001b[0m\u001b[0m\n\u001b[0;32m--> 211\u001b[0;31m             \u001b[0;32mreturn\u001b[0m \u001b[0mfunc\u001b[0m\u001b[0;34m(\u001b[0m\u001b[0;34m*\u001b[0m\u001b[0margs\u001b[0m\u001b[0;34m,\u001b[0m \u001b[0;34m**\u001b[0m\u001b[0mkwargs\u001b[0m\u001b[0;34m)\u001b[0m\u001b[0;34m\u001b[0m\u001b[0;34m\u001b[0m\u001b[0m\n\u001b[0m\u001b[1;32m    212\u001b[0m \u001b[0;34m\u001b[0m\u001b[0m\n\u001b[1;32m    213\u001b[0m         \u001b[0;32mreturn\u001b[0m \u001b[0mcast\u001b[0m\u001b[0;34m(\u001b[0m\u001b[0mF\u001b[0m\u001b[0;34m,\u001b[0m \u001b[0mwrapper\u001b[0m\u001b[0;34m)\u001b[0m\u001b[0;34m\u001b[0m\u001b[0;34m\u001b[0m\u001b[0m\n",
            "\u001b[0;32m/usr/local/lib/python3.10/dist-packages/pandas/util/_decorators.py\u001b[0m in \u001b[0;36mwrapper\u001b[0;34m(*args, **kwargs)\u001b[0m\n\u001b[1;32m    329\u001b[0m                     \u001b[0mstacklevel\u001b[0m\u001b[0;34m=\u001b[0m\u001b[0mfind_stack_level\u001b[0m\u001b[0;34m(\u001b[0m\u001b[0;34m)\u001b[0m\u001b[0;34m,\u001b[0m\u001b[0;34m\u001b[0m\u001b[0;34m\u001b[0m\u001b[0m\n\u001b[1;32m    330\u001b[0m                 )\n\u001b[0;32m--> 331\u001b[0;31m             \u001b[0;32mreturn\u001b[0m \u001b[0mfunc\u001b[0m\u001b[0;34m(\u001b[0m\u001b[0;34m*\u001b[0m\u001b[0margs\u001b[0m\u001b[0;34m,\u001b[0m \u001b[0;34m**\u001b[0m\u001b[0mkwargs\u001b[0m\u001b[0;34m)\u001b[0m\u001b[0;34m\u001b[0m\u001b[0;34m\u001b[0m\u001b[0m\n\u001b[0m\u001b[1;32m    332\u001b[0m \u001b[0;34m\u001b[0m\u001b[0m\n\u001b[1;32m    333\u001b[0m         \u001b[0;31m# error: \"Callable[[VarArg(Any), KwArg(Any)], Any]\" has no\u001b[0m\u001b[0;34m\u001b[0m\u001b[0;34m\u001b[0m\u001b[0m\n",
            "\u001b[0;32m/usr/local/lib/python3.10/dist-packages/pandas/io/parsers/readers.py\u001b[0m in \u001b[0;36mread_csv\u001b[0;34m(filepath_or_buffer, sep, delimiter, header, names, index_col, usecols, squeeze, prefix, mangle_dupe_cols, dtype, engine, converters, true_values, false_values, skipinitialspace, skiprows, skipfooter, nrows, na_values, keep_default_na, na_filter, verbose, skip_blank_lines, parse_dates, infer_datetime_format, keep_date_col, date_parser, dayfirst, cache_dates, iterator, chunksize, compression, thousands, decimal, lineterminator, quotechar, quoting, doublequote, escapechar, comment, encoding, encoding_errors, dialect, error_bad_lines, warn_bad_lines, on_bad_lines, delim_whitespace, low_memory, memory_map, float_precision, storage_options)\u001b[0m\n\u001b[1;32m    948\u001b[0m     \u001b[0mkwds\u001b[0m\u001b[0;34m.\u001b[0m\u001b[0mupdate\u001b[0m\u001b[0;34m(\u001b[0m\u001b[0mkwds_defaults\u001b[0m\u001b[0;34m)\u001b[0m\u001b[0;34m\u001b[0m\u001b[0;34m\u001b[0m\u001b[0m\n\u001b[1;32m    949\u001b[0m \u001b[0;34m\u001b[0m\u001b[0m\n\u001b[0;32m--> 950\u001b[0;31m     \u001b[0;32mreturn\u001b[0m \u001b[0m_read\u001b[0m\u001b[0;34m(\u001b[0m\u001b[0mfilepath_or_buffer\u001b[0m\u001b[0;34m,\u001b[0m \u001b[0mkwds\u001b[0m\u001b[0;34m)\u001b[0m\u001b[0;34m\u001b[0m\u001b[0;34m\u001b[0m\u001b[0m\n\u001b[0m\u001b[1;32m    951\u001b[0m \u001b[0;34m\u001b[0m\u001b[0m\n\u001b[1;32m    952\u001b[0m \u001b[0;34m\u001b[0m\u001b[0m\n",
            "\u001b[0;32m/usr/local/lib/python3.10/dist-packages/pandas/io/parsers/readers.py\u001b[0m in \u001b[0;36m_read\u001b[0;34m(filepath_or_buffer, kwds)\u001b[0m\n\u001b[1;32m    603\u001b[0m \u001b[0;34m\u001b[0m\u001b[0m\n\u001b[1;32m    604\u001b[0m     \u001b[0;31m# Create the parser.\u001b[0m\u001b[0;34m\u001b[0m\u001b[0;34m\u001b[0m\u001b[0m\n\u001b[0;32m--> 605\u001b[0;31m     \u001b[0mparser\u001b[0m \u001b[0;34m=\u001b[0m \u001b[0mTextFileReader\u001b[0m\u001b[0;34m(\u001b[0m\u001b[0mfilepath_or_buffer\u001b[0m\u001b[0;34m,\u001b[0m \u001b[0;34m**\u001b[0m\u001b[0mkwds\u001b[0m\u001b[0;34m)\u001b[0m\u001b[0;34m\u001b[0m\u001b[0;34m\u001b[0m\u001b[0m\n\u001b[0m\u001b[1;32m    606\u001b[0m \u001b[0;34m\u001b[0m\u001b[0m\n\u001b[1;32m    607\u001b[0m     \u001b[0;32mif\u001b[0m \u001b[0mchunksize\u001b[0m \u001b[0;32mor\u001b[0m \u001b[0miterator\u001b[0m\u001b[0;34m:\u001b[0m\u001b[0;34m\u001b[0m\u001b[0;34m\u001b[0m\u001b[0m\n",
            "\u001b[0;32m/usr/local/lib/python3.10/dist-packages/pandas/io/parsers/readers.py\u001b[0m in \u001b[0;36m__init__\u001b[0;34m(self, f, engine, **kwds)\u001b[0m\n\u001b[1;32m   1440\u001b[0m \u001b[0;34m\u001b[0m\u001b[0m\n\u001b[1;32m   1441\u001b[0m         \u001b[0mself\u001b[0m\u001b[0;34m.\u001b[0m\u001b[0mhandles\u001b[0m\u001b[0;34m:\u001b[0m \u001b[0mIOHandles\u001b[0m \u001b[0;34m|\u001b[0m \u001b[0;32mNone\u001b[0m \u001b[0;34m=\u001b[0m \u001b[0;32mNone\u001b[0m\u001b[0;34m\u001b[0m\u001b[0;34m\u001b[0m\u001b[0m\n\u001b[0;32m-> 1442\u001b[0;31m         \u001b[0mself\u001b[0m\u001b[0;34m.\u001b[0m\u001b[0m_engine\u001b[0m \u001b[0;34m=\u001b[0m \u001b[0mself\u001b[0m\u001b[0;34m.\u001b[0m\u001b[0m_make_engine\u001b[0m\u001b[0;34m(\u001b[0m\u001b[0mf\u001b[0m\u001b[0;34m,\u001b[0m \u001b[0mself\u001b[0m\u001b[0;34m.\u001b[0m\u001b[0mengine\u001b[0m\u001b[0;34m)\u001b[0m\u001b[0;34m\u001b[0m\u001b[0;34m\u001b[0m\u001b[0m\n\u001b[0m\u001b[1;32m   1443\u001b[0m \u001b[0;34m\u001b[0m\u001b[0m\n\u001b[1;32m   1444\u001b[0m     \u001b[0;32mdef\u001b[0m \u001b[0mclose\u001b[0m\u001b[0;34m(\u001b[0m\u001b[0mself\u001b[0m\u001b[0;34m)\u001b[0m \u001b[0;34m->\u001b[0m \u001b[0;32mNone\u001b[0m\u001b[0;34m:\u001b[0m\u001b[0;34m\u001b[0m\u001b[0;34m\u001b[0m\u001b[0m\n",
            "\u001b[0;32m/usr/local/lib/python3.10/dist-packages/pandas/io/parsers/readers.py\u001b[0m in \u001b[0;36m_make_engine\u001b[0;34m(self, f, engine)\u001b[0m\n\u001b[1;32m   1733\u001b[0m                 \u001b[0;32mif\u001b[0m \u001b[0;34m\"b\"\u001b[0m \u001b[0;32mnot\u001b[0m \u001b[0;32min\u001b[0m \u001b[0mmode\u001b[0m\u001b[0;34m:\u001b[0m\u001b[0;34m\u001b[0m\u001b[0;34m\u001b[0m\u001b[0m\n\u001b[1;32m   1734\u001b[0m                     \u001b[0mmode\u001b[0m \u001b[0;34m+=\u001b[0m \u001b[0;34m\"b\"\u001b[0m\u001b[0;34m\u001b[0m\u001b[0;34m\u001b[0m\u001b[0m\n\u001b[0;32m-> 1735\u001b[0;31m             self.handles = get_handle(\n\u001b[0m\u001b[1;32m   1736\u001b[0m                 \u001b[0mf\u001b[0m\u001b[0;34m,\u001b[0m\u001b[0;34m\u001b[0m\u001b[0;34m\u001b[0m\u001b[0m\n\u001b[1;32m   1737\u001b[0m                 \u001b[0mmode\u001b[0m\u001b[0;34m,\u001b[0m\u001b[0;34m\u001b[0m\u001b[0;34m\u001b[0m\u001b[0m\n",
            "\u001b[0;32m/usr/local/lib/python3.10/dist-packages/pandas/io/common.py\u001b[0m in \u001b[0;36mget_handle\u001b[0;34m(path_or_buf, mode, encoding, compression, memory_map, is_text, errors, storage_options)\u001b[0m\n\u001b[1;32m    854\u001b[0m         \u001b[0;32mif\u001b[0m \u001b[0mioargs\u001b[0m\u001b[0;34m.\u001b[0m\u001b[0mencoding\u001b[0m \u001b[0;32mand\u001b[0m \u001b[0;34m\"b\"\u001b[0m \u001b[0;32mnot\u001b[0m \u001b[0;32min\u001b[0m \u001b[0mioargs\u001b[0m\u001b[0;34m.\u001b[0m\u001b[0mmode\u001b[0m\u001b[0;34m:\u001b[0m\u001b[0;34m\u001b[0m\u001b[0;34m\u001b[0m\u001b[0m\n\u001b[1;32m    855\u001b[0m             \u001b[0;31m# Encoding\u001b[0m\u001b[0;34m\u001b[0m\u001b[0;34m\u001b[0m\u001b[0m\n\u001b[0;32m--> 856\u001b[0;31m             handle = open(\n\u001b[0m\u001b[1;32m    857\u001b[0m                 \u001b[0mhandle\u001b[0m\u001b[0;34m,\u001b[0m\u001b[0;34m\u001b[0m\u001b[0;34m\u001b[0m\u001b[0m\n\u001b[1;32m    858\u001b[0m                 \u001b[0mioargs\u001b[0m\u001b[0;34m.\u001b[0m\u001b[0mmode\u001b[0m\u001b[0;34m,\u001b[0m\u001b[0;34m\u001b[0m\u001b[0;34m\u001b[0m\u001b[0m\n",
            "\u001b[0;31mFileNotFoundError\u001b[0m: [Errno 2] No such file or directory: './Patient Adherence.csv'"
          ]
        }
      ],
      "source": [
        "patient_adherence = pd.read_csv('./Patient Adherence.csv')"
      ]
    },
    {
      "cell_type": "code",
      "execution_count": null,
      "metadata": {
        "id": "lsKMIDfNNN0s",
        "outputId": "6a626f41-58ae-4fe2-af9c-8aae451becfe"
      },
      "outputs": [
        {
          "data": {
            "text/html": [
              "<div>\n",
              "<style scoped>\n",
              "    .dataframe tbody tr th:only-of-type {\n",
              "        vertical-align: middle;\n",
              "    }\n",
              "\n",
              "    .dataframe tbody tr th {\n",
              "        vertical-align: top;\n",
              "    }\n",
              "\n",
              "    .dataframe thead th {\n",
              "        text-align: right;\n",
              "    }\n",
              "</style>\n",
              "<table border=\"1\" class=\"dataframe\">\n",
              "  <thead>\n",
              "    <tr style=\"text-align: right;\">\n",
              "      <th></th>\n",
              "      <th>patient_id</th>\n",
              "      <th>Age</th>\n",
              "      <th>Gender</th>\n",
              "      <th>Prescription_period</th>\n",
              "      <th>Diabetes</th>\n",
              "      <th>Alcoholism</th>\n",
              "      <th>HyperTension</th>\n",
              "      <th>Smokes</th>\n",
              "      <th>Tuberculosis</th>\n",
              "      <th>Sms_Reminder</th>\n",
              "      <th>Adherence</th>\n",
              "    </tr>\n",
              "  </thead>\n",
              "  <tbody>\n",
              "    <tr>\n",
              "      <th>0</th>\n",
              "      <td>1</td>\n",
              "      <td>19</td>\n",
              "      <td>M</td>\n",
              "      <td>7</td>\n",
              "      <td>0</td>\n",
              "      <td>0</td>\n",
              "      <td>0</td>\n",
              "      <td>0</td>\n",
              "      <td>0</td>\n",
              "      <td>0</td>\n",
              "      <td>No</td>\n",
              "    </tr>\n",
              "    <tr>\n",
              "      <th>1</th>\n",
              "      <td>2</td>\n",
              "      <td>24</td>\n",
              "      <td>F</td>\n",
              "      <td>59</td>\n",
              "      <td>0</td>\n",
              "      <td>0</td>\n",
              "      <td>0</td>\n",
              "      <td>0</td>\n",
              "      <td>0</td>\n",
              "      <td>0</td>\n",
              "      <td>No</td>\n",
              "    </tr>\n",
              "    <tr>\n",
              "      <th>2</th>\n",
              "      <td>3</td>\n",
              "      <td>4</td>\n",
              "      <td>F</td>\n",
              "      <td>43</td>\n",
              "      <td>0</td>\n",
              "      <td>0</td>\n",
              "      <td>0</td>\n",
              "      <td>0</td>\n",
              "      <td>0</td>\n",
              "      <td>0</td>\n",
              "      <td>No</td>\n",
              "    </tr>\n",
              "    <tr>\n",
              "      <th>3</th>\n",
              "      <td>4</td>\n",
              "      <td>38</td>\n",
              "      <td>M</td>\n",
              "      <td>66</td>\n",
              "      <td>0</td>\n",
              "      <td>0</td>\n",
              "      <td>0</td>\n",
              "      <td>0</td>\n",
              "      <td>0</td>\n",
              "      <td>1</td>\n",
              "      <td>No</td>\n",
              "    </tr>\n",
              "    <tr>\n",
              "      <th>4</th>\n",
              "      <td>5</td>\n",
              "      <td>46</td>\n",
              "      <td>F</td>\n",
              "      <td>98</td>\n",
              "      <td>0</td>\n",
              "      <td>0</td>\n",
              "      <td>0</td>\n",
              "      <td>0</td>\n",
              "      <td>0</td>\n",
              "      <td>1</td>\n",
              "      <td>No</td>\n",
              "    </tr>\n",
              "  </tbody>\n",
              "</table>\n",
              "</div>"
            ],
            "text/plain": [
              "   patient_id  Age Gender  Prescription_period  Diabetes  Alcoholism  \\\n",
              "0           1   19      M                    7         0           0   \n",
              "1           2   24      F                   59         0           0   \n",
              "2           3    4      F                   43         0           0   \n",
              "3           4   38      M                   66         0           0   \n",
              "4           5   46      F                   98         0           0   \n",
              "\n",
              "   HyperTension  Smokes  Tuberculosis  Sms_Reminder Adherence  \n",
              "0             0       0             0             0        No  \n",
              "1             0       0             0             0        No  \n",
              "2             0       0             0             0        No  \n",
              "3             0       0             0             1        No  \n",
              "4             0       0             0             1        No  "
            ]
          },
          "execution_count": 55,
          "metadata": {},
          "output_type": "execute_result"
        }
      ],
      "source": [
        "patient_adherence.head()"
      ]
    },
    {
      "cell_type": "code",
      "execution_count": null,
      "metadata": {
        "id": "o4Y8ugq7NN0s",
        "outputId": "30a934ba-ec98-40e4-e8ac-42cba88abd58"
      },
      "outputs": [
        {
          "name": "stdout",
          "output_type": "stream",
          "text": [
            "<class 'pandas.core.frame.DataFrame'>\n",
            "RangeIndex: 180212 entries, 0 to 180211\n",
            "Data columns (total 11 columns):\n",
            " #   Column               Non-Null Count   Dtype \n",
            "---  ------               --------------   ----- \n",
            " 0   patient_id           180212 non-null  int64 \n",
            " 1   Age                  180212 non-null  int64 \n",
            " 2   Gender               180212 non-null  object\n",
            " 3   Prescription_period  180212 non-null  int64 \n",
            " 4   Diabetes             180212 non-null  int64 \n",
            " 5   Alcoholism           180212 non-null  int64 \n",
            " 6   HyperTension         180212 non-null  int64 \n",
            " 7   Smokes               180212 non-null  int64 \n",
            " 8   Tuberculosis         180212 non-null  int64 \n",
            " 9   Sms_Reminder         180212 non-null  int64 \n",
            " 10  Adherence            180212 non-null  object\n",
            "dtypes: int64(9), object(2)\n",
            "memory usage: 15.1+ MB\n"
          ]
        }
      ],
      "source": [
        "patient_adherence.info()"
      ]
    },
    {
      "cell_type": "code",
      "execution_count": null,
      "metadata": {
        "id": "FUYFKEAsNN0s"
      },
      "outputs": [],
      "source": [
        "le = LabelEncoder()\n",
        "patient_adherence['Gender_label_enc'] = le.fit_transform(patient_adherence['Gender'])"
      ]
    },
    {
      "cell_type": "code",
      "execution_count": null,
      "metadata": {
        "id": "vNG1iAzmNN0t",
        "outputId": "0d1ccca5-c969-4422-b83d-9db1b5e19416"
      },
      "outputs": [
        {
          "data": {
            "text/plain": [
              "Index(['patient_id', 'Age', 'Gender', 'Prescription_period', 'Diabetes',\n",
              "       'Alcoholism', 'HyperTension', 'Smokes', 'Tuberculosis', 'Sms_Reminder',\n",
              "       'Adherence', 'Gender_label_enc'],\n",
              "      dtype='object')"
            ]
          },
          "execution_count": 58,
          "metadata": {},
          "output_type": "execute_result"
        }
      ],
      "source": [
        "patient_adherence.columns"
      ]
    },
    {
      "cell_type": "code",
      "execution_count": null,
      "metadata": {
        "id": "dbB1SQhaNN0t",
        "outputId": "1341d8b9-d139-4033-e8e8-ad990b9dcc68"
      },
      "outputs": [
        {
          "data": {
            "text/html": [
              "<div>\n",
              "<style scoped>\n",
              "    .dataframe tbody tr th:only-of-type {\n",
              "        vertical-align: middle;\n",
              "    }\n",
              "\n",
              "    .dataframe tbody tr th {\n",
              "        vertical-align: top;\n",
              "    }\n",
              "\n",
              "    .dataframe thead th {\n",
              "        text-align: right;\n",
              "    }\n",
              "</style>\n",
              "<table border=\"1\" class=\"dataframe\">\n",
              "  <thead>\n",
              "    <tr style=\"text-align: right;\">\n",
              "      <th></th>\n",
              "      <th>Gender</th>\n",
              "      <th>Gender_label_enc</th>\n",
              "    </tr>\n",
              "  </thead>\n",
              "  <tbody>\n",
              "    <tr>\n",
              "      <th>0</th>\n",
              "      <td>M</td>\n",
              "      <td>1</td>\n",
              "    </tr>\n",
              "    <tr>\n",
              "      <th>1</th>\n",
              "      <td>F</td>\n",
              "      <td>0</td>\n",
              "    </tr>\n",
              "    <tr>\n",
              "      <th>2</th>\n",
              "      <td>F</td>\n",
              "      <td>0</td>\n",
              "    </tr>\n",
              "    <tr>\n",
              "      <th>3</th>\n",
              "      <td>M</td>\n",
              "      <td>1</td>\n",
              "    </tr>\n",
              "    <tr>\n",
              "      <th>4</th>\n",
              "      <td>F</td>\n",
              "      <td>0</td>\n",
              "    </tr>\n",
              "    <tr>\n",
              "      <th>...</th>\n",
              "      <td>...</td>\n",
              "      <td>...</td>\n",
              "    </tr>\n",
              "    <tr>\n",
              "      <th>180207</th>\n",
              "      <td>M</td>\n",
              "      <td>1</td>\n",
              "    </tr>\n",
              "    <tr>\n",
              "      <th>180208</th>\n",
              "      <td>M</td>\n",
              "      <td>1</td>\n",
              "    </tr>\n",
              "    <tr>\n",
              "      <th>180209</th>\n",
              "      <td>F</td>\n",
              "      <td>0</td>\n",
              "    </tr>\n",
              "    <tr>\n",
              "      <th>180210</th>\n",
              "      <td>M</td>\n",
              "      <td>1</td>\n",
              "    </tr>\n",
              "    <tr>\n",
              "      <th>180211</th>\n",
              "      <td>M</td>\n",
              "      <td>1</td>\n",
              "    </tr>\n",
              "  </tbody>\n",
              "</table>\n",
              "<p>180212 rows × 2 columns</p>\n",
              "</div>"
            ],
            "text/plain": [
              "       Gender  Gender_label_enc\n",
              "0           M                 1\n",
              "1           F                 0\n",
              "2           F                 0\n",
              "3           M                 1\n",
              "4           F                 0\n",
              "...       ...               ...\n",
              "180207      M                 1\n",
              "180208      M                 1\n",
              "180209      F                 0\n",
              "180210      M                 1\n",
              "180211      M                 1\n",
              "\n",
              "[180212 rows x 2 columns]"
            ]
          },
          "execution_count": 59,
          "metadata": {},
          "output_type": "execute_result"
        }
      ],
      "source": [
        "patient_adherence[['Gender','Gender_label_enc']]"
      ]
    },
    {
      "cell_type": "markdown",
      "metadata": {
        "id": "EaDVOcNINN0t"
      },
      "source": [
        "A common challenge with nominal categorical variable is that, it may decrease performance of a model. Now suppose, We have two features “age” (range: 0-80) and “city” (81 different levels). Now, when we’ll apply label encoder to ‘city’ variable, it will represent ‘city’ with numeric values range from 0 to 80. The ‘city’ variable is now similar to ‘age’ variable since both will have similar data points, which is certainly not a right approach.\n",
        "\n",
        "Another challenge with label encoder is that model some time get biased to greater values. For example it gives more weightage to 5 compare to 0 in label encoded values."
      ]
    },
    {
      "cell_type": "code",
      "execution_count": null,
      "metadata": {
        "id": "HBEF5VZKNN0u",
        "outputId": "d4862fa0-ee94-473e-ecce-e88c62e4f649"
      },
      "outputs": [
        {
          "data": {
            "text/plain": [
              "107"
            ]
          },
          "execution_count": 60,
          "metadata": {},
          "output_type": "execute_result"
        }
      ],
      "source": [
        "len(np.unique(patient_adherence.Age))"
      ]
    },
    {
      "cell_type": "markdown",
      "metadata": {
        "id": "bgcDO9MxNN0u"
      },
      "source": [
        "**2. Convert numeric bins to number**"
      ]
    },
    {
      "cell_type": "code",
      "execution_count": null,
      "metadata": {
        "id": "dAAXeI1kNN0v"
      },
      "outputs": [],
      "source": [
        "patient_adherence = pd.read_csv('./Patient Adherence.csv')"
      ]
    },
    {
      "cell_type": "code",
      "execution_count": null,
      "metadata": {
        "id": "1376xvSqNN0v"
      },
      "outputs": [],
      "source": []
    },
    {
      "cell_type": "code",
      "execution_count": null,
      "metadata": {
        "id": "d6MKSvt6NN0v"
      },
      "outputs": [],
      "source": [
        "bins = [0, 20, 30, 40, 50, 70, 100]\n",
        "patient_adherence['Age_binned'] = pd.cut(patient_adherence['Age'], bins)\n"
      ]
    },
    {
      "cell_type": "code",
      "execution_count": null,
      "metadata": {
        "id": "SbeLxkbQNN0w",
        "outputId": "31f05873-7d26-4d17-e244-e95c68967ddf"
      },
      "outputs": [
        {
          "name": "stdout",
          "output_type": "stream",
          "text": [
            "   Age Age_binned\n",
            "0   19    (0, 20]\n",
            "1   24   (20, 30]\n",
            "2    4    (0, 20]\n",
            "3   38   (30, 40]\n",
            "4   46   (40, 50]\n"
          ]
        }
      ],
      "source": [
        "print (patient_adherence[['Age','Age_binned']].head())"
      ]
    },
    {
      "cell_type": "code",
      "execution_count": null,
      "metadata": {
        "id": "NLPxYvpINN0w"
      },
      "outputs": [],
      "source": [
        "bins = [0, 20, 30, 40, 50, 70, 100]\n",
        "labels = [1,2,3,4,5,6]\n",
        "patient_adherence['Age_binned_labels'] = pd.cut(patient_adherence['Age'], bins=bins, labels=labels)\n"
      ]
    },
    {
      "cell_type": "code",
      "execution_count": null,
      "metadata": {
        "id": "QiKlO1VDNN0w",
        "outputId": "e4520063-e85b-43ee-fabd-4316f2e72663"
      },
      "outputs": [
        {
          "name": "stdout",
          "output_type": "stream",
          "text": [
            "   Age Age_binned Age_binned_labels\n",
            "0   19    (0, 20]                 1\n",
            "1   24   (20, 30]                 2\n",
            "2    4    (0, 20]                 1\n",
            "3   38   (30, 40]                 3\n",
            "4   46   (40, 50]                 4\n"
          ]
        }
      ],
      "source": [
        "print (patient_adherence[['Age','Age_binned','Age_binned_labels']].head())"
      ]
    },
    {
      "cell_type": "markdown",
      "metadata": {
        "id": "_R-zC1yUNN0x"
      },
      "source": [
        "**3. Dummy Coding**"
      ]
    },
    {
      "cell_type": "code",
      "execution_count": null,
      "metadata": {
        "id": "xQPVsK9yNN0x"
      },
      "outputs": [],
      "source": [
        "patient_adherence = pd.read_csv('./Patient Adherence.csv')"
      ]
    },
    {
      "cell_type": "code",
      "execution_count": null,
      "metadata": {
        "id": "NfPdV27_NN0x"
      },
      "outputs": [],
      "source": [
        "Gender_dummies = pd.get_dummies(patient_adherence.Gender,prefix=\"Gender\")"
      ]
    },
    {
      "cell_type": "code",
      "execution_count": null,
      "metadata": {
        "id": "l_0yxjclNN0x",
        "outputId": "1e068020-b837-4922-bb99-36c6572a514e"
      },
      "outputs": [
        {
          "data": {
            "text/html": [
              "<div>\n",
              "<style scoped>\n",
              "    .dataframe tbody tr th:only-of-type {\n",
              "        vertical-align: middle;\n",
              "    }\n",
              "\n",
              "    .dataframe tbody tr th {\n",
              "        vertical-align: top;\n",
              "    }\n",
              "\n",
              "    .dataframe thead th {\n",
              "        text-align: right;\n",
              "    }\n",
              "</style>\n",
              "<table border=\"1\" class=\"dataframe\">\n",
              "  <thead>\n",
              "    <tr style=\"text-align: right;\">\n",
              "      <th></th>\n",
              "      <th>Gender_F</th>\n",
              "      <th>Gender_M</th>\n",
              "    </tr>\n",
              "  </thead>\n",
              "  <tbody>\n",
              "    <tr>\n",
              "      <th>0</th>\n",
              "      <td>0</td>\n",
              "      <td>1</td>\n",
              "    </tr>\n",
              "    <tr>\n",
              "      <th>1</th>\n",
              "      <td>1</td>\n",
              "      <td>0</td>\n",
              "    </tr>\n",
              "    <tr>\n",
              "      <th>2</th>\n",
              "      <td>1</td>\n",
              "      <td>0</td>\n",
              "    </tr>\n",
              "    <tr>\n",
              "      <th>3</th>\n",
              "      <td>0</td>\n",
              "      <td>1</td>\n",
              "    </tr>\n",
              "    <tr>\n",
              "      <th>4</th>\n",
              "      <td>1</td>\n",
              "      <td>0</td>\n",
              "    </tr>\n",
              "    <tr>\n",
              "      <th>...</th>\n",
              "      <td>...</td>\n",
              "      <td>...</td>\n",
              "    </tr>\n",
              "    <tr>\n",
              "      <th>180207</th>\n",
              "      <td>0</td>\n",
              "      <td>1</td>\n",
              "    </tr>\n",
              "    <tr>\n",
              "      <th>180208</th>\n",
              "      <td>0</td>\n",
              "      <td>1</td>\n",
              "    </tr>\n",
              "    <tr>\n",
              "      <th>180209</th>\n",
              "      <td>1</td>\n",
              "      <td>0</td>\n",
              "    </tr>\n",
              "    <tr>\n",
              "      <th>180210</th>\n",
              "      <td>0</td>\n",
              "      <td>1</td>\n",
              "    </tr>\n",
              "    <tr>\n",
              "      <th>180211</th>\n",
              "      <td>0</td>\n",
              "      <td>1</td>\n",
              "    </tr>\n",
              "  </tbody>\n",
              "</table>\n",
              "<p>180212 rows × 2 columns</p>\n",
              "</div>"
            ],
            "text/plain": [
              "        Gender_F  Gender_M\n",
              "0              0         1\n",
              "1              1         0\n",
              "2              1         0\n",
              "3              0         1\n",
              "4              1         0\n",
              "...          ...       ...\n",
              "180207         0         1\n",
              "180208         0         1\n",
              "180209         1         0\n",
              "180210         0         1\n",
              "180211         0         1\n",
              "\n",
              "[180212 rows x 2 columns]"
            ]
          },
          "execution_count": 68,
          "metadata": {},
          "output_type": "execute_result"
        }
      ],
      "source": [
        "Gender_dummies"
      ]
    },
    {
      "cell_type": "code",
      "execution_count": null,
      "metadata": {
        "id": "V0ZkH49ENN0x"
      },
      "outputs": [],
      "source": [
        "patient_adherence = pd.concat([patient_adherence,Gender_dummies],axis=1)"
      ]
    },
    {
      "cell_type": "code",
      "execution_count": null,
      "metadata": {
        "id": "t-Fi-iMUNN0y"
      },
      "outputs": [],
      "source": [
        "patient_adherence.reset_index(drop=True,inplace = True)"
      ]
    },
    {
      "cell_type": "code",
      "execution_count": null,
      "metadata": {
        "id": "CBiZKic4NN0y",
        "outputId": "8df1353e-9504-45a1-8da4-e57089daa303"
      },
      "outputs": [
        {
          "data": {
            "text/html": [
              "<div>\n",
              "<style scoped>\n",
              "    .dataframe tbody tr th:only-of-type {\n",
              "        vertical-align: middle;\n",
              "    }\n",
              "\n",
              "    .dataframe tbody tr th {\n",
              "        vertical-align: top;\n",
              "    }\n",
              "\n",
              "    .dataframe thead th {\n",
              "        text-align: right;\n",
              "    }\n",
              "</style>\n",
              "<table border=\"1\" class=\"dataframe\">\n",
              "  <thead>\n",
              "    <tr style=\"text-align: right;\">\n",
              "      <th></th>\n",
              "      <th>patient_id</th>\n",
              "      <th>Age</th>\n",
              "      <th>Gender</th>\n",
              "      <th>Prescription_period</th>\n",
              "      <th>Diabetes</th>\n",
              "      <th>Alcoholism</th>\n",
              "      <th>HyperTension</th>\n",
              "      <th>Smokes</th>\n",
              "      <th>Tuberculosis</th>\n",
              "      <th>Sms_Reminder</th>\n",
              "      <th>Adherence</th>\n",
              "      <th>Gender_F</th>\n",
              "      <th>Gender_M</th>\n",
              "    </tr>\n",
              "  </thead>\n",
              "  <tbody>\n",
              "    <tr>\n",
              "      <th>0</th>\n",
              "      <td>1</td>\n",
              "      <td>19</td>\n",
              "      <td>M</td>\n",
              "      <td>7</td>\n",
              "      <td>0</td>\n",
              "      <td>0</td>\n",
              "      <td>0</td>\n",
              "      <td>0</td>\n",
              "      <td>0</td>\n",
              "      <td>0</td>\n",
              "      <td>No</td>\n",
              "      <td>0</td>\n",
              "      <td>1</td>\n",
              "    </tr>\n",
              "    <tr>\n",
              "      <th>1</th>\n",
              "      <td>2</td>\n",
              "      <td>24</td>\n",
              "      <td>F</td>\n",
              "      <td>59</td>\n",
              "      <td>0</td>\n",
              "      <td>0</td>\n",
              "      <td>0</td>\n",
              "      <td>0</td>\n",
              "      <td>0</td>\n",
              "      <td>0</td>\n",
              "      <td>No</td>\n",
              "      <td>1</td>\n",
              "      <td>0</td>\n",
              "    </tr>\n",
              "    <tr>\n",
              "      <th>2</th>\n",
              "      <td>3</td>\n",
              "      <td>4</td>\n",
              "      <td>F</td>\n",
              "      <td>43</td>\n",
              "      <td>0</td>\n",
              "      <td>0</td>\n",
              "      <td>0</td>\n",
              "      <td>0</td>\n",
              "      <td>0</td>\n",
              "      <td>0</td>\n",
              "      <td>No</td>\n",
              "      <td>1</td>\n",
              "      <td>0</td>\n",
              "    </tr>\n",
              "    <tr>\n",
              "      <th>3</th>\n",
              "      <td>4</td>\n",
              "      <td>38</td>\n",
              "      <td>M</td>\n",
              "      <td>66</td>\n",
              "      <td>0</td>\n",
              "      <td>0</td>\n",
              "      <td>0</td>\n",
              "      <td>0</td>\n",
              "      <td>0</td>\n",
              "      <td>1</td>\n",
              "      <td>No</td>\n",
              "      <td>0</td>\n",
              "      <td>1</td>\n",
              "    </tr>\n",
              "    <tr>\n",
              "      <th>4</th>\n",
              "      <td>5</td>\n",
              "      <td>46</td>\n",
              "      <td>F</td>\n",
              "      <td>98</td>\n",
              "      <td>0</td>\n",
              "      <td>0</td>\n",
              "      <td>0</td>\n",
              "      <td>0</td>\n",
              "      <td>0</td>\n",
              "      <td>1</td>\n",
              "      <td>No</td>\n",
              "      <td>1</td>\n",
              "      <td>0</td>\n",
              "    </tr>\n",
              "    <tr>\n",
              "      <th>...</th>\n",
              "      <td>...</td>\n",
              "      <td>...</td>\n",
              "      <td>...</td>\n",
              "      <td>...</td>\n",
              "      <td>...</td>\n",
              "      <td>...</td>\n",
              "      <td>...</td>\n",
              "      <td>...</td>\n",
              "      <td>...</td>\n",
              "      <td>...</td>\n",
              "      <td>...</td>\n",
              "      <td>...</td>\n",
              "      <td>...</td>\n",
              "    </tr>\n",
              "    <tr>\n",
              "      <th>180207</th>\n",
              "      <td>180208</td>\n",
              "      <td>17</td>\n",
              "      <td>M</td>\n",
              "      <td>84</td>\n",
              "      <td>0</td>\n",
              "      <td>0</td>\n",
              "      <td>0</td>\n",
              "      <td>0</td>\n",
              "      <td>0</td>\n",
              "      <td>0</td>\n",
              "      <td>No</td>\n",
              "      <td>0</td>\n",
              "      <td>1</td>\n",
              "    </tr>\n",
              "    <tr>\n",
              "      <th>180208</th>\n",
              "      <td>180209</td>\n",
              "      <td>41</td>\n",
              "      <td>M</td>\n",
              "      <td>88</td>\n",
              "      <td>0</td>\n",
              "      <td>0</td>\n",
              "      <td>1</td>\n",
              "      <td>0</td>\n",
              "      <td>0</td>\n",
              "      <td>1</td>\n",
              "      <td>No</td>\n",
              "      <td>0</td>\n",
              "      <td>1</td>\n",
              "    </tr>\n",
              "    <tr>\n",
              "      <th>180209</th>\n",
              "      <td>180210</td>\n",
              "      <td>48</td>\n",
              "      <td>F</td>\n",
              "      <td>22</td>\n",
              "      <td>0</td>\n",
              "      <td>0</td>\n",
              "      <td>0</td>\n",
              "      <td>0</td>\n",
              "      <td>0</td>\n",
              "      <td>0</td>\n",
              "      <td>Yes</td>\n",
              "      <td>1</td>\n",
              "      <td>0</td>\n",
              "    </tr>\n",
              "    <tr>\n",
              "      <th>180210</th>\n",
              "      <td>180211</td>\n",
              "      <td>5</td>\n",
              "      <td>M</td>\n",
              "      <td>104</td>\n",
              "      <td>0</td>\n",
              "      <td>0</td>\n",
              "      <td>0</td>\n",
              "      <td>0</td>\n",
              "      <td>0</td>\n",
              "      <td>0</td>\n",
              "      <td>No</td>\n",
              "      <td>0</td>\n",
              "      <td>1</td>\n",
              "    </tr>\n",
              "    <tr>\n",
              "      <th>180211</th>\n",
              "      <td>180212</td>\n",
              "      <td>0</td>\n",
              "      <td>M</td>\n",
              "      <td>96</td>\n",
              "      <td>0</td>\n",
              "      <td>0</td>\n",
              "      <td>0</td>\n",
              "      <td>0</td>\n",
              "      <td>0</td>\n",
              "      <td>1</td>\n",
              "      <td>No</td>\n",
              "      <td>0</td>\n",
              "      <td>1</td>\n",
              "    </tr>\n",
              "  </tbody>\n",
              "</table>\n",
              "<p>180212 rows × 13 columns</p>\n",
              "</div>"
            ],
            "text/plain": [
              "        patient_id  Age Gender  Prescription_period  Diabetes  Alcoholism  \\\n",
              "0                1   19      M                    7         0           0   \n",
              "1                2   24      F                   59         0           0   \n",
              "2                3    4      F                   43         0           0   \n",
              "3                4   38      M                   66         0           0   \n",
              "4                5   46      F                   98         0           0   \n",
              "...            ...  ...    ...                  ...       ...         ...   \n",
              "180207      180208   17      M                   84         0           0   \n",
              "180208      180209   41      M                   88         0           0   \n",
              "180209      180210   48      F                   22         0           0   \n",
              "180210      180211    5      M                  104         0           0   \n",
              "180211      180212    0      M                   96         0           0   \n",
              "\n",
              "        HyperTension  Smokes  Tuberculosis  Sms_Reminder Adherence  Gender_F  \\\n",
              "0                  0       0             0             0        No         0   \n",
              "1                  0       0             0             0        No         1   \n",
              "2                  0       0             0             0        No         1   \n",
              "3                  0       0             0             1        No         0   \n",
              "4                  0       0             0             1        No         1   \n",
              "...              ...     ...           ...           ...       ...       ...   \n",
              "180207             0       0             0             0        No         0   \n",
              "180208             1       0             0             1        No         0   \n",
              "180209             0       0             0             0       Yes         1   \n",
              "180210             0       0             0             0        No         0   \n",
              "180211             0       0             0             1        No         0   \n",
              "\n",
              "        Gender_M  \n",
              "0              1  \n",
              "1              0  \n",
              "2              0  \n",
              "3              1  \n",
              "4              0  \n",
              "...          ...  \n",
              "180207         1  \n",
              "180208         1  \n",
              "180209         0  \n",
              "180210         1  \n",
              "180211         1  \n",
              "\n",
              "[180212 rows x 13 columns]"
            ]
          },
          "execution_count": 71,
          "metadata": {},
          "output_type": "execute_result"
        }
      ],
      "source": [
        "patient_adherence"
      ]
    },
    {
      "cell_type": "code",
      "execution_count": null,
      "metadata": {
        "id": "H3b6Bh8hNN0y",
        "outputId": "26524af4-ad69-4cb6-f9e0-7dad9bf62bf2"
      },
      "outputs": [
        {
          "name": "stdout",
          "output_type": "stream",
          "text": [
            "       Gender  Gender_F  Gender_M\n",
            "0           M         0         1\n",
            "1           F         1         0\n",
            "2           F         1         0\n",
            "3           M         0         1\n",
            "4           F         1         0\n",
            "...       ...       ...       ...\n",
            "180207      M         0         1\n",
            "180208      M         0         1\n",
            "180209      F         1         0\n",
            "180210      M         0         1\n",
            "180211      M         0         1\n",
            "\n",
            "[180212 rows x 3 columns]\n"
          ]
        }
      ],
      "source": [
        "print (patient_adherence[['Gender','Gender_F','Gender_M']])"
      ]
    },
    {
      "cell_type": "markdown",
      "metadata": {
        "id": "oJEPMlrpNN0z"
      },
      "source": [
        "## Normalization"
      ]
    },
    {
      "cell_type": "code",
      "execution_count": null,
      "metadata": {
        "id": "XI4eF0VBNN0z"
      },
      "outputs": [],
      "source": [
        "from sklearn.preprocessing import MinMaxScaler"
      ]
    },
    {
      "cell_type": "code",
      "execution_count": null,
      "metadata": {
        "id": "zPM6z6tQNN0z"
      },
      "outputs": [],
      "source": [
        "minmaxscaler = MinMaxScaler()"
      ]
    },
    {
      "cell_type": "code",
      "execution_count": null,
      "metadata": {
        "id": "WCt7SCmFNN00",
        "outputId": "15689b43-4d09-45c3-e241-4b6878eeb224"
      },
      "outputs": [
        {
          "data": {
            "text/plain": [
              "MinMaxScaler()"
            ]
          },
          "execution_count": 89,
          "metadata": {},
          "output_type": "execute_result"
        }
      ],
      "source": [
        "minmaxscaler.fit(df_imputed[num_attr])"
      ]
    },
    {
      "cell_type": "code",
      "execution_count": null,
      "metadata": {
        "id": "AW2g0rn0NN00",
        "outputId": "f9fbdd1b-fea0-4e7e-fe9e-4ea495622a9a"
      },
      "outputs": [
        {
          "data": {
            "text/plain": [
              "array([ 4.,  0.,  1., 19.,  1.,  1.])"
            ]
          },
          "execution_count": 90,
          "metadata": {},
          "output_type": "execute_result"
        }
      ],
      "source": [
        "minmaxscaler.data_min_"
      ]
    },
    {
      "cell_type": "code",
      "execution_count": null,
      "metadata": {
        "id": "neFLoJJ3NN00",
        "outputId": "c675a308-91b9-4bba-b297-12f7807b51b3"
      },
      "outputs": [
        {
          "data": {
            "text/plain": [
              "array([7.2000e+01, 1.8424e+04, 4.0000e+00, 7.5000e+01, 4.0000e+00,\n",
              "       2.0000e+00])"
            ]
          },
          "execution_count": 94,
          "metadata": {},
          "output_type": "execute_result"
        }
      ],
      "source": [
        "minmaxscaler.data_max_"
      ]
    },
    {
      "cell_type": "code",
      "execution_count": null,
      "metadata": {
        "id": "7qm8ItNCNN01"
      },
      "outputs": [],
      "source": [
        "df_min_max_scaled = minmaxscaler.transform(df_imputed[num_attr])"
      ]
    },
    {
      "cell_type": "code",
      "execution_count": null,
      "metadata": {
        "id": "WxHWMyaMNN01"
      },
      "outputs": [],
      "source": [
        "df_min_max_scaled = pd.DataFrame(df_min_max_scaled,columns=num_attr)"
      ]
    },
    {
      "cell_type": "code",
      "execution_count": null,
      "metadata": {
        "id": "jxaHMkUvNN01",
        "outputId": "fe492230-db3e-4b75-9eb4-6b255316bc56"
      },
      "outputs": [
        {
          "data": {
            "text/html": [
              "<div>\n",
              "<style scoped>\n",
              "    .dataframe tbody tr th:only-of-type {\n",
              "        vertical-align: middle;\n",
              "    }\n",
              "\n",
              "    .dataframe tbody tr th {\n",
              "        vertical-align: top;\n",
              "    }\n",
              "\n",
              "    .dataframe thead th {\n",
              "        text-align: right;\n",
              "    }\n",
              "</style>\n",
              "<table border=\"1\" class=\"dataframe\">\n",
              "  <thead>\n",
              "    <tr style=\"text-align: right;\">\n",
              "      <th></th>\n",
              "      <th>DURATION</th>\n",
              "      <th>AMOUNT</th>\n",
              "      <th>INSTALL_RATE</th>\n",
              "      <th>AGE</th>\n",
              "      <th>NUM_CREDITS</th>\n",
              "      <th>NUM_DEPENDENTS</th>\n",
              "    </tr>\n",
              "  </thead>\n",
              "  <tbody>\n",
              "    <tr>\n",
              "      <th>0</th>\n",
              "      <td>0.029412</td>\n",
              "      <td>0.063450</td>\n",
              "      <td>1.000000</td>\n",
              "      <td>0.857143</td>\n",
              "      <td>0.333333</td>\n",
              "      <td>0.0</td>\n",
              "    </tr>\n",
              "    <tr>\n",
              "      <th>1</th>\n",
              "      <td>0.647059</td>\n",
              "      <td>0.323003</td>\n",
              "      <td>0.333333</td>\n",
              "      <td>0.053571</td>\n",
              "      <td>0.000000</td>\n",
              "      <td>0.0</td>\n",
              "    </tr>\n",
              "    <tr>\n",
              "      <th>2</th>\n",
              "      <td>0.117647</td>\n",
              "      <td>0.113765</td>\n",
              "      <td>0.333333</td>\n",
              "      <td>0.535714</td>\n",
              "      <td>0.000000</td>\n",
              "      <td>1.0</td>\n",
              "    </tr>\n",
              "    <tr>\n",
              "      <th>3</th>\n",
              "      <td>0.558824</td>\n",
              "      <td>0.000000</td>\n",
              "      <td>0.333333</td>\n",
              "      <td>0.464286</td>\n",
              "      <td>0.000000</td>\n",
              "      <td>1.0</td>\n",
              "    </tr>\n",
              "    <tr>\n",
              "      <th>4</th>\n",
              "      <td>0.294118</td>\n",
              "      <td>0.000000</td>\n",
              "      <td>0.666667</td>\n",
              "      <td>0.607143</td>\n",
              "      <td>0.333333</td>\n",
              "      <td>1.0</td>\n",
              "    </tr>\n",
              "  </tbody>\n",
              "</table>\n",
              "</div>"
            ],
            "text/plain": [
              "   DURATION    AMOUNT  INSTALL_RATE       AGE  NUM_CREDITS  NUM_DEPENDENTS\n",
              "0  0.029412  0.063450      1.000000  0.857143     0.333333             0.0\n",
              "1  0.647059  0.323003      0.333333  0.053571     0.000000             0.0\n",
              "2  0.117647  0.113765      0.333333  0.535714     0.000000             1.0\n",
              "3  0.558824  0.000000      0.333333  0.464286     0.000000             1.0\n",
              "4  0.294118  0.000000      0.666667  0.607143     0.333333             1.0"
            ]
          },
          "execution_count": 97,
          "metadata": {},
          "output_type": "execute_result"
        }
      ],
      "source": [
        "df_min_max_scaled.head()"
      ]
    },
    {
      "cell_type": "code",
      "execution_count": null,
      "metadata": {
        "id": "u2OZs5rDNN02",
        "outputId": "093cf49b-f2d5-4e51-a159-38f07f4221f6"
      },
      "outputs": [
        {
          "data": {
            "text/html": [
              "<div>\n",
              "<style scoped>\n",
              "    .dataframe tbody tr th:only-of-type {\n",
              "        vertical-align: middle;\n",
              "    }\n",
              "\n",
              "    .dataframe tbody tr th {\n",
              "        vertical-align: top;\n",
              "    }\n",
              "\n",
              "    .dataframe thead th {\n",
              "        text-align: right;\n",
              "    }\n",
              "</style>\n",
              "<table border=\"1\" class=\"dataframe\">\n",
              "  <thead>\n",
              "    <tr style=\"text-align: right;\">\n",
              "      <th></th>\n",
              "      <th>DURATION</th>\n",
              "      <th>AMOUNT</th>\n",
              "      <th>INSTALL_RATE</th>\n",
              "      <th>AGE</th>\n",
              "      <th>NUM_CREDITS</th>\n",
              "      <th>NUM_DEPENDENTS</th>\n",
              "    </tr>\n",
              "  </thead>\n",
              "  <tbody>\n",
              "    <tr>\n",
              "      <th>count</th>\n",
              "      <td>1000.000000</td>\n",
              "      <td>1000.000000</td>\n",
              "      <td>1000.000000</td>\n",
              "      <td>1000.000000</td>\n",
              "      <td>1000.000000</td>\n",
              "      <td>1000.000000</td>\n",
              "    </tr>\n",
              "    <tr>\n",
              "      <th>mean</th>\n",
              "      <td>0.248792</td>\n",
              "      <td>0.176959</td>\n",
              "      <td>0.657603</td>\n",
              "      <td>0.294733</td>\n",
              "      <td>0.135480</td>\n",
              "      <td>0.156093</td>\n",
              "    </tr>\n",
              "    <tr>\n",
              "      <th>std</th>\n",
              "      <td>0.177244</td>\n",
              "      <td>0.152603</td>\n",
              "      <td>0.371709</td>\n",
              "      <td>0.201532</td>\n",
              "      <td>0.191523</td>\n",
              "      <td>0.361852</td>\n",
              "    </tr>\n",
              "    <tr>\n",
              "      <th>min</th>\n",
              "      <td>0.000000</td>\n",
              "      <td>0.000000</td>\n",
              "      <td>0.000000</td>\n",
              "      <td>0.000000</td>\n",
              "      <td>0.000000</td>\n",
              "      <td>0.000000</td>\n",
              "    </tr>\n",
              "    <tr>\n",
              "      <th>25%</th>\n",
              "      <td>0.117647</td>\n",
              "      <td>0.074455</td>\n",
              "      <td>0.333333</td>\n",
              "      <td>0.142857</td>\n",
              "      <td>0.000000</td>\n",
              "      <td>0.000000</td>\n",
              "    </tr>\n",
              "    <tr>\n",
              "      <th>50%</th>\n",
              "      <td>0.205882</td>\n",
              "      <td>0.126276</td>\n",
              "      <td>0.666667</td>\n",
              "      <td>0.250000</td>\n",
              "      <td>0.000000</td>\n",
              "      <td>0.000000</td>\n",
              "    </tr>\n",
              "    <tr>\n",
              "      <th>75%</th>\n",
              "      <td>0.294118</td>\n",
              "      <td>0.214476</td>\n",
              "      <td>1.000000</td>\n",
              "      <td>0.410714</td>\n",
              "      <td>0.333333</td>\n",
              "      <td>0.000000</td>\n",
              "    </tr>\n",
              "    <tr>\n",
              "      <th>max</th>\n",
              "      <td>1.000000</td>\n",
              "      <td>1.000000</td>\n",
              "      <td>1.000000</td>\n",
              "      <td>1.000000</td>\n",
              "      <td>1.000000</td>\n",
              "      <td>1.000000</td>\n",
              "    </tr>\n",
              "  </tbody>\n",
              "</table>\n",
              "</div>"
            ],
            "text/plain": [
              "          DURATION       AMOUNT  INSTALL_RATE          AGE  NUM_CREDITS  \\\n",
              "count  1000.000000  1000.000000   1000.000000  1000.000000  1000.000000   \n",
              "mean      0.248792     0.176959      0.657603     0.294733     0.135480   \n",
              "std       0.177244     0.152603      0.371709     0.201532     0.191523   \n",
              "min       0.000000     0.000000      0.000000     0.000000     0.000000   \n",
              "25%       0.117647     0.074455      0.333333     0.142857     0.000000   \n",
              "50%       0.205882     0.126276      0.666667     0.250000     0.000000   \n",
              "75%       0.294118     0.214476      1.000000     0.410714     0.333333   \n",
              "max       1.000000     1.000000      1.000000     1.000000     1.000000   \n",
              "\n",
              "       NUM_DEPENDENTS  \n",
              "count     1000.000000  \n",
              "mean         0.156093  \n",
              "std          0.361852  \n",
              "min          0.000000  \n",
              "25%          0.000000  \n",
              "50%          0.000000  \n",
              "75%          0.000000  \n",
              "max          1.000000  "
            ]
          },
          "execution_count": 98,
          "metadata": {},
          "output_type": "execute_result"
        }
      ],
      "source": [
        "df_min_max_scaled[num_attr].describe()"
      ]
    },
    {
      "cell_type": "markdown",
      "metadata": {
        "id": "jIN7owVdNN03"
      },
      "source": [
        "## Standardizing the data"
      ]
    },
    {
      "cell_type": "code",
      "execution_count": null,
      "metadata": {
        "id": "vHO0lRSKNN04"
      },
      "outputs": [],
      "source": [
        "from sklearn.preprocessing import  StandardScaler"
      ]
    },
    {
      "cell_type": "code",
      "execution_count": null,
      "metadata": {
        "id": "c92mdRcnNN04"
      },
      "outputs": [],
      "source": [
        "scaler = StandardScaler(with_mean=True, with_std=True).fit(df_imputed[num_attr])"
      ]
    },
    {
      "cell_type": "code",
      "execution_count": null,
      "metadata": {
        "id": "z4sL7Y-2NN05",
        "outputId": "1c714507-f583-45e0-938c-85a1030f2534"
      },
      "outputs": [
        {
          "data": {
            "text/plain": [
              "StandardScaler()"
            ]
          },
          "execution_count": 101,
          "metadata": {},
          "output_type": "execute_result"
        }
      ],
      "source": [
        "scaler"
      ]
    },
    {
      "cell_type": "code",
      "execution_count": null,
      "metadata": {
        "id": "2T1I_zEhNN05",
        "outputId": "bb3ebce2-0bc5-4f2e-9559-ec703e555559"
      },
      "outputs": [
        {
          "data": {
            "text/plain": [
              "array([2.09178357e+01, 3.26028788e+03, 2.97280967e+00, 3.55050505e+01,\n",
              "       1.40643863e+00, 1.15609265e+00])"
            ]
          },
          "execution_count": 102,
          "metadata": {},
          "output_type": "execute_result"
        }
      ],
      "source": [
        "scaler.mean_"
      ]
    },
    {
      "cell_type": "code",
      "execution_count": null,
      "metadata": {
        "id": "Kbkxg_G_NN06"
      },
      "outputs": [],
      "source": [
        "abc  = scaler.transform(df_imputed[num_attr])"
      ]
    },
    {
      "cell_type": "code",
      "execution_count": null,
      "metadata": {
        "id": "AXXkLaD_NN06"
      },
      "outputs": [],
      "source": [
        "df_scaled = pd.DataFrame(scaler.transform(df_imputed[num_attr]),columns=num_attr)"
      ]
    },
    {
      "cell_type": "code",
      "execution_count": null,
      "metadata": {
        "id": "qECdBvMUNN06",
        "outputId": "26789171-1a0f-4364-ab34-9683c8d11390"
      },
      "outputs": [
        {
          "data": {
            "text/html": [
              "<div>\n",
              "<style scoped>\n",
              "    .dataframe tbody tr th:only-of-type {\n",
              "        vertical-align: middle;\n",
              "    }\n",
              "\n",
              "    .dataframe tbody tr th {\n",
              "        vertical-align: top;\n",
              "    }\n",
              "\n",
              "    .dataframe thead th {\n",
              "        text-align: right;\n",
              "    }\n",
              "</style>\n",
              "<table border=\"1\" class=\"dataframe\">\n",
              "  <thead>\n",
              "    <tr style=\"text-align: right;\">\n",
              "      <th></th>\n",
              "      <th>DURATION</th>\n",
              "      <th>AMOUNT</th>\n",
              "      <th>INSTALL_RATE</th>\n",
              "      <th>AGE</th>\n",
              "      <th>NUM_CREDITS</th>\n",
              "      <th>NUM_DEPENDENTS</th>\n",
              "    </tr>\n",
              "  </thead>\n",
              "  <tbody>\n",
              "    <tr>\n",
              "      <th>0</th>\n",
              "      <td>-1.238350</td>\n",
              "      <td>-0.744192</td>\n",
              "      <td>0.921603</td>\n",
              "      <td>2.792072</td>\n",
              "      <td>1.033573</td>\n",
              "      <td>-0.431588</td>\n",
              "    </tr>\n",
              "    <tr>\n",
              "      <th>1</th>\n",
              "      <td>2.248127</td>\n",
              "      <td>0.957499</td>\n",
              "      <td>-0.872812</td>\n",
              "      <td>-1.197242</td>\n",
              "      <td>-0.707735</td>\n",
              "      <td>-0.431588</td>\n",
              "    </tr>\n",
              "    <tr>\n",
              "      <th>2</th>\n",
              "      <td>-0.740282</td>\n",
              "      <td>-0.414316</td>\n",
              "      <td>-0.872812</td>\n",
              "      <td>1.196346</td>\n",
              "      <td>-0.707735</td>\n",
              "      <td>2.333359</td>\n",
              "    </tr>\n",
              "    <tr>\n",
              "      <th>3</th>\n",
              "      <td>1.750059</td>\n",
              "      <td>-1.160184</td>\n",
              "      <td>-0.872812</td>\n",
              "      <td>0.841741</td>\n",
              "      <td>-0.707735</td>\n",
              "      <td>2.333359</td>\n",
              "    </tr>\n",
              "    <tr>\n",
              "      <th>4</th>\n",
              "      <td>0.255855</td>\n",
              "      <td>-1.160184</td>\n",
              "      <td>0.024395</td>\n",
              "      <td>1.550952</td>\n",
              "      <td>1.033573</td>\n",
              "      <td>2.333359</td>\n",
              "    </tr>\n",
              "  </tbody>\n",
              "</table>\n",
              "</div>"
            ],
            "text/plain": [
              "   DURATION    AMOUNT  INSTALL_RATE       AGE  NUM_CREDITS  NUM_DEPENDENTS\n",
              "0 -1.238350 -0.744192      0.921603  2.792072     1.033573       -0.431588\n",
              "1  2.248127  0.957499     -0.872812 -1.197242    -0.707735       -0.431588\n",
              "2 -0.740282 -0.414316     -0.872812  1.196346    -0.707735        2.333359\n",
              "3  1.750059 -1.160184     -0.872812  0.841741    -0.707735        2.333359\n",
              "4  0.255855 -1.160184      0.024395  1.550952     1.033573        2.333359"
            ]
          },
          "execution_count": 105,
          "metadata": {},
          "output_type": "execute_result"
        }
      ],
      "source": [
        "df_scaled.head()"
      ]
    },
    {
      "cell_type": "code",
      "execution_count": null,
      "metadata": {
        "id": "8xIi6kBoNN06",
        "outputId": "da293f37-c953-4454-d408-1000c8a9237d"
      },
      "outputs": [
        {
          "data": {
            "text/html": [
              "<div>\n",
              "<style scoped>\n",
              "    .dataframe tbody tr th:only-of-type {\n",
              "        vertical-align: middle;\n",
              "    }\n",
              "\n",
              "    .dataframe tbody tr th {\n",
              "        vertical-align: top;\n",
              "    }\n",
              "\n",
              "    .dataframe thead th {\n",
              "        text-align: right;\n",
              "    }\n",
              "</style>\n",
              "<table border=\"1\" class=\"dataframe\">\n",
              "  <thead>\n",
              "    <tr style=\"text-align: right;\">\n",
              "      <th></th>\n",
              "      <th>DURATION</th>\n",
              "      <th>AMOUNT</th>\n",
              "      <th>INSTALL_RATE</th>\n",
              "      <th>AGE</th>\n",
              "      <th>NUM_CREDITS</th>\n",
              "      <th>NUM_DEPENDENTS</th>\n",
              "    </tr>\n",
              "  </thead>\n",
              "  <tbody>\n",
              "    <tr>\n",
              "      <th>count</th>\n",
              "      <td>1.000000e+03</td>\n",
              "      <td>1.000000e+03</td>\n",
              "      <td>1.000000e+03</td>\n",
              "      <td>1.000000e+03</td>\n",
              "      <td>1.000000e+03</td>\n",
              "      <td>1.000000e+03</td>\n",
              "    </tr>\n",
              "    <tr>\n",
              "      <th>mean</th>\n",
              "      <td>3.952394e-16</td>\n",
              "      <td>8.975682e-17</td>\n",
              "      <td>-2.116328e-16</td>\n",
              "      <td>1.887379e-17</td>\n",
              "      <td>9.303669e-17</td>\n",
              "      <td>-7.814860e-16</td>\n",
              "    </tr>\n",
              "    <tr>\n",
              "      <th>std</th>\n",
              "      <td>1.000500e+00</td>\n",
              "      <td>1.000500e+00</td>\n",
              "      <td>1.000500e+00</td>\n",
              "      <td>1.000500e+00</td>\n",
              "      <td>1.000500e+00</td>\n",
              "      <td>1.000500e+00</td>\n",
              "    </tr>\n",
              "    <tr>\n",
              "      <th>min</th>\n",
              "      <td>-1.404372e+00</td>\n",
              "      <td>-1.160184e+00</td>\n",
              "      <td>-1.770019e+00</td>\n",
              "      <td>-1.463196e+00</td>\n",
              "      <td>-7.077346e-01</td>\n",
              "      <td>-4.315879e-01</td>\n",
              "    </tr>\n",
              "    <tr>\n",
              "      <th>25%</th>\n",
              "      <td>-7.402816e-01</td>\n",
              "      <td>-6.720424e-01</td>\n",
              "      <td>-8.728118e-01</td>\n",
              "      <td>-7.539847e-01</td>\n",
              "      <td>-7.077346e-01</td>\n",
              "      <td>-4.315879e-01</td>\n",
              "    </tr>\n",
              "    <tr>\n",
              "      <th>50%</th>\n",
              "      <td>-2.422135e-01</td>\n",
              "      <td>-3.322915e-01</td>\n",
              "      <td>2.439536e-02</td>\n",
              "      <td>-2.220763e-01</td>\n",
              "      <td>-7.077346e-01</td>\n",
              "      <td>-4.315879e-01</td>\n",
              "    </tr>\n",
              "    <tr>\n",
              "      <th>75%</th>\n",
              "      <td>2.558546e-01</td>\n",
              "      <td>2.459701e-01</td>\n",
              "      <td>9.216025e-01</td>\n",
              "      <td>5.757864e-01</td>\n",
              "      <td>1.033573e+00</td>\n",
              "      <td>-4.315879e-01</td>\n",
              "    </tr>\n",
              "    <tr>\n",
              "      <th>max</th>\n",
              "      <td>4.240399e+00</td>\n",
              "      <td>5.396057e+00</td>\n",
              "      <td>9.216025e-01</td>\n",
              "      <td>3.501283e+00</td>\n",
              "      <td>4.516188e+00</td>\n",
              "      <td>2.333359e+00</td>\n",
              "    </tr>\n",
              "  </tbody>\n",
              "</table>\n",
              "</div>"
            ],
            "text/plain": [
              "           DURATION        AMOUNT  INSTALL_RATE           AGE   NUM_CREDITS  \\\n",
              "count  1.000000e+03  1.000000e+03  1.000000e+03  1.000000e+03  1.000000e+03   \n",
              "mean   3.952394e-16  8.975682e-17 -2.116328e-16  1.887379e-17  9.303669e-17   \n",
              "std    1.000500e+00  1.000500e+00  1.000500e+00  1.000500e+00  1.000500e+00   \n",
              "min   -1.404372e+00 -1.160184e+00 -1.770019e+00 -1.463196e+00 -7.077346e-01   \n",
              "25%   -7.402816e-01 -6.720424e-01 -8.728118e-01 -7.539847e-01 -7.077346e-01   \n",
              "50%   -2.422135e-01 -3.322915e-01  2.439536e-02 -2.220763e-01 -7.077346e-01   \n",
              "75%    2.558546e-01  2.459701e-01  9.216025e-01  5.757864e-01  1.033573e+00   \n",
              "max    4.240399e+00  5.396057e+00  9.216025e-01  3.501283e+00  4.516188e+00   \n",
              "\n",
              "       NUM_DEPENDENTS  \n",
              "count    1.000000e+03  \n",
              "mean    -7.814860e-16  \n",
              "std      1.000500e+00  \n",
              "min     -4.315879e-01  \n",
              "25%     -4.315879e-01  \n",
              "50%     -4.315879e-01  \n",
              "75%     -4.315879e-01  \n",
              "max      2.333359e+00  "
            ]
          },
          "execution_count": 88,
          "metadata": {},
          "output_type": "execute_result"
        }
      ],
      "source": [
        "df_scaled.describe()"
      ]
    },
    {
      "cell_type": "code",
      "execution_count": null,
      "metadata": {
        "id": "r84ZIU89NN06"
      },
      "outputs": [],
      "source": []
    },
    {
      "cell_type": "code",
      "execution_count": null,
      "metadata": {
        "id": "rdDvINHHNN06"
      },
      "outputs": [],
      "source": []
    }
  ],
  "metadata": {
    "kernelspec": {
      "display_name": "mlenv",
      "language": "python",
      "name": "mlenv"
    },
    "language_info": {
      "codemirror_mode": {
        "name": "ipython",
        "version": 3
      },
      "file_extension": ".py",
      "mimetype": "text/x-python",
      "name": "python",
      "nbconvert_exporter": "python",
      "pygments_lexer": "ipython3",
      "version": "3.8.5"
    },
    "colab": {
      "provenance": [],
      "include_colab_link": true
    }
  },
  "nbformat": 4,
  "nbformat_minor": 0
}